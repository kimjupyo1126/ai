{
 "cells": [
  {
   "cell_type": "code",
   "execution_count": 1,
   "id": "5b4bd03e",
   "metadata": {},
   "outputs": [
    {
     "data": {
      "text/html": [
       "\n",
       "<style>\n",
       "div.container{width:95% !important;}\n",
       "div.cell.code_cell.rendered{width:100%;}\n",
       "div.input_prompt{padding:0px;}\n",
       "div.CodeMirror {font-family:Consolas; font-size:22pt;}\n",
       "div.text_cell_render.rendered_html{font-size:18pt;}\n",
       "div.output {font-size:15pt; font-weight:bold;}\n",
       "div.input {font-family:Consolas; font-size:22pt;}\n",
       "div.prompt {min-width:70px;}\n",
       "div#toc-wrapper{padding-top:120px;}\n",
       "div.text_cell_render ul li{font-size:22pt;padding:5px;}\n",
       "table.dataframe{font-size:22px;}\n",
       "</style>\n"
      ],
      "text/plain": [
       "<IPython.core.display.HTML object>"
      ]
     },
     "metadata": {},
     "output_type": "display_data"
    }
   ],
   "source": [
    "from IPython.display import display, HTML\n",
    "display(HTML(\"\"\"\n",
    "<style>\n",
    "div.container{width:95% !important;}\n",
    "div.cell.code_cell.rendered{width:100%;}\n",
    "div.input_prompt{padding:0px;}\n",
    "div.CodeMirror {font-family:Consolas; font-size:22pt;}\n",
    "div.text_cell_render.rendered_html{font-size:18pt;}\n",
    "div.output {font-size:15pt; font-weight:bold;}\n",
    "div.input {font-family:Consolas; font-size:22pt;}\n",
    "div.prompt {min-width:70px;}\n",
    "div#toc-wrapper{padding-top:120px;}\n",
    "div.text_cell_render ul li{font-size:22pt;padding:5px;}\n",
    "table.dataframe{font-size:22px;}\n",
    "</style>\n",
    "\"\"\"))"
   ]
  },
  {
   "cell_type": "markdown",
   "id": "31c63805",
   "metadata": {},
   "source": [
    "<b><font size=\"7\" color=\"red\">ch09_파일입출력</font></b>\n",
    "- 파일 : txt, pickle(머신러닝모델저장, 배열)  csv, json, h5(딥러닝모델저장)"
   ]
  },
  {
   "cell_type": "markdown",
   "id": "85b82d5b",
   "metadata": {},
   "source": [
    "## 1절 txt 파일에 데이터 저장하고 불러오기"
   ]
  },
  {
   "cell_type": "code",
   "execution_count": 2,
   "id": "6ebdfe60",
   "metadata": {},
   "outputs": [
    {
     "name": "stdout",
     "output_type": "stream",
     "text": [
      "쓰기가능한지 True\n"
     ]
    }
   ],
   "source": [
    "#mode = 'r' 또는 'rt' : 텍스트 읽기모드로 열기. 파일이 없를 경우 예외 발생\n",
    "#mode = 'w' 또는 'wt' : 텍스트 쓰기모드로 열기. 폴더가 없를 경우 예외 발생\n",
    "            #파일이 없으면 생성, 파일이 있으면 덮어씀\n",
    "#mode = 'a' 또는 at'  : 텍스트 쓰기모드 생성,파일이 있으면 뒤에 추가\n",
    "            #파일이 없으면 생성, 파일이 s있으면 append\n",
    "f = open('data/ch09.txt','w') #encording='cp949'(win)\n",
    "print('쓰기가능한지', f.writable())\n",
    "f.write(\"쓰기가능한지\")\n",
    "f.close()"
   ]
  },
  {
   "cell_type": "code",
   "execution_count": 4,
   "id": "461ff402",
   "metadata": {},
   "outputs": [
    {
     "name": "stdout",
     "output_type": "stream",
     "text": [
      "쓰기 가능한지 : True\n"
     ]
    }
   ],
   "source": [
    "# with 구문을 사용하면 매번 close()하는 코드가 불필요\n",
    "with open('data/ch09.txt','wt') as f:\n",
    "    print(\"쓰기 가능한지 :\", f.writable())\n",
    "    f.write(\"phthon is easy\\n\")"
   ]
  },
  {
   "cell_type": "code",
   "execution_count": 6,
   "id": "e29b034d",
   "metadata": {},
   "outputs": [
    {
     "name": "stdout",
     "output_type": "stream",
     "text": [
      "쓰기 가능한지 : \n"
     ]
    }
   ],
   "source": [
    "with open('data/ch09.txt','wt') as f:\n",
    "    print(\"쓰기 가능한지 :\", file = f)\n",
    "    print(\"쓰기 가능한지 : \")"
   ]
  },
  {
   "cell_type": "code",
   "execution_count": null,
   "id": "cb1392c1",
   "metadata": {},
   "outputs": [],
   "source": [
    "- 한글 읽기/쓰기\n",
    " cp949(한글완성형확장형) :ㅐㅔ두 함수의 기본 인코딩\n",
    " utp-8(한글조합형)"
   ]
  },
  {
   "cell_type": "code",
   "execution_count": null,
   "id": "e4e665a7",
   "metadata": {},
   "outputs": [],
   "source": []
  },
  {
   "cell_type": "code",
   "execution_count": null,
   "id": "0d193eb9",
   "metadata": {},
   "outputs": [],
   "source": []
  },
  {
   "cell_type": "code",
   "execution_count": null,
   "id": "ec293228",
   "metadata": {},
   "outputs": [],
   "source": []
  }
 ],
 "metadata": {
  "kernelspec": {
   "display_name": "Python 3 (ipykernel)",
   "language": "python",
   "name": "python3"
  },
  "language_info": {
   "codemirror_mode": {
    "name": "ipython",
    "version": 3
   },
   "file_extension": ".py",
   "mimetype": "text/x-python",
   "name": "python",
   "nbconvert_exporter": "python",
   "pygments_lexer": "ipython3",
   "version": "3.10.9"
  },
  "toc": {
   "base_numbering": 1,
   "nav_menu": {},
   "number_sections": false,
   "sideBar": true,
   "skip_h1_title": false,
   "title_cell": "Table of Contents",
   "title_sidebar": "Contents",
   "toc_cell": false,
   "toc_position": {},
   "toc_section_display": true,
   "toc_window_display": true
  }
 },
 "nbformat": 4,
 "nbformat_minor": 5
}
