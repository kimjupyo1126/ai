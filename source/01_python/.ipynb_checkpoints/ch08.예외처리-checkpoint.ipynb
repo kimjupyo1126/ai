{
 "cells": [
  {
   "cell_type": "code",
   "execution_count": null,
   "id": "63dd3002",
   "metadata": {},
   "outputs": [],
   "source": [
    "from IPython.display import display, HTML\n",
    "display(HTML(\"\"\"\n",
    "<style>\n",
    "div.container{width:95% !important;}\n",
    "div.cell.code_cell.rendered{width:100%;}\n",
    "div.input_prompt{padding:0px;}\n",
    "div.CodeMirror {font-family:Consolas; font-size:22pt;}\n",
    "div.text_cell_render.rendered_html{font-size:18pt;}\n",
    "div.output {font-size:15pt; font-weight:bold;}\n",
    "div.input {font-family:Consolas; font-size:22pt;}\n",
    "div.prompt {min-width:70px;}\n",
    "div#toc-wrapper{padding-top:120px;}\n",
    "div.text_cell_render ul li{font-size:22pt;padding:5px;}\n",
    "table.dataframe{font-size:22px;}\n",
    "</style>\n",
    "\"\"\"))"
   ]
  },
  {
   "cell_type": "markdown",
   "id": "1244dea7",
   "metadata": {},
   "source": [
    "<b><font size=\"7\" color=\"red\">ch08_예외처리</font></b>\n",
    "- 에러 \n",
    "    1)문법에러 : 문법적으로 나타나는 에러(프로그램 수정)\n",
    "    2) 실행에러(실행시에러) : \n",
    "        * 시스템 에러 :프로그래머의 의지와 상관없이 나타난 에러\n",
    "        * 예외 : 정상적으로 동삭하는 프로그램에서 나타난  에러(Mild에러)\n",
    "# 1절 : 예외처리 필요성\n",
    "- 예외가 날 가능성이 있는 부분에 대새성 미리 예상하고 그에 대한 처리를 프로그램하는것 (필요한 이유 : 좀 더 안정적인 시스템)\n",
    "'''\n",
    "ex1)) 파일을 다룰때, 파일을 쓰거나 , 쓰기금지,파일 인코딩 방법에 인한 오류\n",
    "ex2)) 데이터베이스 프로그래밍 시 제약조건등에 의한 CRUD, 데이터베이스 서버  오류\n",
    "ex3)) 네트워크 프로그래밍 시 네트워크 연결 오류\n",
    "ex4)) 리스트나 튜플의 인덱스를 벗어난 참조에 의한 오류\n",
    "'''\n"
   ]
  },
  {
   "cell_type": "code",
   "execution_count": null,
   "id": "57974b2c",
   "metadata": {},
   "outputs": [],
   "source": [
    "# 파일명은(ch08.txt)은 사용자에게 입력받아 해당 파일 내용을 출력\n",
    "# 파일 명이 잘못되었거나 인코딩 방식시 다르거나\n",
    "filename = input('파일명은?')\n",
    "f= open('data/' + filename , 'r') #파일을 연다.\n",
    "f.read()\n",
    "f.close()"
   ]
  },
  {
   "cell_type": "code",
   "execution_count": null,
   "id": "ef0df086",
   "metadata": {},
   "outputs": [],
   "source": [
    "# 파일명은(ch08.txt)은 사용자에게 입력받아 해당 파일 내용을 출력\n",
    "# 인코딩 방식시 다르거나\n",
    "\n",
    "filename = input('파일명은?')\n",
    "f= open('data/' + filename , 'r', encording = 'utf-8') #파일을 연다.\n",
    "f.read()\n",
    "f.close()"
   ]
  },
  {
   "cell_type": "code",
   "execution_count": null,
   "id": "9f3500fd",
   "metadata": {},
   "outputs": [],
   "source": [
    "# 한글 인코딩 방법\n",
    "# 한글 완성형(euc-kr < cp949) : 한글 1만 1172자 중 850자만 코드표현법 (euc-kr)\n",
    "# 한글 조합형(utf-8) : c08.txt\n",
    "filename = input('파일명은?')\n",
    "f= open('data/' + filename , 'r', encording = 'utf-8') #파일을 연다.(cp949코드가 기본 인코딩 방식)\n",
    "f.read()\n",
    "f.close()"
   ]
  },
  {
   "cell_type": "code",
   "execution_count": null,
   "id": "1bdc1eb5",
   "metadata": {},
   "outputs": [],
   "source": [
    " a= [1,2,3]"
   ]
  },
  {
   "cell_type": "markdown",
   "id": "ceb86dea",
   "metadata": {},
   "source": [
    "## 2절 try~except로 예외처리\n",
    "## 2.1 try~except\n",
    "try:\n",
    "    예외가 발생할 가능성이 있는 명령어들\n",
    "except:\n",
    "    예외가 발생했을 경우 실행할 명령어들"
   ]
  },
  {
   "cell_type": "code",
   "execution_count": null,
   "id": "835e0821",
   "metadata": {},
   "outputs": [],
   "source": [
    "# 100을 입력받은 정수값으로 나눠 출력\n",
    "# ValueError: invalid literal for int() with base 10: '삼'(정수를 입력하지 않은 경우)\n",
    "# ZeroDivisionError: division by zero(0을 입력한 경우 예외 객체의 타입과 메세지)\n",
    "x = int(input('100을 나눌 정수를 입력하세요 :'))\n",
    "print('100을 입력한 정수로 나누면 {:.3f}'.format(100/x))"
   ]
  },
  {
   "cell_type": "code",
   "execution_count": null,
   "id": "a72ee943",
   "metadata": {},
   "outputs": [],
   "source": [
    "# 100을 입력받은 정수값으로 나눠 출력\n",
    "# ValueError: invalid literal for int() with base 10: '삼'(정수를 입력하지 않은 경우)\n",
    "# ZeroDivisionError: division by zero(0을 입력한 경우 예외 객체의 타입과 메세지)\n",
    "# try절에 예외가 발생되지 않으면 except절은 수행되지 않음\n",
    "# try절에 예외가 발생되면, try절 수행을 멈추고 except절을 수행\n",
    "try:\n",
    "    x = int(input('100을 나눌 정수를 입력하세요 :'))\n",
    "    print('100을 입력한 정수로 나누면 {:.3f}'.format(100/x))\n",
    "except:\n",
    "    print('유효한 정수가 아닙니다')    "
   ]
  },
  {
   "cell_type": "code",
   "execution_count": null,
   "id": "5b0e633e",
   "metadata": {},
   "outputs": [],
   "source": [
    "# 100을 나눌 유효한 정수를 입력할때까지 입력받아 100을 나눈 결과를 출력\n",
    "# ValueError: invalid literal for int() with base 10: '삼'(정수를 입력하지 않은 경우)\n",
    "# ZeroDivisionError: division by zero(0을 입력한 경우 예외 객체의 타입과 메세지)\n",
    "while True:\n",
    "    try :\n",
    "        x = int(input('100을 나눌 정수를 입력하세요 :'))\n",
    "        print('100을 입력한 정수로 나누면 {:.3f}'.format(100/x))\n",
    "        break\n",
    "    except:\n",
    "        print('유효한 정수가 아닙니다')"
   ]
  },
  {
   "cell_type": "code",
   "execution_count": null,
   "id": "d40c04e4",
   "metadata": {},
   "outputs": [],
   "source": [
    "## 2.2 지정된 예외처리\n",
    "'''\n",
    "try:\n",
    "    예외가 발생할 수도 있는 명령어\n",
    "except 예외타입1:\n",
    "    해당예외가 발생할 경우 실행할 명령어\n",
    "except 예외타입2:\n",
    "    해당예외가 발생할 경우 실행할 명령어\n",
    "'''\n"
   ]
  },
  {
   "cell_type": "code",
   "execution_count": null,
   "id": "7d790ebf",
   "metadata": {},
   "outputs": [],
   "source": [
    "# 정수를 입력받아 100을 나눈 결과를 출력\n",
    "# ValueError: invalid literal for int() with base 10: '삼'(정수를 입력하지 않은 경우)\n",
    "# ZeroDivisionError: division by zero(0을 입력한 경우 예외 객체의 타입과 메세지)\n",
    "try :\n",
    "    x = int(input('100을 나눌 정수를 입력하세요 :'))\n",
    "    print('100을 입력한 정수로 나누면 {:.3f}'.format(100/x))\n",
    "except ValueError:\n",
    "    print('정수를 입력하지 않았습니다.')\n",
    "except ZeroDivisionError:\n",
    "    print('0으로는 나눌 수 없어요.')\n",
    "except Except:\n",
    "    print('Except 에러.')"
   ]
  },
  {
   "cell_type": "code",
   "execution_count": null,
   "id": "ebd0108d",
   "metadata": {},
   "outputs": [],
   "source": [
    "# 정수를 입력받아 100을 나눈 결과를 출력\n",
    "# ValueError: invalid literal for int() with base 10: '삼'(정수를 입력하지 않은 경우)\n",
    "# ZeroDivisionError: division by zero(0을 입력한 경우 예외 객체의 타입과 메세지)\n",
    "try :\n",
    "    x = int(input('100을 나눌 정수를 입력하세요 :'))\n",
    "    print('100을 입력한 정수로 나누면 {:.3f}'.format(100/x))\n",
    "except (ZeroDivisionError, ValueError):\n",
    "    print('정수를 입력하지 않았습니다.')\n",
    "except Except:\n",
    "    print('Except 에러.')"
   ]
  },
  {
   "cell_type": "code",
   "execution_count": null,
   "id": "32bce804",
   "metadata": {},
   "outputs": [],
   "source": [
    "try:\n",
    "    x = int(input('100을 나눌 정수를 입력하세요 :'))\n",
    "    print('100을 입력한 정수로 나누면 {:.3f}'.format(100/x))\n",
    "except (ZeroDivisionError, ValueError):\n",
    "    print('나눌 수 있는 유효한 수가 아닙니다')\n",
    "except Exception:\n",
    "    print('기타 다른 예외입니다')"
   ]
  },
  {
   "cell_type": "markdown",
   "id": "9f2110f8",
   "metadata": {},
   "source": [
    "# 2.3 예외인수 (e)\n",
    "'''\n",
    "Try\n",
    "    예외가 발생할 수도 있는 명령어\n",
    "except 예외타입 as e\n",
    "    print(e)\n",
    "    print( e.args[0]) #예외메시지 출력\n",
    "'''"
   ]
  },
  {
   "cell_type": "code",
   "execution_count": null,
   "id": "cbc62e2a",
   "metadata": {},
   "outputs": [],
   "source": [
    "try:\n",
    "    x = int(input('100을 나눌 정수를 입력하세요 :'))\n",
    "    print('100을 입력한 정수로 나누면 {:.3f}'.format(100/x))\n",
    "except (ZeroDivisionError, ValueError) as e:\n",
    "    print('예외 유형 :', type(e))\n",
    "    print('예외 메세지 :',e)\n",
    "    print('예외 메세지 :',e.__str__())\n",
    "    print('예외 메세지 :', e.args)\n",
    "except Exception:\n",
    "    print('기타 다른 예외입니다')"
   ]
  },
  {
   "cell_type": "markdown",
   "id": "7fbfb72f",
   "metadata": {},
   "source": [
    "try:\n",
    "    file = open('data/ch08.txt', 'r', encoding='utf-8')\n",
    "    print(file.read())\n",
    "except FileNotFoundError as e:\n",
    "    print('해당 폴더나 파일이 없습니다')\n",
    "    print(e)\n",
    "except UnicodeDecodeError as e:\n",
    "    print(e)\n",
    "finally:\n",
    "    file.close()"
   ]
  },
  {
   "cell_type": "markdown",
   "id": "07ec7351",
   "metadata": {},
   "source": [
    "# 3절 Raise\n",
    "강제 예외 발생 "
   ]
  },
  {
   "cell_type": "code",
   "execution_count": null,
   "id": "9c89e2b5",
   "metadata": {},
   "outputs": [],
   "source": [
    "raise ZeroDivisionError(\"0으로 나누여고 했네\")\n",
    "# 사용자 정의 예외 :except클래스로부터 상속받아 구현"
   ]
  },
  {
   "cell_type": "code",
   "execution_count": null,
   "id": "99567c04",
   "metadata": {},
   "outputs": [],
   "source": [
    "# 사용자 정의 예외 : Exception클래스로부터 상속받아 구현\n",
    "class LengthZeroError(Exception):\n",
    "    def __init__(self, massage):\n",
    "        super.__nit__(massage)"
   ]
  },
  {
   "cell_type": "code",
   "execution_count": 1,
   "id": "7e8b0e4f",
   "metadata": {},
   "outputs": [],
   "source": [
    "def insert(*data): # 튜플매개변수\n",
    "    print('data = ', data)\n",
    "    if len(data)==0:\n",
    "        raise LengthZeroError(\"매개변수의 갯수가 0이면 예외예요(사용자 정의 예외)\")\n",
    "    for item in data:\n",
    "        print(item, end=' ')\n",
    "    print('등을 입력하였습니다')"
   ]
  },
  {
   "cell_type": "code",
   "execution_count": 2,
   "id": "d02bcd87",
   "metadata": {},
   "outputs": [
    {
     "name": "stdout",
     "output_type": "stream",
     "text": [
      "data =  (1, 2, '3')\n",
      "1 2 3 등을 입력하였습니다\n"
     ]
    }
   ],
   "source": [
    "insert(1, 2, '3')"
   ]
  },
  {
   "cell_type": "code",
   "execution_count": 3,
   "id": "fb1850f4",
   "metadata": {},
   "outputs": [
    {
     "name": "stdout",
     "output_type": "stream",
     "text": [
      "data =  ()\n",
      "name 'LengthZeroError' is not defined\n",
      "예외가 발생하든 안 하든 무조건 실행\n"
     ]
    }
   ],
   "source": [
    "data = ()\n",
    "try:\n",
    "    insert(*data)\n",
    "except Exception as e:\n",
    "    print(e)\n",
    "else:\n",
    "    print('예외가 발생 안 할 때만 실행')\n",
    "finally:\n",
    "    print('예외가 발생하든 안 하든 무조건 실행')"
   ]
  },
  {
   "cell_type": "markdown",
   "id": "e0a87e00",
   "metadata": {},
   "source": [
    "## 4절 추상클래스\n",
    "추상클래스 : 추상메소드가 1개 이상 포함된 클래스를 추상클래스.\n",
    "추상메소드 : 호출할 수 없는 메소드. 상속받은 클래스에서 재정의를 강요할 때\n",
    "python에서 추상메소드는 @abstractmethod나 raise를 이용"
   ]
  },
  {
   "cell_type": "code",
   "execution_count": 4,
   "id": "d740770c",
   "metadata": {},
   "outputs": [],
   "source": [
    "class Shape:\n",
    "    def __init__(self):\n",
    "        raise NotImplementedError(\"추상클래스 역할\")\n",
    "    def calc_area(self):\n",
    "        raise NotImplementedError(\"추상메소드 역할\")"
   ]
  },
  {
   "cell_type": "code",
   "execution_count": 15,
   "id": "6d61f1c2",
   "metadata": {},
   "outputs": [],
   "source": [
    "import numpy as np\n",
    "class Circle(Shape):\n",
    "    def __init__(self, radius=3):\n",
    "        self.radius = radius\n",
    "    def calc_area(self):\n",
    "        '원의 넓이를 return'\n",
    "        return np.pi * (self.radius**2)"
   ]
  },
  {
   "cell_type": "code",
   "execution_count": 16,
   "id": "e9c3093a",
   "metadata": {},
   "outputs": [
    {
     "data": {
      "text/plain": [
       "78.53981633974483"
      ]
     },
     "execution_count": 16,
     "metadata": {},
     "output_type": "execute_result"
    }
   ],
   "source": [
    "myCircle = Circle(5)\n",
    "myCircle.calc_area()"
   ]
  },
  {
   "cell_type": "markdown",
   "id": "bf4107dd",
   "metadata": {},
   "source": [
    "## 5절.파일 정리 작업(with절 이용)"
   ]
  },
  {
   "cell_type": "code",
   "execution_count": 18,
   "id": "353d2ad5",
   "metadata": {},
   "outputs": [
    {
     "name": "stdout",
     "output_type": "stream",
     "text": [
      "['hellow python\\n']\n"
     ]
    }
   ],
   "source": [
    "try:\n",
    "    with open('data/ch08.txt', 'r', encoding='utf-8') as f:\n",
    "        lines = f.readlines()\n",
    "        print(lines)\n",
    "except FileNotFoundError:\n",
    "    print(\"오류: 'data/ch08.txt' 파일을 찾을 수 없습니다. 경로를 확인해주세요.\")\n",
    "except Exception as e:\n",
    "    print(f\"파일을 읽는 도중 오류가 발생했습니다: {e}\")"
   ]
  },
  {
   "cell_type": "markdown",
   "id": "345b93e3",
   "metadata": {},
   "source": [
    "## 6절.연습문제 \n",
    "실습형"
   ]
  },
  {
   "cell_type": "code",
   "execution_count": null,
   "id": "a51af6bc",
   "metadata": {},
   "outputs": [],
   "source": [
    "#1번 숫자 두개을 입력받아 나눗셈 연산을 하는 프로그램을 작성하세요.\n",
    "- 두 숫자는 정수 또는 실수일수 있으며 0으로 나눌수 없습니다.\n",
    "- 올바른 두수를 입력하고 나눗셈 연산 결과를 춫력한 후 종료해야 합니다."
   ]
  },
  {
   "cell_type": "code",
   "execution_count": 26,
   "id": "6a251be6",
   "metadata": {},
   "outputs": [
    {
     "name": "stdout",
     "output_type": "stream",
     "text": [
      "첫번째 숫자를 입력하세요: 999\n",
      "두번째 숫자를 입력하세요: 11\n",
      "입력한 수는 999.0과 11.0입니다.\n",
      "999.0을 11.0으로 나누면 90.81818181818181입니다.\n"
     ]
    }
   ],
   "source": [
    "while True:\n",
    "    try:\n",
    "        num1_str = input(\"첫번째 숫자를 입력하세요: \")\n",
    "        num1 = float(num1_str)\n",
    "        break\n",
    "    except ValueError:\n",
    "        print(\"유효한 숫자가 아닙니다. 다시 시도하세요.\")\n",
    "\n",
    "while True:\n",
    "    try:\n",
    "        num2_str = input(\"두번째 숫자를 입력하세요: \")\n",
    "        num2 = float(num2_str)\n",
    "        if num2 == 0:\n",
    "            print(f\"입력한 수는 {num1}과 {num2}입니다.\")\n",
    "            print(\"유효한 숫자가 아닙니다. 다시 시도하세요.\")\n",
    "        else:\n",
    "            break\n",
    "    except ValueError:\n",
    "        print(\"유효한 숫자가 아닙니다. 다시 시도하세요.\")\n",
    "\n",
    "print(f\"입력한 수는 {num1}과 {num2}입니다.\")\n",
    "result = num1 / num2\n",
    "print(f\"{num1}을 {num2}으로 나누면 {result}입니다.\")"
   ]
  },
  {
   "cell_type": "markdown",
   "id": "a43f9b45",
   "metadata": {},
   "source": [
    "##2번 1번 코드의 예외처리를 예외에 따라 다르게 처리하세요.\n",
    "- 숫자로 바꿀수 없을 경우 ValueError 발생합니다.\n",
    "- 0으로 나누려고할 때 ZeroDivisionError가 발생합니다."
   ]
  },
  {
   "cell_type": "code",
   "execution_count": 27,
   "id": "fbe8b6ea",
   "metadata": {},
   "outputs": [
    {
     "name": "stdout",
     "output_type": "stream",
     "text": [
      "첫번째 숫자를 입력하세요: 10\n",
      "두번째 숫자를 입력하세요: 11\n",
      "입력한 수는 10.0과 11.0입니다.\n",
      "10.0을 11.0으로 나누면 0.9090909090909091입니다.\n"
     ]
    }
   ],
   "source": [
    "def divide_numbers():\n",
    "    \"\"\"\n",
    "    두 숫자를 입력받아 나눗셈을 수행하고 결과를 출력하는 함수.\n",
    "    유효한 숫자 입력과 0으로 나누는 경우를 예외 처리합니다.\n",
    "    \"\"\"\n",
    "    try:\n",
    "        # 첫 번째 숫자 입력 받기\n",
    "        num1_str = input(\"첫번째 숫자를 입력하세요: \")\n",
    "        num1 = float(num1_str)\n",
    "\n",
    "        # 두 번째 숫자 입력 받기\n",
    "        num2_str = input(\"두번째 숫자를 입력하세요: \")\n",
    "        num2 = float(num2_str)\n",
    "\n",
    "        print(f\"입력한 수는 {num1}과 {num2}입니다.\")\n",
    "        \n",
    "        # 0으로 나누기 예외 처리\n",
    "        if num2 == 0:\n",
    "            raise ZeroDivisionError\n",
    "\n",
    "        # 나눗셈 연산 수행\n",
    "        result = num1 / num2\n",
    "        print(f\"{num1}을 {num2}으로 나누면 {result}입니다.\")\n",
    "\n",
    "    except ValueError:\n",
    "        # 숫자로 변환할 수 없는 경우 (문자열 입력 등)\n",
    "        print(\"유효한 숫자가 아닙니다. 다시 시도하세요.\")\n",
    "        divide_numbers()  # 재귀 호출로 다시 입력받기\n",
    "\n",
    "    except ZeroDivisionError:\n",
    "        # 0으로 나누는 경우\n",
    "        print(\"유효한 숫자가 아닙니다. 다시 시도하세요.\")\n",
    "        divide_numbers()  # 재귀 호출로 다시 입력받기\n",
    "\n",
    "divide_numbers()"
   ]
  },
  {
   "cell_type": "markdown",
   "id": "dd67e5b7",
   "metadata": {},
   "source": [
    "## 문제풀이형"
   ]
  },
  {
   "cell_type": "markdown",
   "id": "7890cd0e",
   "metadata": {},
   "source": [
    "#1번 숫자 두개을 입력받아 나눗셈 연산을 하는 프로그램을 작성하세요.\n",
    "- 두 숫자는 정수 또는 실수일수 있으며 0으로 나눌수 없습니다.\n",
    "- 올바른 두수를 입력하고 나눗셈 연산 결과를 춫력한 후 종료해야 합니다."
   ]
  },
  {
   "cell_type": "code",
   "execution_count": 11,
   "id": "673d305e",
   "metadata": {},
   "outputs": [
    {
     "name": "stdout",
     "output_type": "stream",
     "text": [
      "첫번째값0\n",
      "두번째값0\n"
     ]
    },
    {
     "ename": "ZeroDivisionError",
     "evalue": "division by zero",
     "output_type": "error",
     "traceback": [
      "\u001b[1;31m---------------------------------------------------------------------------\u001b[0m",
      "\u001b[1;31mZeroDivisionError\u001b[0m                         Traceback (most recent call last)",
      "Cell \u001b[1;32mIn[11], line 4\u001b[0m\n\u001b[0;32m      2\u001b[0m     x \u001b[38;5;241m=\u001b[39m \u001b[38;5;28mint\u001b[39m(\u001b[38;5;28minput\u001b[39m(\u001b[38;5;124m\"\u001b[39m\u001b[38;5;124m첫번째값\u001b[39m\u001b[38;5;124m\"\u001b[39m))\n\u001b[0;32m      3\u001b[0m     y \u001b[38;5;241m=\u001b[39m \u001b[38;5;28mint\u001b[39m(\u001b[38;5;28minput\u001b[39m(\u001b[38;5;124m\"\u001b[39m\u001b[38;5;124m두번째값\u001b[39m\u001b[38;5;124m\"\u001b[39m))\n\u001b[1;32m----> 4\u001b[0m     \u001b[38;5;28mprint\u001b[39m(\u001b[38;5;124mf\u001b[39m\u001b[38;5;124m'\u001b[39m\u001b[38;5;124m첫번째 값은 \u001b[39m\u001b[38;5;132;01m{\u001b[39;00mx\u001b[38;5;132;01m}\u001b[39;00m\u001b[38;5;124m 두번째 값은 \u001b[39m\u001b[38;5;132;01m{\u001b[39;00my\u001b[38;5;132;01m}\u001b[39;00m\u001b[38;5;124m 둘의 나눈값은 \u001b[39m\u001b[38;5;132;01m{\u001b[39;00mx\u001b[38;5;241m/\u001b[39my\u001b[38;5;132;01m}\u001b[39;00m\u001b[38;5;124m'\u001b[39m)\n\u001b[0;32m      6\u001b[0m \u001b[38;5;28;01mexcept\u001b[39;00m \u001b[38;5;167;01mValueError\u001b[39;00m:\n\u001b[0;32m      7\u001b[0m     \u001b[38;5;28mprint\u001b[39m(\u001b[38;5;124m\"\u001b[39m\u001b[38;5;124m유효한 숫자가 아닙니다.\u001b[39m\u001b[38;5;124m\"\u001b[39m)\n",
      "\u001b[1;31mZeroDivisionError\u001b[0m: division by zero"
     ]
    }
   ],
   "source": [
    "try:\n",
    "    x = int(input(\"첫번째값\"))\n",
    "    y = int(input(\"두번째값\"))\n",
    "    print(f'첫번째 값은 {x} 두번째 값은 {y} 둘의 나눈값은 {x/y}')\n",
    "    \n",
    "except ValueError:\n",
    "    print(\"유효한 숫자가 아닙니다.\")\n",
    "except ZeroDivisionError:\n",
    "    print(\"0으로 나눌수 없습니다. 다시 시도하세요\")"
   ]
  },
  {
   "cell_type": "code",
   "execution_count": null,
   "id": "0b7ee08b",
   "metadata": {},
   "outputs": [],
   "source": []
  },
  {
   "cell_type": "code",
   "execution_count": null,
   "id": "70514f2c",
   "metadata": {},
   "outputs": [],
   "source": []
  }
 ],
 "metadata": {
  "kernelspec": {
   "display_name": "Python 3 (ipykernel)",
   "language": "python",
   "name": "python3"
  },
  "language_info": {
   "codemirror_mode": {
    "name": "ipython",
    "version": 3
   },
   "file_extension": ".py",
   "mimetype": "text/x-python",
   "name": "python",
   "nbconvert_exporter": "python",
   "pygments_lexer": "ipython3",
   "version": "3.10.9"
  },
  "toc": {
   "base_numbering": 1,
   "nav_menu": {},
   "number_sections": false,
   "sideBar": true,
   "skip_h1_title": false,
   "title_cell": "Table of Contents",
   "title_sidebar": "Contents",
   "toc_cell": false,
   "toc_position": {},
   "toc_section_display": true,
   "toc_window_display": false
  }
 },
 "nbformat": 4,
 "nbformat_minor": 5
}
