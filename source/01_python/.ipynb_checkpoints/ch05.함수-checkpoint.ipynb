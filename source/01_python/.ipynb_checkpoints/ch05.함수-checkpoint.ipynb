{
 "cells": [
  {
   "cell_type": "code",
   "execution_count": 1,
   "id": "e139b660",
   "metadata": {},
   "outputs": [
    {
     "data": {
      "text/html": [
       "\n",
       "<style>\n",
       "div.container{width:90% !important;}\n",
       "div.cell.code_cell.rendered{width:100%;}\n",
       "div.input_prompt{padding:0px;}\n",
       "div.CodeMirror {font-family:Consolas; font-size:22pt;}\n",
       "div.text_cell_render.rendered_html{font-size:16pt;}\n",
       "div.output {font-size:22pt; font-weight:bold;}\n",
       "div.input {font-family:Consolas; font-size:22pt;}\n",
       "div.prompt {min-width:70px;}\n",
       "div#toc-wrapper{padding-top:120px;}\n",
       "div.text_cell_render ul li{font-size:22pt;padding:5px;}\n",
       "table.dataframe{font-size:22px;}\n",
       "</style>\n"
      ],
      "text/plain": [
       "<IPython.core.display.HTML object>"
      ]
     },
     "metadata": {},
     "output_type": "display_data"
    }
   ],
   "source": [
    "from IPython.display import display, HTML\n",
    "display(HTML(\"\"\"\n",
    "<style>\n",
    "div.container{width:90% !important;}\n",
    "div.cell.code_cell.rendered{width:100%;}\n",
    "div.input_prompt{padding:0px;}\n",
    "div.CodeMirror {font-family:Consolas; font-size:22pt;}\n",
    "div.text_cell_render.rendered_html{font-size:16pt;}\n",
    "div.output {font-size:22pt; font-weight:bold;}\n",
    "div.input {font-family:Consolas; font-size:22pt;}\n",
    "div.prompt {min-width:70px;}\n",
    "div#toc-wrapper{padding-top:120px;}\n",
    "div.text_cell_render ul li{font-size:22pt;padding:5px;}\n",
    "table.dataframe{font-size:22px;}\n",
    "</style>\n",
    "\"\"\"))"
   ]
  },
  {
   "cell_type": "markdown",
   "id": "e7744aed",
   "metadata": {},
   "source": [
    "<b><font size=\"7\" color=\"red\">ch05. 함수</font></b>\n",
    "- 반복해서 사용할 코드를 묶어 놓고 그것에 이름을 붙인것\n",
    "- 오버로딩 불가(같은 이름의 함수는 덮어씀\n",
    "- 함수정의\n",
    "```\n",
    "def 함수명([매개변수1,매개변수2,...])\n",
    "    명령어1\n",
    "    명령어2...\n",
    "```\n",
    "# 1절 함수의 정의 및 사용\n",
    "## 1.1 함수정의"
   ]
  },
  {
   "cell_type": "code",
   "execution_count": 2,
   "id": "533d6ff7",
   "metadata": {},
   "outputs": [],
   "source": [
    "def my_message(x, msg): # msg를 x번 출력하는 함수 정의\n",
    "    for i in range(x):\n",
    "        print(i, msg)"
   ]
  },
  {
   "cell_type": "code",
   "execution_count": 3,
   "id": "5c783b3b",
   "metadata": {},
   "outputs": [
    {
     "name": "stdout",
     "output_type": "stream",
     "text": [
      "0 hello\n",
      "1 hello\n",
      "2 hello\n"
     ]
    }
   ],
   "source": [
    "# 함수 사용 == 함수 호출\n",
    "my_message(3, 'Hello')"
   ]
  },
  {
   "cell_type": "code",
   "execution_count": 4,
   "id": "9197bf08",
   "metadata": {},
   "outputs": [
    {
     "name": "stdout",
     "output_type": "stream",
     "text": [
      "0 hello\n",
      "1 hello\n",
      "0 python\n",
      "1 python\n",
      "2 python\n"
     ]
    }
   ],
   "source": [
    "# 함수 이름 변경\n",
    "my_msg = my_message\n",
    "my_message(2, 'Hello')\n",
    "my_msg(3, 'Python')"
   ]
  },
  {
   "cell_type": "code",
   "execution_count": 20,
   "id": "5898b6ae",
   "metadata": {},
   "outputs": [
    {
     "ename": "NameError",
     "evalue": "name 'my_message' is not defined",
     "output_type": "error",
     "traceback": [
      "\u001b[1;31m---------------------------------------------------------------------------\u001b[0m",
      "\u001b[1;31mNameError\u001b[0m                                 Traceback (most recent call last)",
      "Cell \u001b[1;32mIn[20], line 1\u001b[0m\n\u001b[1;32m----> 1\u001b[0m \u001b[38;5;28mtype\u001b[39m(my_msg), \u001b[38;5;28mtype\u001b[39m(\u001b[43mmy_message\u001b[49m)\n",
      "\u001b[1;31mNameError\u001b[0m: name 'my_message' is not defined"
     ]
    }
   ],
   "source": [
    "type(my_msg), type(my_message)"
   ]
  },
  {
   "cell_type": "code",
   "execution_count": 21,
   "id": "3a81e815",
   "metadata": {},
   "outputs": [
    {
     "name": "stdout",
     "output_type": "stream",
     "text": [
      "Hello\n"
     ]
    },
    {
     "ename": "TypeError",
     "evalue": "'int' object is not callable",
     "output_type": "error",
     "traceback": [
      "\u001b[1;31m---------------------------------------------------------------------------\u001b[0m",
      "\u001b[1;31mTypeError\u001b[0m                                 Traceback (most recent call last)",
      "Cell \u001b[1;32mIn[21], line 3\u001b[0m\n\u001b[0;32m      1\u001b[0m \u001b[38;5;28mprint\u001b[39m(\u001b[38;5;124m'\u001b[39m\u001b[38;5;124mHello\u001b[39m\u001b[38;5;124m'\u001b[39m) \u001b[38;5;66;03m# 파이썬 내장 함수(import 하지 않고 사용할 수 있는 함수)\u001b[39;00m\n\u001b[0;32m      2\u001b[0m \u001b[38;5;28mprint\u001b[39m \u001b[38;5;241m=\u001b[39m \u001b[38;5;241m5\u001b[39m\n\u001b[1;32m----> 3\u001b[0m \u001b[38;5;28;43mprint\u001b[39;49m\u001b[43m(\u001b[49m\u001b[38;5;124;43m'\u001b[39;49m\u001b[38;5;124;43mHello\u001b[39;49m\u001b[38;5;124;43m'\u001b[39;49m\u001b[43m)\u001b[49m\n",
      "\u001b[1;31mTypeError\u001b[0m: 'int' object is not callable"
     ]
    }
   ],
   "source": [
    "print('Hello') # 파이썬 내장 함수(import 하지 않고 사용할 수 있는 함수)\n",
    "print = 5\n",
    "print('Hello')"
   ]
  },
  {
   "cell_type": "code",
   "execution_count": 22,
   "id": "08a5fb2a",
   "metadata": {},
   "outputs": [
    {
     "name": "stdout",
     "output_type": "stream",
     "text": [
      "Hello\n"
     ]
    }
   ],
   "source": [
    "del print\n",
    "print('Hello')"
   ]
  },
  {
   "cell_type": "code",
   "execution_count": 23,
   "id": "e0261933",
   "metadata": {},
   "outputs": [
    {
     "ename": "NameError",
     "evalue": "name 'my_message' is not defined",
     "output_type": "error",
     "traceback": [
      "\u001b[1;31m---------------------------------------------------------------------------\u001b[0m",
      "\u001b[1;31mNameError\u001b[0m                                 Traceback (most recent call last)",
      "Cell \u001b[1;32mIn[23], line 1\u001b[0m\n\u001b[1;32m----> 1\u001b[0m \u001b[43mmy_message\u001b[49m(\u001b[38;5;241m2\u001b[39m, \u001b[38;5;124m'\u001b[39m\u001b[38;5;124mHello\u001b[39m\u001b[38;5;124m'\u001b[39m)\n",
      "\u001b[1;31mNameError\u001b[0m: name 'my_message' is not defined"
     ]
    }
   ],
   "source": [
    "my_message(2, 'Hello')"
   ]
  },
  {
   "cell_type": "code",
   "execution_count": 24,
   "id": "6c70687a",
   "metadata": {},
   "outputs": [
    {
     "name": "stdout",
     "output_type": "stream",
     "text": [
      "0 Hello\n",
      "1 Hello\n"
     ]
    }
   ],
   "source": [
    "my_message = 5\n",
    "my_msg(2, 'Hello')"
   ]
  },
  {
   "cell_type": "code",
   "execution_count": 25,
   "id": "5b5f0bdf",
   "metadata": {},
   "outputs": [
    {
     "ename": "NameError",
     "evalue": "name 'my_message' is not defined",
     "output_type": "error",
     "traceback": [
      "\u001b[1;31m---------------------------------------------------------------------------\u001b[0m",
      "\u001b[1;31mNameError\u001b[0m                                 Traceback (most recent call last)",
      "Cell \u001b[1;32mIn[25], line 2\u001b[0m\n\u001b[0;32m      1\u001b[0m \u001b[38;5;28;01mdel\u001b[39;00m my_message \u001b[38;5;66;03m# 변수및 함수 제거하여도\u001b[39;00m\n\u001b[1;32m----> 2\u001b[0m \u001b[43mmy_message\u001b[49m(\u001b[38;5;241m2\u001b[39m, \u001b[38;5;124m'\u001b[39m\u001b[38;5;124mHello\u001b[39m\u001b[38;5;124m'\u001b[39m)\n",
      "\u001b[1;31mNameError\u001b[0m: name 'my_message' is not defined"
     ]
    }
   ],
   "source": [
    "del my_message # 변수및 함수 제거하여도\n",
    "my_message(2, 'Hello')# 사용자 정의함수, 라이브러리 함수는 사용불가"
   ]
  },
  {
   "cell_type": "code",
   "execution_count": 26,
   "id": "089b0af5",
   "metadata": {},
   "outputs": [],
   "source": [
    "# 함수 중복 정의 불가(오버로딩 불가)\n",
    "def my_hello():\n",
    "    print('Hello Python')\n",
    "    print('Hello world')\n",
    "def my_hello(cnt): # cnt번 출력\n",
    "    for i in range(cnt):\n",
    "        print('Hello, Python', end=\"\\t\")\n",
    "        print('Hello, World')"
   ]
  },
  {
   "cell_type": "code",
   "execution_count": 9,
   "id": "de889449",
   "metadata": {},
   "outputs": [
    {
     "ename": "NameError",
     "evalue": "name 'my_hello' is not defined",
     "output_type": "error",
     "traceback": [
      "\u001b[1;31m---------------------------------------------------------------------------\u001b[0m",
      "\u001b[1;31mNameError\u001b[0m                                 Traceback (most recent call last)",
      "Cell \u001b[1;32mIn[9], line 1\u001b[0m\n\u001b[1;32m----> 1\u001b[0m \u001b[43mmy_hello\u001b[49m()\n",
      "\u001b[1;31mNameError\u001b[0m: name 'my_hello' is not defined"
     ]
    }
   ],
   "source": [
    "my_hello()"
   ]
  },
  {
   "cell_type": "code",
   "execution_count": 27,
   "id": "8f9bf357",
   "metadata": {},
   "outputs": [
    {
     "name": "stdout",
     "output_type": "stream",
     "text": [
      "Hello, Python\tHello, World\n",
      "Hello, Python\tHello, World\n"
     ]
    }
   ],
   "source": [
    "my_hello(2)"
   ]
  },
  {
   "cell_type": "code",
   "execution_count": null,
   "id": "6e2dd7da",
   "metadata": {},
   "outputs": [],
   "source": [
    "my_hello"
   ]
  },
  {
   "cell_type": "code",
   "execution_count": 16,
   "id": "28c79f96",
   "metadata": {},
   "outputs": [
    {
     "data": {
      "text/plain": [
       "'__main__'"
      ]
     },
     "execution_count": 16,
     "metadata": {},
     "output_type": "execute_result"
    }
   ],
   "source": [
    "__name__"
   ]
  },
  {
   "cell_type": "code",
   "execution_count": 28,
   "id": "6f31d7f8",
   "metadata": {},
   "outputs": [
    {
     "name": "stdout",
     "output_type": "stream",
     "text": [
      "Hello, Python\tHello, World\n",
      "Hello, Python\tHello, World\n"
     ]
    }
   ],
   "source": [
    "if __name__ == '__main__':\n",
    "    my_hello(2)"
   ]
  },
  {
   "cell_type": "code",
   "execution_count": 29,
   "id": "182a0cd5",
   "metadata": {},
   "outputs": [],
   "source": [
    "import ch05\n"
   ]
  },
  {
   "cell_type": "code",
   "execution_count": null,
   "id": "f27593ab",
   "metadata": {},
   "outputs": [],
   "source": [
    "def my_function():\n",
    "    \"\"\"\n",
    "    함수의 첫 라인에 독스티링을 포함할 수 있습니다\n",
    "    독 스트링은 함수의 설명서를 달아주는 역할\n",
    "    주석보다 많은 기능(함수 호출시 shift_tab으로 독스트일을 볼 수 있음)\n",
    "    \"\"\"\n",
    "    pass"
   ]
  },
  {
   "cell_type": "code",
   "execution_count": null,
   "id": "63ddf56b",
   "metadata": {},
   "outputs": [],
   "source": [
    "print(my_function)"
   ]
  },
  {
   "cell_type": "code",
   "execution_count": 31,
   "id": "68bcd0d4",
   "metadata": {},
   "outputs": [],
   "source": [
    "def fionacci(n):\n",
    "    '''\n",
    "    매개변수로 들어온 n값 미만의 피보차치 수열을 출력하는 함수\n",
    "    ex) n=10 : 0 1 1 2 3 5 8\n",
    "        n=100 : 0 1 1 2 3 5 8 13 21 34 55 89\n",
    "    '''\n",
    "    a, b = 0, 1 #함수 내에 선언한 변수: 지역변수(반: 전역변수)\n",
    "    while a < n:\n",
    "        print(a, end =' ')\n",
    "        a, b = b, a+b\n",
    "    print()"
   ]
  },
  {
   "cell_type": "code",
   "execution_count": 34,
   "id": "652d1aa7",
   "metadata": {},
   "outputs": [
    {
     "name": "stdout",
     "output_type": "stream",
     "text": [
      "0 1 1 2 3 5 8 13 21 34 55 89 144 233 377 610 987 1597 2584 4181 6765 \n"
     ]
    }
   ],
   "source": [
    "fionacci(10000)"
   ]
  },
  {
   "cell_type": "code",
   "execution_count": 35,
   "id": "ce81e688",
   "metadata": {},
   "outputs": [
    {
     "ename": "NameError",
     "evalue": "name 'b' is not defined",
     "output_type": "error",
     "traceback": [
      "\u001b[1;31m---------------------------------------------------------------------------\u001b[0m",
      "\u001b[1;31mNameError\u001b[0m                                 Traceback (most recent call last)",
      "Cell \u001b[1;32mIn[35], line 1\u001b[0m\n\u001b[1;32m----> 1\u001b[0m \u001b[43mb\u001b[49m\n",
      "\u001b[1;31mNameError\u001b[0m: name 'b' is not defined"
     ]
    }
   ],
   "source": [
    "b"
   ]
  },
  {
   "cell_type": "markdown",
   "id": "37e1e220",
   "metadata": {},
   "source": [
    "# 1.3 지역변수와 전역변수"
   ]
  },
  {
   "cell_type": "code",
   "execution_count": 36,
   "id": "03b24c10",
   "metadata": {},
   "outputs": [
    {
     "name": "stdout",
     "output_type": "stream",
     "text": [
      "함수안: 100\n",
      "함수밖: 100\n"
     ]
    }
   ],
   "source": [
    "global_var = 100\n",
    "def func1():\n",
    "    print(\"함수안:\",global_var)\n",
    "func1()\n",
    "print(\"함수밖:\",global_var)"
   ]
  },
  {
   "cell_type": "code",
   "execution_count": 38,
   "id": "836a2008",
   "metadata": {},
   "outputs": [
    {
     "name": "stdout",
     "output_type": "stream",
     "text": [
      "함수안: 200\n"
     ]
    }
   ],
   "source": [
    "def func2():\n",
    "    local_var= 200 #지역변수\n",
    "    print(\"함수안:\",local_var)\n",
    "func2()"
   ]
  },
  {
   "cell_type": "code",
   "execution_count": null,
   "id": "b605d792",
   "metadata": {},
   "outputs": [],
   "source": [
    "# print(\"함수밖에서 지역변수\",local_var))"
   ]
  },
  {
   "cell_type": "code",
   "execution_count": 44,
   "id": "f50b665e",
   "metadata": {},
   "outputs": [
    {
     "name": "stdout",
     "output_type": "stream",
     "text": [
      "지역변수 g_var :  200\n",
      "전역변수 g_var :  100\n"
     ]
    }
   ],
   "source": [
    "g_var = 100 #전역변수\n",
    "def func3():\n",
    "    g_var = 200\n",
    "    print(\"지역변수 g_var : \", g_var)\n",
    "func3()\n",
    "print(\"전역변수 g_var : \", g_var)"
   ]
  },
  {
   "cell_type": "code",
   "execution_count": 45,
   "id": "16d1e71a",
   "metadata": {},
   "outputs": [
    {
     "ename": "UnboundLocalError",
     "evalue": "local variable 'g_var' referenced before assignment",
     "output_type": "error",
     "traceback": [
      "\u001b[1;31m---------------------------------------------------------------------------\u001b[0m",
      "\u001b[1;31mUnboundLocalError\u001b[0m                         Traceback (most recent call last)",
      "Cell \u001b[1;32mIn[45], line 6\u001b[0m\n\u001b[0;32m      4\u001b[0m     \u001b[38;5;28mprint\u001b[39m(\u001b[38;5;124m\"\u001b[39m\u001b[38;5;124m지역변수 g_var : \u001b[39m\u001b[38;5;124m\"\u001b[39m, g_var)\n\u001b[0;32m      5\u001b[0m     g_var \u001b[38;5;241m=\u001b[39m \u001b[38;5;241m200\u001b[39m\n\u001b[1;32m----> 6\u001b[0m \u001b[43mfunc3\u001b[49m\u001b[43m(\u001b[49m\u001b[43m)\u001b[49m\n\u001b[0;32m      7\u001b[0m \u001b[38;5;28mprint\u001b[39m(\u001b[38;5;124m\"\u001b[39m\u001b[38;5;124m전역변수 g_var : \u001b[39m\u001b[38;5;124m\"\u001b[39m, g_var)\n",
      "Cell \u001b[1;32mIn[45], line 4\u001b[0m, in \u001b[0;36mfunc3\u001b[1;34m()\u001b[0m\n\u001b[0;32m      3\u001b[0m \u001b[38;5;28;01mdef\u001b[39;00m \u001b[38;5;21mfunc3\u001b[39m():\n\u001b[1;32m----> 4\u001b[0m     \u001b[38;5;28mprint\u001b[39m(\u001b[38;5;124m\"\u001b[39m\u001b[38;5;124m지역변수 g_var : \u001b[39m\u001b[38;5;124m\"\u001b[39m, \u001b[43mg_var\u001b[49m)\n\u001b[0;32m      5\u001b[0m     g_var \u001b[38;5;241m=\u001b[39m \u001b[38;5;241m200\u001b[39m\n",
      "\u001b[1;31mUnboundLocalError\u001b[0m: local variable 'g_var' referenced before assignment"
     ]
    }
   ],
   "source": [
    "# 렉시컬 특성: 변수가 어디서 선언되었는지에 따라\n",
    "g_var = 100 #전역변수\n",
    "def func3():\n",
    "    print(\"지역변수 g_var : \", g_var)\n",
    "    g_var = 200\n",
    "func3()\n",
    "print(\"전역변수 g_var : \", g_var)"
   ]
  },
  {
   "cell_type": "code",
   "execution_count": 46,
   "id": "c255c748",
   "metadata": {},
   "outputs": [
    {
     "name": "stdout",
     "output_type": "stream",
     "text": [
      "전역변수 g_var :  100\n",
      "전역변수 g_var :  200\n"
     ]
    }
   ],
   "source": [
    "# 렉시컬 특성\n",
    "# 렉시컬 특성: 변수가 어디서 선언되었는지에 따라\n",
    "g_var = 100 #전역변수\n",
    "def func3():\n",
    "    global g_var #함수내에서의 g_var는 전역변수를 쓰겠다\n",
    "    print(\"전역변수 g_var : \", g_var)\n",
    "    g_var = 200 #전역변수 g_var 200할당\n",
    "func3()\n",
    "print(\"전역변수 g_var : \", g_var)"
   ]
  },
  {
   "cell_type": "markdown",
   "id": "e62a6138",
   "metadata": {},
   "source": [
    "## 1.4 값에 의하 호출\n",
    "- 함수에 인수로 전달되는 변수가 스칼라변수(문자, 숫자, 논리행)일 때"
   ]
  },
  {
   "cell_type": "code",
   "execution_count": 50,
   "id": "aef0ba50",
   "metadata": {},
   "outputs": [
    {
     "data": {
      "text/plain": [
       "2656354264880"
      ]
     },
     "execution_count": 50,
     "metadata": {},
     "output_type": "execute_result"
    }
   ],
   "source": [
    "foo = 'a' #전역변수\n",
    "id(foo)"
   ]
  },
  {
   "cell_type": "code",
   "execution_count": 57,
   "id": "d3c93ceb",
   "metadata": {},
   "outputs": [
    {
     "name": "stdout",
     "output_type": "stream",
     "text": [
      "Before : a 의 주소는 2656354264880\n",
      "After : aaa 의 주소는 2654315924336\n"
     ]
    }
   ],
   "source": [
    "def func1(f): #매개변수는 지역변수\n",
    "    print('Before :', f, '의 주소는', id(f))\n",
    "    f = f*3\n",
    "    print('After :', f, '의 주소는', id(f))\n",
    "func1(foo)"
   ]
  },
  {
   "cell_type": "code",
   "execution_count": 56,
   "id": "2f265ea5",
   "metadata": {},
   "outputs": [
    {
     "name": "stdout",
     "output_type": "stream",
     "text": [
      "foo = a 의 주소는 2656354264880\n"
     ]
    }
   ],
   "source": [
    "print('foo =',foo,'의 주소는', id(foo))"
   ]
  },
  {
   "cell_type": "code",
   "execution_count": null,
   "id": "d1b6e102",
   "metadata": {},
   "outputs": [],
   "source": [
    "## 1.5 참조에 의한 호출\n",
    "- 함수에 인수로 전달되는 딕셔너리, 셋, 리스트 ,튜플, 기타 객체일 경우"
   ]
  },
  {
   "cell_type": "code",
   "execution_count": 58,
   "id": "d85d3392",
   "metadata": {},
   "outputs": [
    {
     "data": {
      "text/plain": [
       "2654314710208"
      ]
     },
     "execution_count": 58,
     "metadata": {},
     "output_type": "execute_result"
    }
   ],
   "source": [
    "L=[1,2,3,4,5]\n",
    "id (L)"
   ]
  },
  {
   "cell_type": "code",
   "execution_count": 63,
   "id": "60a1e97c",
   "metadata": {},
   "outputs": [
    {
     "name": "stdout",
     "output_type": "stream",
     "text": [
      "Before : [1, 2, 3, 4, 5] 의 주소는 2654314710208\n",
      "After : [1, 2, 3, 4, 5, 6] 의 주소는 2654314710208\n"
     ]
    }
   ],
   "source": [
    "def func2(f): #매개변수는 지역변수\n",
    "    print('Before :', f, '의 주소는', id(f))\n",
    "    f.append(6)\n",
    "    print('After :', f, '의 주소는', id(f))\n",
    "func2(L)"
   ]
  },
  {
   "cell_type": "code",
   "execution_count": 64,
   "id": "e515a753",
   "metadata": {},
   "outputs": [
    {
     "name": "stdout",
     "output_type": "stream",
     "text": [
      "2654314710208\n"
     ]
    }
   ],
   "source": [
    "print(id(L))"
   ]
  },
  {
   "cell_type": "markdown",
   "id": "c7eb7507",
   "metadata": {},
   "source": [
    "# 2절 함수의 실행 결과를 반환"
   ]
  },
  {
   "cell_type": "code",
   "execution_count": 75,
   "id": "3c91125d",
   "metadata": {},
   "outputs": [],
   "source": [
    "def fionacci(n):\n",
    "    '''\n",
    "    매개변수로 들어온 n값 미만의 피보차치 수열을 출력하는 함수\n",
    "    ex) n=10 : 0 1 1 2 3 5 8\n",
    "        n=100 : 0 1 1 2 3 5 8 13 21 34 55 89\n",
    "    '''\n",
    "    a, b = 0, 1 #함수 내에 선언한 변수: 지역변수(반: 전역변수)\n",
    "    while a < n:\n",
    "        print(a, end =' ')\n",
    "        a, b = b, a+b\n",
    "    print()\n",
    "def fionacci(n):\n",
    "    \"n 미만의 피보나치 수열을 리스트로 리턴\"\n",
    "    '''\n",
    "    매개변수로 들어온 n값 미만의 피보차치 수열을 출력하는 함수\n",
    "    ex) n=10 : 0 1 1 2 3 5 8\n",
    "        n=100 : 0 1 1 2 3 5 8 13 21 34 55 89\n",
    "    '''\n",
    "    result = []\n",
    "    a,b = 0,1\n",
    "    while a < n:\n",
    "        result.append(a)\n",
    "        a,b = b,a+b\n",
    "    return result"
   ]
  },
  {
   "cell_type": "code",
   "execution_count": 76,
   "id": "2463f19d",
   "metadata": {},
   "outputs": [
    {
     "name": "stdout",
     "output_type": "stream",
     "text": [
      "x= [0, 1, 1, 2, 3, 5, 8]\n",
      "<class 'list'>\n"
     ]
    }
   ],
   "source": [
    "x = fionacci(10)\n",
    "print('x=',x)\n",
    "print(type(x))"
   ]
  },
  {
   "cell_type": "markdown",
   "id": "e12fdadd",
   "metadata": {},
   "source": [
    "#### 여러개 값 return\n",
    "- 여러개 값을 갖는 튜플로 return"
   ]
  },
  {
   "cell_type": "code",
   "execution_count": 79,
   "id": "a98930db",
   "metadata": {},
   "outputs": [],
   "source": [
    "def swap(a,b):\n",
    "    '매개변수의 순서를 바꿔서 return'\n",
    "    return b, a #return (b, a)"
   ]
  },
  {
   "cell_type": "code",
   "execution_count": 80,
   "id": "0e009628",
   "metadata": {},
   "outputs": [
    {
     "name": "stdout",
     "output_type": "stream",
     "text": [
      "함수실행  전 x,y =  5 10\n",
      "함수실행  후 x,y =  10 5\n"
     ]
    }
   ],
   "source": [
    "x, y= 5,10\n",
    "print('함수실행  전 x,y = ',x ,y)\n",
    "x,y = swap(x, y)\n",
    "print('함수실행  후 x,y = ',x ,y)\n",
    "x =5; y=10"
   ]
  },
  {
   "cell_type": "markdown",
   "id": "62220794",
   "metadata": {},
   "source": [
    "# 3절 함수의 매개변수 ★\n",
    "## 3.1 기본값을 갖는 매개변수"
   ]
  },
  {
   "cell_type": "code",
   "execution_count": 85,
   "id": "06a6c395",
   "metadata": {},
   "outputs": [],
   "source": [
    "def mak_url(ip, port=80):  #순서인수,기본값을 갖는 매개변수\n",
    "    return \"http://{}:{}\". format(ip, port)"
   ]
  },
  {
   "cell_type": "code",
   "execution_count": 86,
   "id": "1a82bb42",
   "metadata": {},
   "outputs": [
    {
     "name": "stdout",
     "output_type": "stream",
     "text": [
      "http://localhost:8080\n",
      "http://www.naver.com:80\n",
      "http://localhost:9090\n"
     ]
    }
   ],
   "source": [
    "print(mak_url(\"localhost\", 8080))\n",
    "print(mak_url(\"www.naver.com\"))\n",
    "print(mak_url(port=9090, ip=\"localhost\"))"
   ]
  },
  {
   "cell_type": "code",
   "execution_count": null,
   "id": "d32c5e76",
   "metadata": {},
   "outputs": [],
   "source": [
    "mak_url(ip=\"localhost\")"
   ]
  },
  {
   "cell_type": "code",
   "execution_count": null,
   "id": "eb39149d",
   "metadata": {},
   "outputs": [],
   "source": [
    "def mak_url(ip, port=80):  #순서인수,기본값을 갖는 매개변수\n",
    "    return \"http://{}:{}\". format(ip, port)"
   ]
  },
  {
   "cell_type": "markdown",
   "id": "bb565727",
   "metadata": {},
   "source": [
    "## 3.2 기본값을 갖는 매개변수\n",
    " - 기본변수가 스칼라 변수\n",
    " - 기본변수가 딕셔너리, 셋, 리스트 ,튜플, 기타 객체일 경우"
   ]
  },
  {
   "cell_type": "code",
   "execution_count": 91,
   "id": "7eb0b15b",
   "metadata": {},
   "outputs": [],
   "source": [
    "i = 80\n",
    "def make_url(ip, port=i):\n",
    "    return \"http://{}:{}\". format(ip, port)"
   ]
  },
  {
   "cell_type": "code",
   "execution_count": 92,
   "id": "d77c92a4",
   "metadata": {},
   "outputs": [
    {
     "data": {
      "text/plain": [
       "'http://localhost:80'"
      ]
     },
     "execution_count": 92,
     "metadata": {},
     "output_type": "execute_result"
    }
   ],
   "source": [
    "i = 90\n",
    "make_url(\"localhost\")"
   ]
  },
  {
   "cell_type": "code",
   "execution_count": 103,
   "id": "44682b31",
   "metadata": {},
   "outputs": [
    {
     "name": "stdout",
     "output_type": "stream",
     "text": [
      "[20]\n"
     ]
    }
   ],
   "source": [
    "list_ = []\n",
    "# 기본 변수라 리스트, 셋, 딕셔너리, 객체일 때  함수가 실행되는 시점으로 기본값 세팅\n",
    "def func3(a, L=list_):\n",
    "    L.append(a)\n",
    "    return L\n",
    "print(func3(20))"
   ]
  },
  {
   "cell_type": "code",
   "execution_count": 102,
   "id": "339e5ca0",
   "metadata": {},
   "outputs": [
    {
     "name": "stdout",
     "output_type": "stream",
     "text": [
      "list = [20]\n"
     ]
    }
   ],
   "source": [
    "print(\"list =\", list_)"
   ]
  },
  {
   "cell_type": "code",
   "execution_count": 109,
   "id": "f396f8af",
   "metadata": {},
   "outputs": [
    {
     "name": "stdout",
     "output_type": "stream",
     "text": [
      "[10]\n",
      "[10]\n",
      "[10]\n",
      "[1, 2, 3, 10]\n"
     ]
    }
   ],
   "source": [
    "# 실행할 때 마다 L 공유하는게 싫으면\n",
    "def func3(a,L=None):\n",
    "    if L is None:\n",
    "        L = []\n",
    "    L.append(a)\n",
    "    return L\n",
    "print(func3(10))\n",
    "print(func3(10))\n",
    "print(func3(10))\n",
    "print(func3(10, [1,2,3]))"
   ]
  },
  {
   "cell_type": "markdown",
   "id": "21f02b15",
   "metadata": {},
   "source": [
    "## 3.3 순서인수, 키워드 인수\n",
    "- 순서인수: 함수에 정의된 순서대로 전달방식\n",
    "- 키워드인수 : 인수의 이름을 명시함\n",
    "- 함수 정의시 : 순서인수와 키워드 인수가 같이 올 때는 순서인수 > 키워드 인수 순으로"
   ]
  },
  {
   "cell_type": "code",
   "execution_count": 115,
   "id": "02ae7ece",
   "metadata": {},
   "outputs": [],
   "source": [
    "def func3(a, L=None):\n",
    "    if L is None:\n",
    "        L= []\n",
    "    L.append(a)\n",
    "    return L"
   ]
  },
  {
   "cell_type": "code",
   "execution_count": 116,
   "id": "56e79013",
   "metadata": {},
   "outputs": [
    {
     "name": "stdout",
     "output_type": "stream",
     "text": [
      "[10]\n",
      "[10, 0]\n"
     ]
    }
   ],
   "source": [
    "lst = []\n",
    "print(func3(10, lst))    # 순서인수 : 참수정의된 순섣로  전달\n",
    "print(func3(L=lst, a=0)) #키워드 인수 : 인수의 이름을 명시하여 전달"
   ]
  },
  {
   "cell_type": "code",
   "execution_count": 117,
   "id": "08f3d117",
   "metadata": {},
   "outputs": [],
   "source": [
    "## 튜플 매개변수를  이용한 가변인수 설정"
   ]
  },
  {
   "cell_type": "code",
   "execution_count": 121,
   "id": "79a0f1ac",
   "metadata": {},
   "outputs": [],
   "source": [
    "#파이썬은 함수의 중복정의(오버로딩)을 지원하지 않음\n",
    "# def add(a,b):\n",
    "#     return a+b\n",
    "# def add(a,b,c):\n",
    "#     return a+b+c"
   ]
  },
  {
   "cell_type": "code",
   "execution_count": 122,
   "id": "105673bc",
   "metadata": {},
   "outputs": [
    {
     "ename": "TypeError",
     "evalue": "add() missing 1 required positional argument: 'c'",
     "output_type": "error",
     "traceback": [
      "\u001b[1;31m---------------------------------------------------------------------------\u001b[0m",
      "\u001b[1;31mTypeError\u001b[0m                                 Traceback (most recent call last)",
      "Cell \u001b[1;32mIn[122], line 1\u001b[0m\n\u001b[1;32m----> 1\u001b[0m \u001b[43madd\u001b[49m\u001b[43m(\u001b[49m\u001b[38;5;241;43m3\u001b[39;49m\u001b[43m,\u001b[49m\u001b[38;5;241;43m5\u001b[39;49m\u001b[43m)\u001b[49m\n",
      "\u001b[1;31mTypeError\u001b[0m: add() missing 1 required positional argument: 'c'"
     ]
    }
   ],
   "source": [
    "add(3,5)"
   ]
  },
  {
   "cell_type": "code",
   "execution_count": 130,
   "id": "79ddaafc",
   "metadata": {},
   "outputs": [],
   "source": [
    "# args 앞에 *: args가 듀플로 전달받는다.\n",
    "def add(*args):\n",
    "    #print('args =', args)\n",
    "    '전달받은 매개변수들의 합을 return, 매개변수가 없는 경우 0을 return'\n",
    "    sum = 0 #누적변수\n",
    "    for num in args:\n",
    "        sum += num\n",
    "    return sum  "
   ]
  },
  {
   "cell_type": "code",
   "execution_count": 131,
   "id": "19b2f8d7",
   "metadata": {},
   "outputs": [
    {
     "data": {
      "text/plain": [
       "55"
      ]
     },
     "execution_count": 131,
     "metadata": {},
     "output_type": "execute_result"
    }
   ],
   "source": [
    "add(1,2,3,4,5,6,7,8,9,10)"
   ]
  },
  {
   "cell_type": "code",
   "execution_count": 141,
   "id": "c378461d",
   "metadata": {},
   "outputs": [],
   "source": [
    "subject = ('Python','html/css','javaScript','DBMS')"
   ]
  },
  {
   "cell_type": "code",
   "execution_count": 160,
   "id": "1caab01a",
   "metadata": {},
   "outputs": [],
   "source": [
    "def concat(*subject, sep=\" - \"):\n",
    "    return sep.join(subject)"
   ]
  },
  {
   "cell_type": "code",
   "execution_count": 161,
   "id": "4e8dbbf2",
   "metadata": {},
   "outputs": [
    {
     "name": "stdout",
     "output_type": "stream",
     "text": [
      "Python - html/css - javaScript - DBMS\n"
     ]
    }
   ],
   "source": [
    "# 파라미터 매개변수 이름을 지정해서 호출\n",
    "print(concat('Python','html/css','javaScript','DBMS', sep=' - '))"
   ]
  },
  {
   "cell_type": "code",
   "execution_count": 163,
   "id": "93cedff6",
   "metadata": {},
   "outputs": [],
   "source": [
    " def concat(sep, *subject): ## ★ 추천 ★\n",
    "    return sep.join(subject)"
   ]
  },
  {
   "cell_type": "code",
   "execution_count": 165,
   "id": "e4923003",
   "metadata": {},
   "outputs": [
    {
     "data": {
      "text/plain": [
       "'Python~html/css~javaScript~DBMS'"
      ]
     },
     "execution_count": 165,
     "metadata": {},
     "output_type": "execute_result"
    }
   ],
   "source": [
    "concat('~', 'Python','html/css','javaScript','DBMS')"
   ]
  },
  {
   "cell_type": "markdown",
   "id": "794c92e8",
   "metadata": {},
   "source": [
    "## 3.5 딕셔너리 매개변수\n",
    "- 딕셔너리 인수: 여러개의 키워드 인수"
   ]
  },
  {
   "cell_type": "code",
   "execution_count": 166,
   "id": "da923d71",
   "metadata": {},
   "outputs": [
    {
     "data": {
      "text/plain": [
       "'http://localhost:8080'"
      ]
     },
     "execution_count": 166,
     "metadata": {},
     "output_type": "execute_result"
    }
   ],
   "source": [
    "make_url(ip=\"localhost\",port=8080)"
   ]
  },
  {
   "cell_type": "code",
   "execution_count": 191,
   "id": "3e0124e9",
   "metadata": {},
   "outputs": [],
   "source": [
    "def func5(**args):\n",
    "    print('이름',args.get('name'))\n",
    "    print('나이',args.get('age'))\n",
    "    print('전화',args.get('tel'))\n",
    "    print('주소',args.get('address'))\n"
   ]
  },
  {
   "cell_type": "code",
   "execution_count": 203,
   "id": "41f1e49d",
   "metadata": {},
   "outputs": [],
   "source": [
    "def func5(**args): \n",
    "    '''\n",
    "    딕셔너리 매개변수로 받아 address 키가 없으면 서울시 관악구로 추가하고 키-값을 출력\n",
    "    '''\n",
    "    print(args)\n",
    "    print(type(args))\n",
    "    if 'address' not in  args:\n",
    "        args['adress']= '서울시 관악구'\n",
    "    for key, value in args.items():\n",
    "        print(\"{}:{}\".format(key,value))"
   ]
  },
  {
   "cell_type": "code",
   "execution_count": 196,
   "id": "3ee21167",
   "metadata": {},
   "outputs": [
    {
     "name": "stdout",
     "output_type": "stream",
     "text": [
      "{'name': '홍길동', 'age': 30, 'tel': '010-999-9999', 'adress': '서울시 관악구'}\n",
      "<class 'dict'>\n",
      "name:홍길동\n",
      "age:30\n",
      "tel:010-999-9999\n",
      "adress:서울시 관악구\n"
     ]
    }
   ],
   "source": [
    "func5(name='홍길동', \n",
    "      age=30, \n",
    "      tel='010-999-9999',\n",
    "      adress='서울시 관악구')"
   ]
  },
  {
   "cell_type": "code",
   "execution_count": null,
   "id": "c57941c3",
   "metadata": {},
   "outputs": [],
   "source": [
    "##3.6 함수 정의시 매개변수의 순서\n",
    "- 순서인수 > 튜플인수(*) > 키워드인수(기본값) > 딕셔너리인수(**)"
   ]
  },
  {
   "cell_type": "code",
   "execution_count": 205,
   "id": "4782bb30",
   "metadata": {},
   "outputs": [],
   "source": [
    "# 순서인수 > 튜플인수(*) > 키워드인수(기본값) > 딕셔너리인수(**)\n",
    "def func6(a,b,*c,**d):\n",
    "    print('순서인수 a =',a)\n",
    "    print('순서인수 b =',b)\n",
    "    print('튜플인수 c =',c)\n",
    "    print('딕셔너리인수 D =',d)"
   ]
  },
  {
   "cell_type": "code",
   "execution_count": 210,
   "id": "18cb2f87",
   "metadata": {},
   "outputs": [
    {
     "name": "stdout",
     "output_type": "stream",
     "text": [
      "순서인수 a = 10\n",
      "순서인수 b = 20\n",
      "튜플인수 c = (1, 2, 3, 4, 5, 6, 7, 8, 9)\n",
      "딕셔너리인수 D = {'name': '홍', 'age': 30, 'address': '신림'}\n"
     ]
    }
   ],
   "source": [
    "func6(10,20,1,2,3,4,5,6,7,8,9,name = '홍', age =30, address='신림')"
   ]
  },
  {
   "cell_type": "code",
   "execution_count": 211,
   "id": "fff428f9",
   "metadata": {},
   "outputs": [],
   "source": [
    "#순서인수 > 튜플인수(*) > 키워드인수(기본값) > 딕셔너리인수(**)\n",
    "def func7(a,b,c,*d,e=10,**f):\n",
    "    print('순서인수 a=',a)\n",
    "    print('순서인수 b=',b)\n",
    "    print('순서인수 c=',c)\n",
    "    print('튜플인수 d=',d)\n",
    "    print('키워드인수 e=',e)\n",
    "    print('딕셔너리인수 f=',f)"
   ]
  },
  {
   "cell_type": "code",
   "execution_count": 213,
   "id": "89cbecd8",
   "metadata": {},
   "outputs": [
    {
     "name": "stdout",
     "output_type": "stream",
     "text": [
      "순서인수 a= 10\n",
      "순서인수 b= 20\n",
      "순서인수 c= 30\n",
      "튜플인수 d= (2, 3, 4, 5)\n",
      "키워드인수 e= 100\n",
      "딕셔너리인수 f= {'shape': 'rect', 'width': 20, 'height': 30}\n"
     ]
    }
   ],
   "source": [
    "func7(10,20,30,2,3,4,5,e=100,shape='rect',width=20,height=30)\n",
    "func7(10,20,30,e=100"
   ]
  },
  {
   "cell_type": "code",
   "execution_count": null,
   "id": "67346297",
   "metadata": {},
   "outputs": [],
   "source": []
  }
 ],
 "metadata": {
  "kernelspec": {
   "display_name": "Python 3 (ipykernel)",
   "language": "python",
   "name": "python3"
  },
  "language_info": {
   "codemirror_mode": {
    "name": "ipython",
    "version": 3
   },
   "file_extension": ".py",
   "mimetype": "text/x-python",
   "name": "python",
   "nbconvert_exporter": "python",
   "pygments_lexer": "ipython3",
   "version": "3.10.9"
  },
  "toc": {
   "base_numbering": 1,
   "nav_menu": {},
   "number_sections": false,
   "sideBar": true,
   "skip_h1_title": false,
   "title_cell": "Table of Contents",
   "title_sidebar": "Contents",
   "toc_cell": false,
   "toc_position": {},
   "toc_section_display": true,
   "toc_window_display": true
  }
 },
 "nbformat": 4,
 "nbformat_minor": 5
}
