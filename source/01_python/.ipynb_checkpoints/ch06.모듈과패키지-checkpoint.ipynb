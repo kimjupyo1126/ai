{
 "cells": [
  {
   "cell_type": "code",
   "execution_count": 46,
   "id": "6fd1d55c",
   "metadata": {},
   "outputs": [
    {
     "data": {
      "text/html": [
       "\n",
       "<style>\n",
       "div.container{width:95% !important;}\n",
       "div.cell.code_cell.rendered{width:100%;}\n",
       "div.input_prompt{padding:0px;}\n",
       "div.CodeMirror {font-family:Consolas; font-size:22pt;}\n",
       "div.text_cell_render.rendered_html{font-size:18pt;}\n",
       "div.output {font-size:15pt; font-weight:bold;}\n",
       "div.input {font-family:Consolas; font-size:22pt;}\n",
       "div.prompt {min-width:70px;}\n",
       "div#toc-wrapper{padding-top:120px;}\n",
       "div.text_cell_render ul li{font-size:22pt;padding:5px;}\n",
       "table.dataframe{font-size:22px;}\n",
       "</style>\n"
      ],
      "text/plain": [
       "<IPython.core.display.HTML object>"
      ]
     },
     "metadata": {},
     "output_type": "display_data"
    }
   ],
   "source": [
    "from IPython.display import display, HTML\n",
    "display(HTML(\"\"\"\n",
    "<style>\n",
    "div.container{width:95% !important;}\n",
    "div.cell.code_cell.rendered{width:100%;}\n",
    "div.input_prompt{padding:0px;}\n",
    "div.CodeMirror {font-family:Consolas; font-size:22pt;}\n",
    "div.text_cell_render.rendered_html{font-size:18pt;}\n",
    "div.output {font-size:15pt; font-weight:bold;}\n",
    "div.input {font-family:Consolas; font-size:22pt;}\n",
    "div.prompt {min-width:70px;}\n",
    "div#toc-wrapper{padding-top:120px;}\n",
    "div.text_cell_render ul li{font-size:22pt;padding:5px;}\n",
    "table.dataframe{font-size:22px;}\n",
    "</style>\n",
    "\"\"\"))"
   ]
  },
  {
   "cell_type": "markdown",
   "id": "839cfa00",
   "metadata": {},
   "source": [
    "<b><font size=\"7\" color=\"red\">ch06.모듈과 패키지</font></b>\n",
    "# 1절. 파이썬 표준 모듈 사용\n",
    "- 모듈 : 함수, 변수. 클래스 등을 담고 있는 파이썬 코드 파일(*.py)\n",
    "- python.org : 파이썬 표준 모듈 200개는 파이썬 인터프리트와 함께 install 됨(sys, re, datetime,...)\n",
    "- minicondasms python.org 버전보다 조금 더 많은 모듈을 install\n",
    "- anuconda는 150개 이상의  패키지 install(정확한 갯수는 버전마다 상이)\n"
   ]
  },
  {
   "cell_type": "markdown",
   "id": "b9cf79a2",
   "metadata": {},
   "source": [
    "# 1.import 모듈명 : 모듈안에 함수, 클래스, 변수를 모듈명, 함수명() 사용\n",
    "import time"
   ]
  },
  {
   "cell_type": "code",
   "execution_count": 5,
   "id": "d4179715",
   "metadata": {},
   "outputs": [
    {
     "data": {
      "text/plain": [
       "1758778110.1274478"
      ]
     },
     "execution_count": 5,
     "metadata": {},
     "output_type": "execute_result"
    }
   ],
   "source": [
    "import time\n",
    "time.time() #1970년 부터의 초수 unix time"
   ]
  },
  {
   "cell_type": "code",
   "execution_count": null,
   "id": "7304f08b",
   "metadata": {},
   "outputs": [],
   "source": [
    "del time "
   ]
  },
  {
   "cell_type": "code",
   "execution_count": 9,
   "id": "8e1e6872",
   "metadata": {},
   "outputs": [
    {
     "data": {
      "text/plain": [
       "'Thu Sep 25 14:50:29 2025'"
      ]
     },
     "execution_count": 9,
     "metadata": {},
     "output_type": "execute_result"
    }
   ],
   "source": [
    "# 2. from 모듈(a) import 함수/클래스/변수(b) : a 모듈안의 b만 ㅓ로드\n",
    "#    from 모듈(a) import (b) : a 패키지안의 b만 로드\n",
    "from time import ctime, time\n",
    "ctime()"
   ]
  },
  {
   "cell_type": "code",
   "execution_count": null,
   "id": "4888eaff",
   "metadata": {},
   "outputs": [],
   "source": [
    "time()"
   ]
  },
  {
   "cell_type": "code",
   "execution_count": 10,
   "id": "710031fd",
   "metadata": {},
   "outputs": [],
   "source": [
    "del ctime\n",
    "del time"
   ]
  },
  {
   "cell_type": "code",
   "execution_count": 14,
   "id": "405cb218",
   "metadata": {},
   "outputs": [
    {
     "data": {
      "text/plain": [
       "'Thu Sep 25 14:54:30 2025'"
      ]
     },
     "execution_count": 14,
     "metadata": {},
     "output_type": "execute_result"
    }
   ],
   "source": [
    "#3 import A as B  - a모듈을 B 이름으로 메모리 로드\n",
    "import time as t\n",
    "t.ctime()"
   ]
  },
  {
   "cell_type": "code",
   "execution_count": 15,
   "id": "43243855",
   "metadata": {},
   "outputs": [
    {
     "data": {
      "text/plain": [
       "1758779682.3083858"
      ]
     },
     "execution_count": 15,
     "metadata": {},
     "output_type": "execute_result"
    }
   ],
   "source": [
    "t.time()"
   ]
  },
  {
   "cell_type": "code",
   "execution_count": 16,
   "id": "7da934b5",
   "metadata": {},
   "outputs": [],
   "source": [
    "del t"
   ]
  },
  {
   "cell_type": "code",
   "execution_count": 22,
   "id": "922ce38d",
   "metadata": {},
   "outputs": [
    {
     "data": {
      "text/plain": [
       "'Thu Sep 25 15:08:49 2025'"
      ]
     },
     "execution_count": 22,
     "metadata": {},
     "output_type": "execute_result"
    }
   ],
   "source": [
    "#4 from 모듈명 import 함수명 as 별칭\n",
    "#  from 패키지명 import 모듈명 as 별칭\n",
    "#  from 패키지명.모듈명 import 함수명 as 별칭\n",
    "from time import ctime as ct,time as ti\n",
    "ct()"
   ]
  },
  {
   "cell_type": "code",
   "execution_count": 21,
   "id": "587fd124",
   "metadata": {},
   "outputs": [
    {
     "data": {
      "text/plain": [
       "1758780313.8524933"
      ]
     },
     "execution_count": 21,
     "metadata": {},
     "output_type": "execute_result"
    }
   ],
   "source": [
    "ti()"
   ]
  },
  {
   "cell_type": "code",
   "execution_count": 40,
   "id": "3b76775e",
   "metadata": {},
   "outputs": [],
   "source": [
    "import time"
   ]
  },
  {
   "cell_type": "markdown",
   "id": "45aa99a3",
   "metadata": {},
   "source": [
    "## 2절 사용자 정의 모듈\n",
    "- 함수나 클래스 등을 파이썬 파일에 저장해서 모듈을 만들고 재사용할 수 있음\n",
    "- 모듈을 가져오는 순서 (1)표준모듈 (2)sys.path 변수에 저장된 경로"
   ]
  },
  {
   "cell_type": "code",
   "execution_count": 42,
   "id": "3a73fa5d",
   "metadata": {},
   "outputs": [
    {
     "data": {
      "text/plain": [
       "['C:\\\\ai\\\\source\\\\01_python',\n",
       " 'C:\\\\Users\\\\Admin\\\\anaconda3\\\\python310.zip',\n",
       " 'C:\\\\Users\\\\Admin\\\\anaconda3\\\\DLLs',\n",
       " 'C:\\\\Users\\\\Admin\\\\anaconda3\\\\lib',\n",
       " 'C:\\\\Users\\\\Admin\\\\anaconda3',\n",
       " '',\n",
       " 'C:\\\\Users\\\\Admin\\\\anaconda3\\\\lib\\\\site-packages',\n",
       " 'C:\\\\Users\\\\Admin\\\\anaconda3\\\\lib\\\\site-packages\\\\win32',\n",
       " 'C:\\\\Users\\\\Admin\\\\anaconda3\\\\lib\\\\site-packages\\\\win32\\\\lib',\n",
       " 'C:\\\\Users\\\\Admin\\\\anaconda3\\\\lib\\\\site-packages\\\\Pythonwin']"
      ]
     },
     "execution_count": 42,
     "metadata": {},
     "output_type": "execute_result"
    }
   ],
   "source": [
    "import sys\n",
    "sys.path"
   ]
  },
  {
   "cell_type": "code",
   "execution_count": 43,
   "id": "9e3be343",
   "metadata": {},
   "outputs": [
    {
     "name": "stdout",
     "output_type": "stream",
     "text": [
      "['C:\\\\ai\\\\source\\\\01_python', 'C:\\\\Users\\\\Admin\\\\anaconda3\\\\python310.zip', 'C:\\\\Users\\\\Admin\\\\anaconda3\\\\DLLs', 'C:\\\\Users\\\\Admin\\\\anaconda3\\\\lib', 'C:\\\\Users\\\\Admin\\\\anaconda3', '', 'C:\\\\Users\\\\Admin\\\\anaconda3\\\\lib\\\\site-packages', 'C:\\\\Users\\\\Admin\\\\anaconda3\\\\lib\\\\site-packages\\\\win32', 'C:\\\\Users\\\\Admin\\\\anaconda3\\\\lib\\\\site-packages\\\\win32\\\\lib', 'C:\\\\Users\\\\Admin\\\\anaconda3\\\\lib\\\\site-packages\\\\Pythonwin', 'C:\\\\ai\\\\source\\\\pylib']\n"
     ]
    }
   ],
   "source": [
    "import sys\n",
    "#sys.path.pop() # 맨끝 index 제거\n",
    "sys.path.append(r'C:\\ai\\source\\pylib')\n",
    "print(sys.path)"
   ]
  },
  {
   "cell_type": "code",
   "execution_count": 47,
   "id": "edb1b050",
   "metadata": {},
   "outputs": [],
   "source": [
    "import fibonacci"
   ]
  },
  {
   "cell_type": "code",
   "execution_count": 48,
   "id": "0d66a3de",
   "metadata": {},
   "outputs": [
    {
     "data": {
      "text/plain": [
       "[0, 1, 1, 2, 3, 5, 8]"
      ]
     },
     "execution_count": 48,
     "metadata": {},
     "output_type": "execute_result"
    }
   ],
   "source": [
    "fibonacci.fibonacci(10)"
   ]
  },
  {
   "cell_type": "code",
   "execution_count": 49,
   "id": "cace729a",
   "metadata": {},
   "outputs": [],
   "source": [
    "del fibonacci"
   ]
  },
  {
   "cell_type": "code",
   "execution_count": 51,
   "id": "5cdf8c0d",
   "metadata": {},
   "outputs": [],
   "source": [
    "# 2. from 모듈명 import 함수명\n",
    "from fibonacci import fibonacci_print, fibonacci"
   ]
  },
  {
   "cell_type": "code",
   "execution_count": 52,
   "id": "e92fc4e1",
   "metadata": {},
   "outputs": [],
   "source": [
    "del fibonacci_print, fibonacci"
   ]
  },
  {
   "cell_type": "code",
   "execution_count": 60,
   "id": "9df36ba6",
   "metadata": {},
   "outputs": [],
   "source": [
    "# 3.import 모듈명 as 별칭\n",
    "import fibonacci as fi  "
   ]
  },
  {
   "cell_type": "code",
   "execution_count": 61,
   "id": "87827762",
   "metadata": {},
   "outputs": [],
   "source": [
    "from fibonacci import fibonacci as fibo, fibonacci_print as fibo_p"
   ]
  },
  {
   "cell_type": "markdown",
   "id": "7a27da8e",
   "metadata": {},
   "source": [
    "## 3절 패키지\n",
    "- 모듈이 들어 있는 폴더(__init__.py)"
   ]
  },
  {
   "cell_type": "code",
   "execution_count": 72,
   "id": "0e111073",
   "metadata": {},
   "outputs": [
    {
     "data": {
      "text/plain": [
       "['C:\\\\ai\\\\source\\\\01_python',\n",
       " 'C:\\\\Users\\\\Admin\\\\anaconda3\\\\python310.zip',\n",
       " 'C:\\\\Users\\\\Admin\\\\anaconda3\\\\DLLs',\n",
       " 'C:\\\\Users\\\\Admin\\\\anaconda3\\\\lib',\n",
       " 'C:\\\\Users\\\\Admin\\\\anaconda3',\n",
       " '',\n",
       " 'C:\\\\Users\\\\Admin\\\\anaconda3\\\\lib\\\\site-packages',\n",
       " 'C:\\\\Users\\\\Admin\\\\anaconda3\\\\lib\\\\site-packages\\\\win32',\n",
       " 'C:\\\\Users\\\\Admin\\\\anaconda3\\\\lib\\\\site-packages\\\\win32\\\\lib',\n",
       " 'C:\\\\Users\\\\Admin\\\\anaconda3\\\\lib\\\\site-packages\\\\Pythonwin',\n",
       " 'C:\\\\ai\\\\source\\\\pylib']"
      ]
     },
     "execution_count": 72,
     "metadata": {},
     "output_type": "execute_result"
    }
   ],
   "source": [
    "import sys\n",
    "sys.path"
   ]
  },
  {
   "cell_type": "code",
   "execution_count": 75,
   "id": "ac96bcc1",
   "metadata": {},
   "outputs": [
    {
     "name": "stdout",
     "output_type": "stream",
     "text": [
      "sample_pac 패키지를 로드했어요\n"
     ]
    }
   ],
   "source": [
    "import sample_pac"
   ]
  },
  {
   "cell_type": "code",
   "execution_count": 76,
   "id": "a51301d9",
   "metadata": {},
   "outputs": [
    {
     "name": "stdout",
     "output_type": "stream",
     "text": [
      "sample_pac안의 test입니다.\n"
     ]
    }
   ],
   "source": [
    "sample_pac.test()"
   ]
  },
  {
   "cell_type": "code",
   "execution_count": 78,
   "id": "e56d9488",
   "metadata": {},
   "outputs": [
    {
     "name": "stdout",
     "output_type": "stream",
     "text": [
      "sample_pac.py.ab.a a 모듈의 hello\n"
     ]
    }
   ],
   "source": [
    "from sample_pac.ab import *\n",
    "a.hello()"
   ]
  },
  {
   "cell_type": "code",
   "execution_count": 81,
   "id": "22a431a7",
   "metadata": {},
   "outputs": [
    {
     "ename": "NameError",
     "evalue": "name 'b' is not defined",
     "output_type": "error",
     "traceback": [
      "\u001b[1;31m---------------------------------------------------------------------------\u001b[0m",
      "\u001b[1;31mNameError\u001b[0m                                 Traceback (most recent call last)",
      "Cell \u001b[1;32mIn[81], line 2\u001b[0m\n\u001b[0;32m      1\u001b[0m \u001b[38;5;28;01mfrom\u001b[39;00m \u001b[38;5;21;01msample_pac\u001b[39;00m\u001b[38;5;21;01m.\u001b[39;00m\u001b[38;5;21;01mab\u001b[39;00m\u001b[38;5;21;01m.\u001b[39;00m\u001b[38;5;21;01mb\u001b[39;00m \u001b[38;5;28;01mimport\u001b[39;00m world\n\u001b[1;32m----> 2\u001b[0m \u001b[43mb\u001b[49m\u001b[38;5;241m.\u001b[39mworld()\n",
      "\u001b[1;31mNameError\u001b[0m: name 'b' is not defined"
     ]
    }
   ],
   "source": [
    "from sample_pac.ab.b import world\n",
    "b.world()"
   ]
  },
  {
   "cell_type": "code",
   "execution_count": 84,
   "id": "1e4b41d9",
   "metadata": {},
   "outputs": [
    {
     "name": "stdout",
     "output_type": "stream",
     "text": [
      "sample_pac/cd 패키지 안의 c모듈안의 nice\n"
     ]
    }
   ],
   "source": [
    "from sample_pac.cd import c\n",
    "c.nice()"
   ]
  },
  {
   "cell_type": "code",
   "execution_count": 85,
   "id": "44b8f515",
   "metadata": {},
   "outputs": [
    {
     "name": "stdout",
     "output_type": "stream",
     "text": [
      "sample_pac.py.ab.a a 모듈의 hello\n"
     ]
    }
   ],
   "source": [
    "c.a.hello()"
   ]
  },
  {
   "cell_type": "code",
   "execution_count": null,
   "id": "ed5338c0",
   "metadata": {},
   "outputs": [],
   "source": []
  }
 ],
 "metadata": {
  "kernelspec": {
   "display_name": "Python 3 (ipykernel)",
   "language": "python",
   "name": "python3"
  },
  "language_info": {
   "codemirror_mode": {
    "name": "ipython",
    "version": 3
   },
   "file_extension": ".py",
   "mimetype": "text/x-python",
   "name": "python",
   "nbconvert_exporter": "python",
   "pygments_lexer": "ipython3",
   "version": "3.10.9"
  },
  "toc": {
   "base_numbering": 1,
   "nav_menu": {},
   "number_sections": false,
   "sideBar": true,
   "skip_h1_title": false,
   "title_cell": "Table of Contents",
   "title_sidebar": "Contents",
   "toc_cell": false,
   "toc_position": {
    "height": "calc(100% - 180px)",
    "left": "10px",
    "top": "150px",
    "width": "165px"
   },
   "toc_section_display": true,
   "toc_window_display": true
  }
 },
 "nbformat": 4,
 "nbformat_minor": 5
}
