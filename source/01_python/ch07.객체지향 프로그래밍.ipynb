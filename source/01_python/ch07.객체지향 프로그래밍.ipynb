{
 "cells": [
  {
   "cell_type": "code",
   "execution_count": 1,
   "id": "b6ca01c1",
   "metadata": {},
   "outputs": [
    {
     "data": {
      "text/html": [
       "\n",
       "<style>\n",
       "div.container{width:95% !important;}\n",
       "div.cell.code_cell.rendered{width:100%;}\n",
       "div.input_prompt{padding:0px;}\n",
       "div.CodeMirror {font-family:Consolas; font-size:22pt;}\n",
       "div.text_cell_render.rendered_html{font-size:18pt;}\n",
       "div.output {font-size:15pt; font-weight:bold;}\n",
       "div.input {font-family:Consolas; font-size:22pt;}\n",
       "div.prompt {min-width:70px;}\n",
       "div#toc-wrapper{padding-top:120px;}\n",
       "div.text_cell_render ul li{font-size:22pt;padding:5px;}\n",
       "table.dataframe{font-size:22px;}\n",
       "</style>\n"
      ],
      "text/plain": [
       "<IPython.core.display.HTML object>"
      ]
     },
     "metadata": {},
     "output_type": "display_data"
    }
   ],
   "source": [
    "from IPython.display import display, HTML\n",
    "display(HTML(\"\"\"\n",
    "<style>\n",
    "div.container{width:95% !important;}\n",
    "div.cell.code_cell.rendered{width:100%;}\n",
    "div.input_prompt{padding:0px;}\n",
    "div.CodeMirror {font-family:Consolas; font-size:22pt;}\n",
    "div.text_cell_render.rendered_html{font-size:18pt;}\n",
    "div.output {font-size:15pt; font-weight:bold;}\n",
    "div.input {font-family:Consolas; font-size:22pt;}\n",
    "div.prompt {min-width:70px;}\n",
    "div#toc-wrapper{padding-top:120px;}\n",
    "div.text_cell_render ul li{font-size:22pt;padding:5px;}\n",
    "table.dataframe{font-size:22px;}\n",
    "</style>\n",
    "\"\"\"))"
   ]
  },
  {
   "cell_type": "markdown",
   "id": "eb7ff821",
   "metadata": {},
   "source": [
    "<b><font size=\"7\" color=\"red\">ch07.객체지향 프로그래밍</font></b>\n",
    "a = 10\n",
    "a = true\n",
    "a = 'hello world'"
   ]
  },
  {
   "cell_type": "code",
   "execution_count": 2,
   "id": "1d0e4714",
   "metadata": {},
   "outputs": [
    {
     "name": "stdout",
     "output_type": "stream",
     "text": [
      "홍길동 남자\n",
      "{'name': '홍길똥', 'gender': '남자', 'academy': 'MBC'}\n",
      "{'name': '김길숙', 'gender': '여자', 'academy': 'MBC'}\n"
     ]
    }
   ],
   "source": [
    "person1 = {'name':'홍길동','gender':'남자','academy':'MBC'}\n",
    "person2 = {'name':'김길숙','gender':'여자','academy':'MBC'}\n",
    "print(person1['name'], person1.get('gender'))\n",
    "person1['name'] = '홍길똥'\n",
    "print(person1)\n",
    "print(person2)\n",
    "# person1.my_function()"
   ]
  },
  {
   "cell_type": "code",
   "execution_count": 68,
   "id": "39245573",
   "metadata": {},
   "outputs": [
    {
     "name": "stdout",
     "output_type": "stream",
     "text": [
      "MBC의 김길숙님은 여자입니다\n",
      "MBC의 alfj님은 aklfj입니다\n",
      "djfk의 alfj님은 aklfj입니다\n",
      "djfk\n"
     ]
    }
   ],
   "source": [
    "class Person:\n",
    "    academy = 'MBC' # 클래스 변수\n",
    "    def __init__(self, name, gender): # 생성자 함수\n",
    "        self.name = name\n",
    "        self.gender = gender\n",
    "    def print_info(self):\n",
    "        print(f\"{self.academy}의 {self.name}님은 {self.gender}입니다\" )\n",
    "        \n",
    "p1 = Person('김길숙','여자') # 객체변수(인스턴스) 생성\n",
    "p1.print_info()\n",
    "# p1 = Person('헝길공','남자')\n",
    "# p1.name = \"g홍옿골\"\n",
    "# p1.print_info()\n",
    "p2 = Person('alfj','aklfj')\n",
    "p2.print_info()\n",
    "Person.academy='djfk'\n",
    "p2.print_info()\n",
    "print(Person.academy)"
   ]
  },
  {
   "cell_type": "markdown",
   "id": "7c49c19d",
   "metadata": {},
   "source": [
    "# 1절 객체와 클래스\n",
    "'''\n",
    "\n",
    "class 클래스명(상속받을 클래스명) : \n",
    "    \"독 스트링\"\n",
    "    변수나 함수들을 선언\n",
    "'''"
   ]
  },
  {
   "cell_type": "code",
   "execution_count": 4,
   "id": "11da12c6",
   "metadata": {},
   "outputs": [
    {
     "data": {
      "text/plain": [
       "__main__.Person"
      ]
     },
     "execution_count": 4,
     "metadata": {},
     "output_type": "execute_result"
    }
   ],
   "source": [
    "class Person():\n",
    "    \"\"\" \n",
    "    \"Peron 클래스는 어쩌구 저쩌구 블라블라 독스트링\"\n",
    "    \"\"\"\n",
    "    def __init__(self):\n",
    "        pass\n",
    "p1 = Person()\n",
    "type(p1)"
   ]
  },
  {
   "cell_type": "code",
   "execution_count": 5,
   "id": "f6671966",
   "metadata": {},
   "outputs": [
    {
     "name": "stdout",
     "output_type": "stream",
     "text": [
      "<__main__.Person object at 0x0000013AECCDEEC0>\n",
      "<__main__.Person object at 0x0000013AECCDEEC0>\n"
     ]
    }
   ],
   "source": [
    "print(p1)\n",
    "print(p1.__str__())"
   ]
  },
  {
   "cell_type": "code",
   "execution_count": 6,
   "id": "ea46ca5a",
   "metadata": {},
   "outputs": [
    {
     "data": {
      "text/plain": [
       "True"
      ]
     },
     "execution_count": 6,
     "metadata": {},
     "output_type": "execute_result"
    }
   ],
   "source": [
    "isinstance(p1, Person)"
   ]
  },
  {
   "cell_type": "code",
   "execution_count": 7,
   "id": "95201912",
   "metadata": {},
   "outputs": [
    {
     "data": {
      "text/plain": [
       "' \\n    \"Peron 클래스는 어쩌구 저쩌구 블라블라 독스트링\"\\n    '"
      ]
     },
     "execution_count": 7,
     "metadata": {},
     "output_type": "execute_result"
    }
   ],
   "source": [
    "p1.__doc__"
   ]
  },
  {
   "cell_type": "markdown",
   "id": "64b54249",
   "metadata": {},
   "source": [
    "# 2절 생성자('__init__()')와 소멸자('__del__()')\n",
    "- 생성자 : __init__ (self, [매개변수1, 매개변수2..]) 객체가 생서될 때 자동실행\n",
    "    객체 생성시 필요한 코드(인스턴스 변수 생성과 초기화)를 포함한다.\n",
    "- 소멸자 : __del__(self) - 객체가 소멸될 때 자동실행\n",
    "    객체 소멸시 필요한 코드를 포함\n",
    "    인스턴스(객체)"
   ]
  },
  {
   "cell_type": "code",
   "execution_count": 12,
   "id": "78ee7682",
   "metadata": {},
   "outputs": [],
   "source": [
    "class Person:\n",
    "    def __init__(self, name, gender):\n",
    "        self.name = name \n",
    "        self.gender = gender\n",
    "        print(\"person형 객체를 생성\")\n",
    "    def __del__(self):\n",
    "        print(\"person형 객체를 소멸\")\n",
    "    def print_info(self):\n",
    "        print(f\"{self.name}님은 {self.gender}입니다\")\n",
    "    def __str__(self): #오버라이딩(함수의 재정의)\n",
    "        return \"홍기로\""
   ]
  },
  {
   "cell_type": "code",
   "execution_count": 13,
   "id": "5f9c4a58",
   "metadata": {},
   "outputs": [
    {
     "name": "stdout",
     "output_type": "stream",
     "text": [
      "person형 객체를 생성\n",
      "person형 객체를 소멸\n",
      "person형 객체를 소멸\n"
     ]
    }
   ],
   "source": [
    "p1 = Person('신사임당','여자')\n",
    "del p1"
   ]
  },
  {
   "cell_type": "code",
   "execution_count": 14,
   "id": "e6148671",
   "metadata": {},
   "outputs": [
    {
     "name": "stdout",
     "output_type": "stream",
     "text": [
      "person형 객체를 생성\n"
     ]
    }
   ],
   "source": [
    "p2 = Person('fadsdjf','sks자')"
   ]
  },
  {
   "cell_type": "code",
   "execution_count": 15,
   "id": "0c792de7",
   "metadata": {},
   "outputs": [],
   "source": [
    "p3 = p2"
   ]
  },
  {
   "cell_type": "code",
   "execution_count": 16,
   "id": "a64405a2",
   "metadata": {},
   "outputs": [
    {
     "name": "stdout",
     "output_type": "stream",
     "text": [
      "홍기로\n"
     ]
    }
   ],
   "source": [
    "print(p3)"
   ]
  },
  {
   "cell_type": "code",
   "execution_count": 28,
   "id": "ea6854ee",
   "metadata": {},
   "outputs": [],
   "source": [
    "##** 오버라이딩 ** (함수의 재정의) \n",
    "# 파이썬은 ** 오버로딩 **(함수의 중복정의) 불가"
   ]
  },
  {
   "cell_type": "code",
   "execution_count": 32,
   "id": "f297e605",
   "metadata": {},
   "outputs": [],
   "source": [
    "class Person:\n",
    "    def __init__(self, name, gender):\n",
    "        self.name = name \n",
    "        self.gender = gender\n",
    "        print(\"person형 객체를 생성\")\n",
    "    def __del__(self):\n",
    "        print(\"person형 객체를 소멸\")\n",
    "    def print_info(self):\n",
    "        print(f\"{self.name}님은 {self.gender}입니다\")\n",
    "    def __str__(self): #오버라이딩(함수의 재정의)\n",
    "        return (f\"{self.name}님은 {self.gender}입니다\")"
   ]
  },
  {
   "cell_type": "code",
   "execution_count": 40,
   "id": "f735104f",
   "metadata": {},
   "outputs": [
    {
     "name": "stdout",
     "output_type": "stream",
     "text": [
      "person형 객체를 생성\n",
      "person형 객체를 소멸\n",
      "person형 객체를 생성\n",
      "person형 객체를 소멸\n",
      "홍길동님은 남자입니다\n",
      "남자님은 홍길동입니다\n"
     ]
    }
   ],
   "source": [
    "p1 = Person(\"홍길동\", \"남자\")\n",
    "p2 = Person(gender=\"홍길동\", name=\"남자\")\n",
    "print(p1)\n",
    "print(p2)"
   ]
  },
  {
   "cell_type": "code",
   "execution_count": 44,
   "id": "6e1e7ff9",
   "metadata": {},
   "outputs": [],
   "source": [
    "class Person:\n",
    "    def __init__(self, name=\"홍길동\", gender=\"남자\"):\n",
    "        self.name = name \n",
    "        self.gender = gender\n",
    "        print(\"person형 객체를 생성\")\n",
    "    def __del__(self):\n",
    "        print(\"person형 객체를 소멸\")\n",
    "    def print_info(self):\n",
    "        print(f\"{self.name}님은 {self.gender}입니다\")\n",
    "    def __str__(self): #오버라이딩(함수의 재정의)\n",
    "        return (f\"{self.name}님은 {self.gender}입니다\")"
   ]
  },
  {
   "cell_type": "code",
   "execution_count": 49,
   "id": "1a53dc2d",
   "metadata": {},
   "outputs": [
    {
     "name": "stdout",
     "output_type": "stream",
     "text": [
      "person형 객체를 생성\n",
      "person형 객체를 소멸\n",
      "person형 객체를 생성\n",
      "person형 객체를 소멸\n",
      "person형 객체를 생성\n",
      "person형 객체를 소멸\n",
      "person형 객체를 생성\n",
      "person형 객체를 소멸\n"
     ]
    }
   ],
   "source": [
    "p1 = Person(\"홍길동\", \"남자\")\n",
    "p2 = Person(gender=\"홍길동\", name=\"남자\")\n",
    "p3 = Person(\"감강찬\")\n",
    "p2 = Person(gender=\"여자\", name=\"홍이쁨\")"
   ]
  },
  {
   "cell_type": "markdown",
   "id": "15508e46",
   "metadata": {},
   "source": [
    "# 3절 변수와 메소드(함수)\n",
    "- 인스턴스 변수 vs 클래스 변수 vs static변수(정적변수)\n",
    "- 인스턴스메소드(self) 클래스메소드 vs static메소드()"
   ]
  },
  {
   "cell_type": "code",
   "execution_count": 74,
   "id": "ff3d5c12",
   "metadata": {},
   "outputs": [
    {
     "name": "stdout",
     "output_type": "stream",
     "text": [
      "MBC\n",
      "MBC의 홍길동님은 남자입니다\n",
      "p1객체변수(인스턴스) = None\n"
     ]
    }
   ],
   "source": []
  },
  {
   "cell_type": "markdown",
   "id": "d86a749f",
   "metadata": {},
   "source": [
    "# ※ 인스턴스메소드 vs 클래스메소드 vs static 메소드\n",
    "- 인스턴스메소드 : 첫번째 인자에 self를 명시. 객체를 통해서만 호출할 수 있는 메소드\n",
    "- 클래스메소드 : 메소드 위에 @classsmethod를 명시. 첫번째 인자에 clz(cls)를 명시\n",
    "- static메소드 : 메소드 위에 @staticmethod를 명시. 디폴트인자 없음"
   ]
  },
  {
   "cell_type": "code",
   "execution_count": 75,
   "id": "195f2101",
   "metadata": {},
   "outputs": [
    {
     "name": "stdout",
     "output_type": "stream",
     "text": [
      "MBC\n",
      "p1객체변수(인스턴스) = MBC의 홍길동님은 남자입니다\n",
      "p2객체변수(인스턴스) = MBC의 홍길동님은 남자입니다\n",
      "p1객체변수(인스턴스) = SBS의 홍길동님은 남자입니다\n",
      "p2객체변수(인스턴스) = 다른데의 홍길동님은 남자입니다\n"
     ]
    }
   ],
   "source": [
    "# 클래스 변수는 클래스 내부에 선언되며, 생성된 모든 인스턴스(객체)에 동일한 값을 가진다\n",
    "# 인스턴스(객체).클래스변수로 수정하면 해당 인스턴스(객체)만 반영\n",
    "# 클래스명.클래스변수로 수정하면 모든 인스턴스에 반영\n",
    "class Person:\n",
    "    academy = 'MBC' # 클래스변수\n",
    "    def __init__(self, name=\"홍길동\", gender=\"남자\"): # 생성자함수\n",
    "        self.name = name\n",
    "        self.gender = gender\n",
    "    def __str__(self):\n",
    "        return \"{}의 {}님은 {}입니다\".format(self.academy, self.name, self.gender)\n",
    "print(Person.academy)\n",
    "p1 = Person()\n",
    "p2 = Person()\n",
    "print('p1객체변수(인스턴스) =', p1.__str__())\n",
    "print('p2객체변수(인스턴스) =', p2)\n",
    "p1.academy = \"SBS\" # 인스턴스(객체).클래스변수로 수정하면 해당 인스턴스(객체)만 반영\n",
    "Person.academy = \"다른데\"\n",
    "print('p1객체변수(인스턴스) =', p1)\n",
    "print('p2객체변수(인스턴스) =', p2)\n",
    "#print(Person.__str__())"
   ]
  },
  {
   "cell_type": "code",
   "execution_count": 78,
   "id": "2094087d",
   "metadata": {},
   "outputs": [],
   "source": [
    "class Person:\n",
    "    academy = 'MBC' # 클래스 변수\n",
    "    def __init__(self, name=\"홍길동\", gender=\"남자\"):\n",
    "        self.name = name\n",
    "        self.gender = gender\n",
    "    def print_info(self): # 인스턴스메소드 : 객체변수.print_info()로 호출\n",
    "        print(\"일반(인스턴스)메소드 - {}의 {}님은 {}입니다\".format(self.academy,\n",
    "                                                   self.name,\n",
    "                                                   self.gender))\n",
    "    def change_info(self, name=\"익명\", gender=\"여자\"):\n",
    "        self.name = name\n",
    "        self.gender = gender\n",
    "        print(\"일반(인스턴스)메소드를 통해 {}로 이름변경. {}로 성별변경\".format(self.name,\n",
    "                                                         self.gender))\n",
    "    @classmethod\n",
    "    def do_(clz): #clz => Person의미. 클래스 변수를 이용한 로직\n",
    "        clz.academy = 'classAcademy'\n",
    "        print(\"클래스 메소드에서 {}로 클래스변수 변경\".format(clz.academy))\n",
    "    @classmethod\n",
    "    def done_(clz, academy): #clz => Person의미. 클래스 변수를 이용한 로직\n",
    "        clz.academy = academy\n",
    "        print(\"클래스 메소드에서 {}로 클래스변수 변경\".format(clz.academy))\n",
    "    @staticmethod\n",
    "    def that_(): # 클래스변수보다는 로직이 우선일 경우\n",
    "        Person.academy = \"staticAmethod\"\n",
    "        print(\"클래스 메소드에서 {}로 클래스변수 변경\".format(clz.academy))"
   ]
  },
  {
   "cell_type": "code",
   "execution_count": 81,
   "id": "a03db526",
   "metadata": {},
   "outputs": [
    {
     "name": "stdout",
     "output_type": "stream",
     "text": [
      "일반(인스턴스)메소드 - MBC의 홍길동님은 남자입니다\n"
     ]
    }
   ],
   "source": [
    "p1= Person()\n",
    "p1.print_info()"
   ]
  },
  {
   "cell_type": "code",
   "execution_count": null,
   "id": "b2d9c63a",
   "metadata": {},
   "outputs": [],
   "source": [
    "Person.that_()"
   ]
  },
  {
   "cell_type": "code",
   "execution_count": 84,
   "id": "36627328",
   "metadata": {},
   "outputs": [
    {
     "name": "stdout",
     "output_type": "stream",
     "text": [
      "일반(인스턴스)메소드를 통해 익명로 이름변경. 여자로 성별변경\n",
      "일반(인스턴스)메소드 - MBC의 익명님은 여자입니다\n"
     ]
    }
   ],
   "source": [
    "p1.change_info()\n",
    "p1.print_info()"
   ]
  },
  {
   "cell_type": "code",
   "execution_count": 85,
   "id": "20e5e0d8",
   "metadata": {},
   "outputs": [
    {
     "name": "stdout",
     "output_type": "stream",
     "text": [
      "일반(인스턴스)메소드 - MBC의 홍길동님은 남자입니다\n"
     ]
    }
   ],
   "source": [
    "p2= Person()\n",
    "p2.print_info()"
   ]
  },
  {
   "cell_type": "code",
   "execution_count": 86,
   "id": "657553b7",
   "metadata": {},
   "outputs": [
    {
     "name": "stdout",
     "output_type": "stream",
     "text": [
      "클래스 메소드에서 classAcademy로 클래스변수 변경\n",
      "일반(인스턴스)메소드 - classAcademy의 익명님은 여자입니다\n",
      "일반(인스턴스)메소드 - classAcademy의 홍길동님은 남자입니다\n"
     ]
    }
   ],
   "source": [
    "Person.do_()\n",
    "p1.print_info()\n",
    "p2.print_info()"
   ]
  },
  {
   "cell_type": "code",
   "execution_count": 87,
   "id": "8c42dafd",
   "metadata": {},
   "outputs": [
    {
     "name": "stdout",
     "output_type": "stream",
     "text": [
      "클래스 메소드에서 sbs로 클래스변수 변경\n",
      "일반(인스턴스)메소드 - sbs의 익명님은 여자입니다\n",
      "일반(인스턴스)메소드 - sbs의 홍길동님은 남자입니다\n"
     ]
    }
   ],
   "source": [
    "Person.done_(\"sbs\")\n",
    "p1.print_info()\n",
    "p2.print_info()"
   ]
  },
  {
   "cell_type": "code",
   "execution_count": null,
   "id": "14ccc8b1",
   "metadata": {},
   "outputs": [],
   "source": []
  },
  {
   "cell_type": "code",
   "execution_count": null,
   "id": "14ef1f73",
   "metadata": {},
   "outputs": [],
   "source": [
    "p1 = Person(\"홍길동\", \"남자\")\n",
    "print(p1)\n",
    "print(isinstance(p1, Person))"
   ]
  },
  {
   "cell_type": "code",
   "execution_count": 6,
   "id": "feadf565",
   "metadata": {},
   "outputs": [
    {
     "name": "stdout",
     "output_type": "stream",
     "text": [
      "Student 객체 생성합니다(자식클래스)\n",
      "홍길숙님은 여자입니다. 전공은 AI입니다\n"
     ]
    }
   ],
   "source": [
    "s1 = Student(\"홍길숙\", \"여자\", \"AI\")\n",
    "print(s1)"
   ]
  },
  {
   "cell_type": "code",
   "execution_count": 7,
   "id": "77fc25e3",
   "metadata": {},
   "outputs": [
    {
     "name": "stdout",
     "output_type": "stream",
     "text": [
      "홍길숙님은 여자입니다. 전공은 AI입니다\n"
     ]
    }
   ],
   "source": [
    "s1.print_info()"
   ]
  },
  {
   "cell_type": "code",
   "execution_count": 9,
   "id": "d76537d7",
   "metadata": {},
   "outputs": [
    {
     "name": "stdout",
     "output_type": "stream",
     "text": [
      "True\n",
      "True\n"
     ]
    }
   ],
   "source": [
    "print(isinstance(s1, Student))\n",
    "print(isinstance(s1, Person))"
   ]
  },
  {
   "cell_type": "markdown",
   "id": "eae5475a",
   "metadata": {},
   "source": [
    "super() 이용\n",
    "super() : \"부모클래스의\"를 의미"
   ]
  },
  {
   "cell_type": "code",
   "execution_count": 10,
   "id": "6deb7a97",
   "metadata": {},
   "outputs": [
    {
     "ename": "SyntaxError",
     "evalue": "invalid syntax (78509476.py, line 17)",
     "output_type": "error",
     "traceback": [
      "\u001b[1;36m  Cell \u001b[1;32mIn[10], line 17\u001b[1;36m\u001b[0m\n\u001b[1;33m    return super().__str__() + \"전공은 {}입니다\".\u001b[0m\n\u001b[1;37m                                           ^\u001b[0m\n\u001b[1;31mSyntaxError\u001b[0m\u001b[1;31m:\u001b[0m invalid syntax\n"
     ]
    }
   ],
   "source": [
    "class Person:\n",
    "    def __init__(self, name, gender):\n",
    "        self.name = name # 인스턴스 변수를 초기화\n",
    "        self.gender = gender\n",
    "        print(\"Person 객체 생성합니다(부모클래스)\")\n",
    "    def print_info(self):\n",
    "        print(self)\n",
    "    def __str__(self): # 오버라이딩(함수의 재정의)\n",
    "        return \"{}님은 {}입니다\".format(self.name, self.gender)\n",
    "class Student(Person):\n",
    "    def __init__(self, name, gender, major):\n",
    "        super().__init__(name, gender)\n",
    "        self.major = major        \n",
    "        print(\"Student 객체 생성합니다(자식클래스)\")\n",
    "    # 재정의(override) : 부모클래스에서 정의한 함수를 자식클래스에서 다시 정의\n",
    "    def __str__(self):\n",
    "        return super().__str__() + \"전공은 {}입니다\"."
   ]
  },
  {
   "cell_type": "code",
   "execution_count": 140,
   "id": "b807cc22",
   "metadata": {},
   "outputs": [
    {
     "name": "stdout",
     "output_type": "stream",
     "text": [
      "Person 객체 생성합니다(부모클래스)\n",
      "Student 객체 생성합니다(자식클래스)\n",
      "아무개님은 여자입니다전공은 AI입니다\n",
      "아무개님은 여자입니다전공은 AI입니다\n"
     ]
    }
   ],
   "source": [
    "s2= Student(\"아무개\",\"여자\",\"AI\")\n",
    "print(s2)\n",
    "s2.print_info()"
   ]
  },
  {
   "cell_type": "markdown",
   "id": "5fae83a5",
   "metadata": {},
   "source": [
    "static 변수(정적변수) : 여러 객체들 사이에 데이터를 공유하고 싶을 때 사용\n",
    "static 변수 : 앞에 under score2개(__) 붙임. 클래스명._클래스명__static변수명으로 참조\n",
    "static변수는 클래스 내부에서만 접근하도록 하려는 용도"
   ]
  },
  {
   "cell_type": "code",
   "execution_count": 11,
   "id": "22cfd93c",
   "metadata": {},
   "outputs": [],
   "source": [
    "class Student(Person):\n",
    "    'name, gender에 major변수를 갖는 Student 타입. Stuent객체를 몇번 생성되어 있는지 공유'\n",
    "    __count = 0 # static변수\n",
    "    def __init__(self, name, gender, major):\n",
    "        super().__init__(name, gender)\n",
    "        self.major = major\n",
    "        Student._Student__count += 1 # 객체가 생성될 때마다 __count 1 증가\n",
    "    def __del__(self):\n",
    "        Student._Student__count -= 1 # 객체가 소멸될 때마다 __count 1 감소\n",
    "    def __str__(self):\n",
    "        return super().__str__() + \", 전공은 {} - 객체 {} 생성\".format(self.major,\n",
    "                                                        Student._Student__count)\n",
    "    @classmethod\n",
    "    def get_count(cls): # 클래스변수나 static변수를 이용하는 로직\n",
    "        return cls.__count\n",
    "        #return Student._Student__count"
   ]
  },
  {
   "cell_type": "code",
   "execution_count": 14,
   "id": "698f13bd",
   "metadata": {},
   "outputs": [
    {
     "name": "stdout",
     "output_type": "stream",
     "text": [
      "Person 객체 생성합니다(부모클래스)\n",
      "홍길동님은 남자입니다, 전공은 컴공 - 객체 2 생성\n",
      "2\n",
      "2\n"
     ]
    }
   ],
   "source": [
    "s1 = Student(\"홍길동\", \"남자\", \"컴공\")\n",
    "print(s1)\n",
    "print(\"객체 갯수 :\", Student.get_count())\n",
    "print(\"객체 갯수 :\", s1.get_count()) # 클래스 메소드는 클래스명.클래스메소드() 추천"
   ]
  },
  {
   "cell_type": "code",
   "execution_count": null,
   "id": "06000c7c",
   "metadata": {},
   "outputs": [],
   "source": [
    "s2 = Student(\"홍길숙\", \"여자\", \"컴공\")\n",
    "print(s2)\n",
    "print(\"객체 갯수 :\", Student.get_count())"
   ]
  },
  {
   "cell_type": "code",
   "execution_count": null,
   "id": "bba06404",
   "metadata": {},
   "outputs": [],
   "source": [
    "\n",
    "del s1"
   ]
  },
  {
   "cell_type": "code",
   "execution_count": 15,
   "id": "4c9b12bd",
   "metadata": {},
   "outputs": [
    {
     "name": "stdout",
     "output_type": "stream",
     "text": [
      "객체 갯수 : 2\n"
     ]
    }
   ],
   "source": [
    "print(\"객체 갯수 :\", Student.get_count())"
   ]
  },
  {
   "cell_type": "code",
   "execution_count": 16,
   "id": "3adf7f58",
   "metadata": {},
   "outputs": [
    {
     "ename": "NameError",
     "evalue": "name 's2' is not defined",
     "output_type": "error",
     "traceback": [
      "\u001b[1;31m---------------------------------------------------------------------------\u001b[0m",
      "\u001b[1;31mNameError\u001b[0m                                 Traceback (most recent call last)",
      "Cell \u001b[1;32mIn[16], line 1\u001b[0m\n\u001b[1;32m----> 1\u001b[0m \u001b[38;5;28;01mdel\u001b[39;00m s2\n",
      "\u001b[1;31mNameError\u001b[0m: name 's2' is not defined"
     ]
    }
   ],
   "source": [
    "del s2"
   ]
  },
  {
   "cell_type": "code",
   "execution_count": null,
   "id": "a1a5fefe",
   "metadata": {},
   "outputs": [],
   "source": [
    "print(\"객체 갯수 :\", Student.get_count())"
   ]
  },
  {
   "cell_type": "markdown",
   "id": "32ce2f7a",
   "metadata": {},
   "source": [
    "## 5절 연습문제\n",
    "실습형"
   ]
  },
  {
   "cell_type": "code",
   "execution_count": 23,
   "id": "62a5305e",
   "metadata": {},
   "outputs": [],
   "source": [
    "#1번. 다음 조건을 만족하는 클래스를 작성하세요.\n",
    "\n",
    "# 도형 (Shape) 클래스와 삼각형 (Triangle) 클래스를 만들어야 합니다\n",
    "# 도형 (Shape) 클래스생성자를 통해 x, y 좌표를 초기화할 수 있습니다. x, y 좌표의 기본값은 0, 0 입니다\n",
    "# x, y 좌표를 이동시킬 수 있는 move 함수가 있습니다\n",
    "# x, y 좌표값 정보를 문자열로 리턴하는 __str __ 함수가 있습니다\n",
    "# 도형의 면적을 구하는 함수 calc_area 가 있습니다 . \n",
    "# 다만 도형 클래스의 calc_area 는 구현되어 있지 않아 호출하면 오류가 발생합니다 \n",
    "# 파이썬은 추상메소드가 없음 추상메소드 역할을 구현 정적메소드 staticmethod를 하나 이상 구현합니다\n",
    "\n",
    "# 삼각형 (Triangle) 클래스는 도형 (Shape) 클래스이다 관계가 성립해야 합니다\n",
    "# 생성자를 통해 width, height, x, y 좌표를 초기화하고 x, y 좌표의 기본값은 0, 0 입니다\n",
    "# 삼각형의 면적을 구하는 메소드 calc_area 를 재정의합니다\n",
    "# 삼각형의 정보를 문자열로 반환하는 __str__() 함수가 있습니다\n",
    "# 삼각형 객체가 몇 개가 만들어져 있는지 정보를 저장하는 클래스 변수를 추가하고 생성자에서 \n",
    "# 객체를 만들 때마다 증가시키고 소멸자에서 객체를 소멸시킬 때마다 감소합니다 \n",
    "\n",
    "class Shape:\n",
    "    \"\"\"도형의 기본 클래스입니다.\"\"\"\n",
    "    def __init__(self, x=0, y=0):\n",
    "        \"\"\"\n",
    "        도형 (Shape) 클래스생성자를 통해 x, y 좌표를 초기화할 수 있습니다. x, y 좌표의 기본값은 0, 0 입니다\n",
    "        :param x: x 좌표 (기본값: 0)\n",
    "        :param y: y 좌표 (기본값: 0)\n",
    "        \"\"\"\n",
    "        self.x = x\n",
    "        self.y = y\n",
    "\n",
    "    def move(self, dx, dy):\n",
    "        \"\"\"\n",
    "        x, y 좌표를 이동시킬 수 있는 move 함수가 있습니다\n",
    "        :param dx: x 좌표의 이동량\n",
    "        :param dy: y 좌표의 이동량\n",
    "        \"\"\"\n",
    "        self.x += dx\n",
    "        self.y += dy\n",
    "\n",
    "    def __str__(self):\n",
    "        \"\"\"x, y 좌표값 정보를 문자열로 리턴하는 __str __ 함수가 있습니다 \"\"\"\n",
    "        return f\"({self.x}, {self.y})\"\n",
    "\n",
    "    def calc_area(self):\n",
    "        \"\"\"\n",
    "        도형의 면적을 구하는 함수 calc_area 가 있습니다\n",
    "        다만 도형 클래스의 calc_area 는 구현되어 있지 않아 호출하면 오류가 발생합니다 \n",
    "        \"\"\"\n",
    "        raise NotImplementedError(\"calc_area() 메서드는 하위 클래스에서 구현되어야 합니다.\")\n",
    "\n",
    "    @staticmethod\n",
    "    def is_valid_coordinate(coord):\n",
    "        \"\"\"파이썬은 추상메소드가 없음 추상메소드 역할을 구현 정적메소드 staticmethod를 하나 이상 구현합니다\"\"\"\n",
    "        return isinstance(coord, (int, float))\n",
    "\n",
    "class Triangle(Shape):\n",
    "    \"\"\"도형(Shape)클래스와 삼각형(Triangle)클래스를 만들어야 합니다\"\"\"\n",
    "    \n",
    "    triangle_count = 0  \n",
    "\n",
    "    def __init__(self, width, height, x=0, y=0):\n",
    "        \"\"\"\n",
    "        생성자를 통해 width, height, x, y 좌표를 초기화하고 x, y 좌표의 기본값은 0, 0 입니다\n",
    "        \"\"\"\n",
    "        super().__init__(x, y)\n",
    "        self.width = width\n",
    "        self.height = height\n",
    "        Triangle.triangle_count += 1\n",
    "\n",
    "    def __del__(self):\n",
    "        \"\"\"\n",
    "        삼각형 객체가 몇 개가 만들어져 있는지 정보를 저장하는 클래스 변수를 추가하고 생성자에서 \n",
    "        객체를 만들 때마다 증가시키고 소멸자에서 객체를 소멸시킬 때마다 감소합니다\n",
    "        \"\"\"\n",
    "        Triangle.triangle_count -= 1\n",
    "        print(f\"삼각형 객체가 소멸되었습니다. 현재 남은 객체 수: {Triangle.triangle_count}\")\n",
    "\n",
    "    def calc_area(self):\n",
    "        \"\"\"삼각형의 면적을 구하는 메소드 calc_area 를 재정의합니다\"\"\"\n",
    "        return 0.5 * self.width * self.height\n",
    "\n",
    "    def __str__(self):\n",
    "        \"\"\"삼각형의 정보를 문자열로 반환하는 __str__() 함수가 있습니다\"\"\"\n",
    "        return f\"삼각형 정보 - 위치: ({self.x}, {self.y}), 밑변: {self.width}, 높이: {self.height}, 면적: {self.calc_area()}\""
   ]
  },
  {
   "cell_type": "code",
   "execution_count": null,
   "id": "0f399ad0",
   "metadata": {},
   "outputs": [],
   "source": []
  }
 ],
 "metadata": {
  "kernelspec": {
   "display_name": "Python 3 (ipykernel)",
   "language": "python",
   "name": "python3"
  },
  "language_info": {
   "codemirror_mode": {
    "name": "ipython",
    "version": 3
   },
   "file_extension": ".py",
   "mimetype": "text/x-python",
   "name": "python",
   "nbconvert_exporter": "python",
   "pygments_lexer": "ipython3",
   "version": "3.10.9"
  },
  "toc": {
   "base_numbering": 1,
   "nav_menu": {},
   "number_sections": false,
   "sideBar": true,
   "skip_h1_title": false,
   "title_cell": "Table of Contents",
   "title_sidebar": "Contents",
   "toc_cell": false,
   "toc_position": {
    "height": "calc(100% - 180px)",
    "left": "10px",
    "top": "150px",
    "width": "187.635px"
   },
   "toc_section_display": true,
   "toc_window_display": true
  }
 },
 "nbformat": 4,
 "nbformat_minor": 5
}
