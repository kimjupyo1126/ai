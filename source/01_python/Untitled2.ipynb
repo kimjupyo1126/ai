{
 "cells": [
  {
   "cell_type": "code",
   "execution_count": 1,
   "id": "f469bf77",
   "metadata": {},
   "outputs": [
    {
     "ename": "NameError",
     "evalue": "name 'df' is not defined",
     "output_type": "error",
     "traceback": [
      "\u001b[1;31m---------------------------------------------------------------------------\u001b[0m",
      "\u001b[1;31mNameError\u001b[0m                                 Traceback (most recent call last)",
      "Cell \u001b[1;32mIn[1], line 5\u001b[0m\n\u001b[0;32m      2\u001b[0m \u001b[38;5;28;01mimport\u001b[39;00m \u001b[38;5;21;01mseaborn\u001b[39;00m \u001b[38;5;28;01mas\u001b[39;00m \u001b[38;5;21;01msns\u001b[39;00m\n\u001b[0;32m      4\u001b[0m \u001b[38;5;66;03m# 데이터 준비\u001b[39;00m\n\u001b[1;32m----> 5\u001b[0m yearly_avg \u001b[38;5;241m=\u001b[39m \u001b[43mdf\u001b[49m\u001b[38;5;241m.\u001b[39mgroupby(\u001b[38;5;124m'\u001b[39m\u001b[38;5;124m연도\u001b[39m\u001b[38;5;124m'\u001b[39m)[\u001b[38;5;124m'\u001b[39m\u001b[38;5;124m평당분양가격\u001b[39m\u001b[38;5;124m'\u001b[39m]\u001b[38;5;241m.\u001b[39mmean()\n\u001b[0;32m      6\u001b[0m region_avg \u001b[38;5;241m=\u001b[39m df\u001b[38;5;241m.\u001b[39mgroupby(\u001b[38;5;124m'\u001b[39m\u001b[38;5;124m지역\u001b[39m\u001b[38;5;124m'\u001b[39m)[\u001b[38;5;124m'\u001b[39m\u001b[38;5;124m평당분양가격\u001b[39m\u001b[38;5;124m'\u001b[39m]\u001b[38;5;241m.\u001b[39mmean()\u001b[38;5;241m.\u001b[39msort_values(ascending\u001b[38;5;241m=\u001b[39m\u001b[38;5;28;01mFalse\u001b[39;00m)\n\u001b[0;32m      7\u001b[0m pivot \u001b[38;5;241m=\u001b[39m df\u001b[38;5;241m.\u001b[39mpivot_table(values\u001b[38;5;241m=\u001b[39m\u001b[38;5;124m'\u001b[39m\u001b[38;5;124m평당분양가격\u001b[39m\u001b[38;5;124m'\u001b[39m, index\u001b[38;5;241m=\u001b[39m\u001b[38;5;124m'\u001b[39m\u001b[38;5;124m지역\u001b[39m\u001b[38;5;124m'\u001b[39m, columns\u001b[38;5;241m=\u001b[39m\u001b[38;5;124m'\u001b[39m\u001b[38;5;124m연도\u001b[39m\u001b[38;5;124m'\u001b[39m)\n",
      "\u001b[1;31mNameError\u001b[0m: name 'df' is not defined"
     ]
    }
   ],
   "source": [
    "import matplotlib.pyplot as plt\n",
    "import seaborn as sns\n",
    "\n",
    "# 데이터 준비\n",
    "yearly_avg = df.groupby('연도')['평당분양가격'].mean()\n",
    "region_avg = df.groupby('지역')['평당분양가격'].mean().sort_values(ascending=False)\n",
    "pivot = df.pivot_table(values='평당분양가격', index='지역', columns='연도')\n",
    "\n",
    "# 4개 그래프 대시보드\n",
    "fig = plt.figure(figsize=(18, 12))\n",
    "gs = fig.add_gridspec(2, 2, hspace=0.3, wspace=0.3)\n",
    "\n",
    "# 1. 라인 차트 - 연도별 추이\n",
    "ax1 = fig.add_subplot(gs[0, 0])\n",
    "ax1.plot(yearly_avg.index, yearly_avg.values, \n",
    "         marker='o', linewidth=2.5, markersize=10, color='steelblue')\n",
    "for x, y in zip(yearly_avg.index, yearly_avg.values):\n",
    "    ax1.text(x, y, f'{y:.0f}', ha='center', va='bottom', fontsize=9)\n",
    "ax1.set_title('연도별 평균 평당분양가격 추이', fontsize=14, fontweight='bold')\n",
    "ax1.set_xlabel('연도', fontsize=12)\n",
    "ax1.set_ylabel('평당분양가격 (만원)', fontsize=12)\n",
    "ax1.grid(True, alpha=0.3)\n",
    "\n",
    "# 2. 막대 그래프 - 지역별 비교\n",
    "ax2 = fig.add_subplot(gs[0, 1])\n",
    "bars = ax2.bar(region_avg.index[:10], region_avg.values[:10], \n",
    "               color='coral', alpha=0.7, edgecolor='black')\n",
    "for bar in bars:\n",
    "    height = bar.get_height()\n",
    "    ax2.text(bar.get_x() + bar.get_width()/2., height,\n",
    "             f'{height:.0f}', ha='center', va='bottom', fontsize=9)\n",
    "ax2.set_title('지역별 평균 평당분양가격 (상위 10개)', fontsize=14, fontweight='bold')\n",
    "ax2.set_xlabel('지역', fontsize=12)\n",
    "ax2.set_ylabel('평당분양가격 (만원)', fontsize=12)\n",
    "ax2.tick_params(axis='x', rotation=45)\n",
    "ax2.grid(axis='y', alpha=0.3)\n",
    "\n",
    "# 3. 히트맵 - 지역x연도\n",
    "ax3 = fig.add_subplot(gs[1, :])\n",
    "sns.heatmap(pivot, ax=ax3, annot=True, fmt='.0f', \n",
    "            cmap='YlOrRd', linewidths=0.5, linecolor='white',\n",
    "            cbar_kws={'label': '평당분양가격 (만원)'})\n",
    "ax3.set_title('지역별 연도별 평당분양가격 히트맵', fontsize=14, fontweight='bold')\n",
    "ax3.set_xlabel('연도', fontsize=12)\n",
    "ax3.set_ylabel('지역', fontsize=12)\n",
    "\n",
    "plt.suptitle('평당분양가격 종합 분석 대시보드', \n",
    "             fontsize=18, fontweight='bold', y=0.995)\n",
    "plt.show()"
   ]
  },
  {
   "cell_type": "code",
   "execution_count": null,
   "id": "3b1bb401",
   "metadata": {},
   "outputs": [],
   "source": []
  }
 ],
 "metadata": {
  "kernelspec": {
   "display_name": "Python 3 (ipykernel)",
   "language": "python",
   "name": "python3"
  },
  "language_info": {
   "codemirror_mode": {
    "name": "ipython",
    "version": 3
   },
   "file_extension": ".py",
   "mimetype": "text/x-python",
   "name": "python",
   "nbconvert_exporter": "python",
   "pygments_lexer": "ipython3",
   "version": "3.10.9"
  },
  "toc": {
   "base_numbering": 1,
   "nav_menu": {},
   "number_sections": false,
   "sideBar": true,
   "skip_h1_title": false,
   "title_cell": "Table of Contents",
   "title_sidebar": "Contents",
   "toc_cell": false,
   "toc_position": {},
   "toc_section_display": true,
   "toc_window_display": false
  }
 },
 "nbformat": 4,
 "nbformat_minor": 5
}
