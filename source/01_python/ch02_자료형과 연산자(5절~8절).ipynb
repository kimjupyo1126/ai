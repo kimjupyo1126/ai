{
 "cells": [
  {
   "cell_type": "code",
   "execution_count": 6,
   "id": "90b594cd",
   "metadata": {},
   "outputs": [
    {
     "data": {
      "text/html": [
       "\n",
       "<style>\n",
       "div.container{width:90% !important;}\n",
       "div.cell.code_cell.rendered{width:100%;}\n",
       "div.input_prompt{padding:0px;}\n",
       "div.CodeMirror {font-family:Consolas; font-size:22pt;}\n",
       "div.text_cell_render.rendered_html{font-size:22pt;}\n",
       "div.output {font-size:22pt; font-weight:bold;}\n",
       "div.input {font-family:Consolas; font-size:22pt;}\n",
       "div.prompt {min-width:70px;}\n",
       "div#toc-wrapper{padding-top:120px;}\n",
       "div.text_cell_render ul li{font-size:22pt;padding:5px;}\n",
       "table.dataframe{font-size:22px;}\n",
       "</style>\n"
      ],
      "text/plain": [
       "<IPython.core.display.HTML object>"
      ]
     },
     "metadata": {},
     "output_type": "display_data"
    }
   ],
   "source": [
    "from IPython.display import display, HTML\n",
    "display(HTML(\"\"\"\n",
    "<style>\n",
    "div.container{width:90% !important;}\n",
    "div.cell.code_cell.rendered{width:100%;}\n",
    "div.input_prompt{padding:0px;}\n",
    "div.CodeMirror {font-family:Consolas; font-size:22pt;}\n",
    "div.text_cell_render.rendered_html{font-size:22pt;}\n",
    "div.output {font-size:22pt; font-weight:bold;}\n",
    "div.input {font-family:Consolas; font-size:22pt;}\n",
    "div.prompt {min-width:70px;}\n",
    "div#toc-wrapper{padding-top:120px;}\n",
    "div.text_cell_render ul li{font-size:22pt;padding:5px;}\n",
    "table.dataframe{font-size:22px;}\n",
    "</style>\n",
    "\"\"\"))"
   ]
  },
  {
   "cell_type": "raw",
   "id": "fd3b308b",
   "metadata": {},
   "source": [
    "https://github.com/yisy0/ai "
   ]
  },
  {
   "cell_type": "markdown",
   "id": "bc302257",
   "metadata": {},
   "source": [
    "5절. 연산자\n",
    "5.1 산술연산자 : +, -, *, /(결과 float), //(몫), %(나머지), **(제곱)"
   ]
  },
  {
   "cell_type": "code",
   "execution_count": 10,
   "id": "82e2bf40",
   "metadata": {},
   "outputs": [
    {
     "name": "stdout",
     "output_type": "stream",
     "text": [
      "4**2 = 16.0\n"
     ]
    }
   ],
   "source": [
    "print(\"10*5승 =\", 10**5)\n",
    "print(\"5/2(결과 실수) =\", 5/2)\n",
    "print(\"5//2(몫) =\", 5//2)\n",
    "print(\"5%2(나머지) =\", 5%2)"
   ]
  },
  {
   "cell_type": "code",
   "execution_count": 23,
   "id": "8592da46",
   "metadata": {},
   "outputs": [
    {
     "name": "stdout",
     "output_type": "stream",
     "text": [
      "정수를 입력하세요:11\n",
      "temp = 홀수\n"
     ]
    }
   ],
   "source": [
    "# 정수끼리 연산은 결과가 정수(단 / 제외)\n",
    "# 정수와 실수, 실수끼리 연산 결과는 실수\n",
    "print(\"4**2 =\", 4**2.0)"
   ]
  },
  {
   "cell_type": "code",
   "execution_count": 31,
   "id": "4e5188cf",
   "metadata": {},
   "outputs": [
    {
     "name": "stdout",
     "output_type": "stream",
     "text": [
      "국어점수11\n",
      "국어점수 5의 배수가 아님 265\n",
      "영어점수22\n",
      "영어점수 5의 배수가 아님 265\n",
      "수학점수15\n",
      "수학점수 5의 배수 265\n"
     ]
    }
   ],
   "source": [
    "# quiz1. 정수를 입력받아 짝수인지 홀수인지 여부를 출력\n",
    "num = int(input(\"정수를 입력하세요:\"))\n",
    "result = num % 2 # -1, 0, 1\n",
    "if result:\n",
    "    temp = \"홀수\"\n",
    "else:\n",
    "    temp = \"짝수\"\n",
    "print(f\"입력하신 수는 {num}, 2로 나눈 나머지는 {result}라서 {temp}를 입력하셨습니다\")"
   ]
  },
  {
   "cell_type": "code",
   "execution_count": 39,
   "id": "a3263330",
   "metadata": {},
   "outputs": [
    {
     "name": "stdout",
     "output_type": "stream",
     "text": [
      "국어 : {3d\t 총점 } 99 298\n",
      "평균 99.33333333333333\n"
     ]
    }
   ],
   "source": [
    "# quiz2. 정수를 입력받아 5의 배수인지 여부를 출력\n",
    "num = int(input(\"정수를 입력하세요:\"))\n",
    "if num%5:\n",
    "    print(\"5의 배수가 아닙니다\")\n",
    "else:\n",
    "    print(\"5의 배수입니다\")"
   ]
  },
  {
   "cell_type": "markdown",
   "id": "e569e5cf",
   "metadata": {},
   "source": [
    "## 5.2 할당연산자 : =, +=, -= , /=. *=, //=, %=\n"
   ]
  },
  {
   "cell_type": "code",
   "execution_count": 45,
   "id": "b80b941b",
   "metadata": {},
   "outputs": [
    {
     "name": "stdout",
     "output_type": "stream",
     "text": [
      "a = 15\n"
     ]
    }
   ],
   "source": [
    "# quiz3. 국, 영, 수 점수를 입력받아 다음셀에서 다음과 같이 출력하도록 구현하시오\n",
    "# 국어 :  99      영어 : 100       수학 : 100\n",
    "# 합계 : 299      평균 :  99.7\n",
    "kor = int(input(\"국어?\"))\n",
    "eng = int(input(\"영어?\"))\n",
    "mat = int(input(\"수학?\"))\n",
    "sum = kor + eng + mat\n",
    "avg = sum / 3"
   ]
  },
  {
   "cell_type": "code",
   "execution_count": 48,
   "id": "06f9ddd3",
   "metadata": {},
   "outputs": [
    {
     "name": "stdout",
     "output_type": "stream",
     "text": [
      "5빼기 : 45\n",
      "10배 : 450\n",
      "5나눈 몫 : 90\n"
     ]
    }
   ],
   "source": [
    "print(\"국어 : {:3d}\\t영어 : {:3d}\\t수학 : {:3d}\".format(kor, eng, mat))\n",
    "print(\"총점 : {:3d}\\t평균 : {:5.1f}\".format(sum, avg))"
   ]
  },
  {
   "cell_type": "markdown",
   "id": "f8ede11c",
   "metadata": {},
   "source": [
    "## 5.3 논리연산자 : &,and, |, or, not"
   ]
  },
  {
   "cell_type": "code",
   "execution_count": 50,
   "id": "c3231d17",
   "metadata": {},
   "outputs": [
    {
     "name": "stdout",
     "output_type": "stream",
     "text": [
      "True\n",
      "0\n"
     ]
    }
   ],
   "source": [
    "a = 10\n",
    "a += 5 # a = a + 5와 동일\n",
    "print(f\"a = {a}\")"
   ]
  },
  {
   "cell_type": "code",
   "execution_count": 52,
   "id": "e0685767",
   "metadata": {},
   "outputs": [
    {
     "name": "stdout",
     "output_type": "stream",
     "text": [
      "False\n",
      "0\n"
     ]
    }
   ],
   "source": [
    "a -= 5 # a = a-5\n",
    "print(\"5빼기 :\", a) # 10\n",
    "a *= 10 # a = a*10\n",
    "print(\"10배 :\", a) #100\n",
    "a //= 5 # a = a//5\n",
    "print(\"5나눈 몫 :\", a)"
   ]
  },
  {
   "cell_type": "code",
   "execution_count": 53,
   "id": "8c194d4b",
   "metadata": {},
   "outputs": [],
   "source": [
    "# & : 논리연산자, 비트연산자\n",
    "print( (10>3) & (10>5) ) # 논리연산 True & True\n",
    "print( 12 & 1 ) # 비트 연산  1 1 0 0 (12)\n",
    "                       #    0 0 0 1  (1)\n",
    "                       # &: 0 0 0 0"
   ]
  },
  {
   "cell_type": "code",
   "execution_count": 54,
   "id": "03ca7354",
   "metadata": {},
   "outputs": [],
   "source": [
    "# and : 논리연산자.  False로 판별되는 첫번째 항의 결과 반환\n",
    "         # 모든 항이 True면, 마지막항의 결과 반환\n",
    "print( (10>3) and (10>5) )\n",
    "print( 0 and 1 ) "
   ]
  },
  {
   "cell_type": "code",
   "execution_count": 55,
   "id": "389058ac",
   "metadata": {},
   "outputs": [
    {
     "data": {
      "text/plain": [
       "False"
      ]
     },
     "execution_count": 55,
     "metadata": {},
     "output_type": "execute_result"
    }
   ],
   "source": [
    "# | : 논리연산, 비트연산\n",
    "result = True | False\n",
    "print('논리연산(연산자 앞뒤에 논리형일 때) :', result)\n",
    "result = False | 3 # 0000 (0)\n",
    "                   # 0011 (3)\n",
    "print('비트연산(연산자 앞이나 뒤에 숫자일 때) :', result)"
   ]
  },
  {
   "cell_type": "markdown",
   "id": "a05c84cc",
   "metadata": {},
   "source": [
    "## 5.4 비교연산자 : >=,> <= <,==,!="
   ]
  },
  {
   "cell_type": "code",
   "execution_count": 65,
   "id": "5ed7979c",
   "metadata": {},
   "outputs": [
    {
     "name": "stdout",
     "output_type": "stream",
     "text": [
      "True\n",
      "True\n"
     ]
    }
   ],
   "source": [
    "# or : 논리연산. 참으로 판별되는 첫번째 항의 결과 반환\n",
    "          # 모든 항이 거짓이면 마지막항의 결과 반환\n",
    "print(False or 0 or '' or None or [])\n",
    "print(False or 0 or 'Hong' or None or [])"
   ]
  },
  {
   "cell_type": "code",
   "execution_count": 67,
   "id": "6a711781",
   "metadata": {},
   "outputs": [
    {
     "name": "stdout",
     "output_type": "stream",
     "text": [
      "True\n",
      "False\n"
     ]
    }
   ],
   "source": [
    "not 10>5"
   ]
  },
  {
   "cell_type": "code",
   "execution_count": 70,
   "id": "09da432c",
   "metadata": {},
   "outputs": [
    {
     "name": "stdout",
     "output_type": "stream",
     "text": [
      "True\n",
      "True\n"
     ]
    }
   ],
   "source": [
    "# 비교연산자는 이항, 삼항, 사항, ... 다항연산자\n",
    "x = 95\n",
    "print( (90<=x) & (x<=100) )\n",
    "print( 90 <= x <= 100)\n",
    "print( 90 <= x <= 100 > 10)"
   ]
  },
  {
   "cell_type": "code",
   "execution_count": 71,
   "id": "f6f20a86",
   "metadata": {},
   "outputs": [
    {
     "data": {
      "text/plain": [
       "True"
      ]
     },
     "execution_count": 71,
     "metadata": {},
     "output_type": "execute_result"
    }
   ],
   "source": [
    "# 비교연산자의 우선순위가 비트연산자(|,&)의 우선순위보다 낮다\n",
    "print( (10>5) & (10>7) )\n",
    "print( 10>5 & 10>7 ) # 괄호가 없으면 우선순위가 높은 5&10부터 실행\n",
    "print( 10 > 0 > 7)\n",
    "# 0101(5) & 1010(10)"
   ]
  },
  {
   "cell_type": "code",
   "execution_count": null,
   "id": "f0d3fc7b",
   "metadata": {},
   "outputs": [],
   "source": [
    "address = \"목동\"\n",
    "age = 29\n",
    "# print( address==\"목동\" & age<=30 )\n",
    "print( (address==\"목동\") & (age<=30) )\n",
    "print( address==\"목동\" and age<=30 )"
   ]
  },
  {
   "cell_type": "code",
   "execution_count": 1,
   "id": "e4417b52",
   "metadata": {},
   "outputs": [
    {
     "data": {
      "text/plain": [
       "True"
      ]
     },
     "execution_count": 1,
     "metadata": {},
     "output_type": "execute_result"
    }
   ],
   "source": [
    "# 문자는 ASCII 코드 순으로 비교 : 특수문자 < 숫자문자 < 대문자 < 소문자(abc순)\n",
    "\"scott\" < \"tiger\""
   ]
  },
  {
   "cell_type": "code",
   "execution_count": null,
   "id": "71079b07",
   "metadata": {},
   "outputs": [],
   "source": [
    "\"김길동\" < \"홍길동\""
   ]
  },
  {
   "cell_type": "markdown",
   "id": "535c0749",
   "metadata": {},
   "source": [
    "5.5 비트연산 : &, |, ^(XOR), ~(반대)\n"
   ]
  },
  {
   "cell_type": "markdown",
   "id": "fa915c48",
   "metadata": {},
   "source": []
  },
  {
   "cell_type": "code",
   "execution_count": 5,
   "id": "49f9e2e6",
   "metadata": {},
   "outputs": [
    {
     "name": "stdout",
     "output_type": "stream",
     "text": [
      "a  = 10\n"
     ]
    }
   ],
   "source": [
    "a= 10\n",
    "print(\"a  =\", a)"
   ]
  },
  {
   "cell_type": "code",
   "execution_count": 18,
   "id": "b9839093",
   "metadata": {},
   "outputs": [
    {
     "ename": "SyntaxError",
     "evalue": "invalid syntax (932267980.py, line 1)",
     "output_type": "error",
     "traceback": [
      "\u001b[1;36m  Cell \u001b[1;32mIn[18], line 1\u001b[1;36m\u001b[0m\n\u001b[1;33m    ---\u001b[0m\n\u001b[1;37m       ^\u001b[0m\n\u001b[1;31mSyntaxError\u001b[0m\u001b[1;31m:\u001b[0m invalid syntax\n"
     ]
    }
   ],
   "source": [
    "---\n",
    "x  y x&y x|y X^y ~x\n",
    "-------------------\n",
    "0  0  0   0   0   1\n",
    "0  1  0   1   1   1\n",
    "1  0  0   1   1   0\n",
    "1  1  1   1   0   0\n",
    "---"
   ]
  },
  {
   "cell_type": "code",
   "execution_count": 29,
   "id": "4acad040",
   "metadata": {},
   "outputs": [
    {
     "name": "stdout",
     "output_type": "stream",
     "text": [
      "  a = 15 : 1111\n",
      "  b =  2 : 0010\n",
      "a&b =  2 : 0010\n",
      "a|b = 15 : 1111\n",
      "a^b = 13 : 1101\n",
      "-16\n"
     ]
    }
   ],
   "source": [
    "a = 15 # 1111(8+4+2+1)\n",
    "b =  2 # 0010\n",
    "print(\"  a = {0:2} : {0:04b}\".format(a))\n",
    "print(\"  b = {0:2} : {0:04b}\".format(b))\n",
    "print(\"a&b = {0:2} : {0:04b}\".format(a&b))\n",
    "print(\"a|b = {0:2} : {0:04b}\".format(a|b))\n",
    "print(\"a^b = {0:2} : {0:04b}\".format(a^b))\n",
    "print(~a)"
   ]
  },
  {
   "cell_type": "markdown",
   "id": "f8a9b4f7",
   "metadata": {},
   "source": [
    "# 6절 문자열 다루기\n",
    "문자열변수[from:to:step] : 일부 문자 추출\n",
    "\n",
    "len(문자열변수) : 문자수\n",
    "\n",
    "upper() : 대문자로\n",
    "\n",
    "lower() : 소문자로\n",
    "\n",
    "title() : 각 어절의 앞글자만 대문자로\n",
    "\n",
    "capitalize() : 첫문자만 대문자로\n",
    "\n",
    "count(\"찾을문자\") : \"찾을문자\"가 몇개 들어있는지 갯수 반환\n",
    "\n",
    "find(\"찾을문자\") : \"찾을문자\"가 왼쪽부터 몇번째에 있는지 index를 반환 (없으면 -1)\n",
    "\n",
    "rfind(\"찾을문자\") : \"찾을문자\"가 오른쪽부터 몇번째에 있는지 index를 반환(없으면 -1) cf. index(\"찾을문자\") : 찾을문자가 왼쪽부터 몇번째에 있는 index를 반환(없으면 에러)\n",
    "\n",
    "startswith(\"특정문자\") : \"특정문자\"로 시작하는지 여부 반환\n",
    "\n",
    "endswith(\"특정문자\") : \"특정문자\"로 끝나는지 여부 반환\n",
    "\n",
    "strip() : 좌우공백제거(trim)\n",
    "\n",
    "lstrip() : 왼쪽 공백 제거\n",
    "\n",
    "rstrip() : 오른쪽 공백 제거\n",
    "\n",
    "split() : 문자열을 공백이나 다른 문자 기준으로 나누어 리스트로 반환\n",
    "\n",
    "isdigit() : 문자열이 숫자문자열인지 여부 반환\n",
    "\n",
    "islower() : 문자열이 소문자인지 여부 반환\n",
    "\n",
    "isupper() : 문자열이 대문자인지 여부 반환\n",
    "\n",
    "replace(oldStr, newStr) : oldStr을 newStr로 변경"
   ]
  },
  {
   "cell_type": "code",
   "execution_count": 61,
   "id": "5e2907a6",
   "metadata": {},
   "outputs": [
    {
     "name": "stdout",
     "output_type": "stream",
     "text": [
      "대문자로 : PYTHON IS EASY. PYTHON IS SMART. PYTHON\n",
      "소문자로 : python is easy. python is smart. python\n",
      "title() : Python Is Easy. Python Is Smart. Python\n",
      "capitalize() : Python is easy. python is smart. python\n",
      "C이 몇번 나오는지 : 0\n",
      "python이 몇번 나오는지 : 2\n",
      "대소문자 구분없이 python이 몇번 : 3\n",
      "대소문자 구분없이 python이 몇번 : 3\n",
      "대소문자 구분없이 python이 몇번 : 3\n",
      "python이 나오는 첫index 위치 : 0\n",
      "python이 나오는 마지막 index 위치 : 33\n",
      "C가 나오는 index위치 : -1\n",
      "python이 나오는 첫 index 위치 : 0\n",
      "python으로 시작하는 여부: True\n",
      "python으로 끝나는 여부: True\n",
      "n으로 끝나는 여부: True\n",
      "python으로 r로 변경: R is easy. Python is smart. R\n",
      "python is easy. Python is smart. python\n"
     ]
    }
   ],
   "source": [
    "temp = \"python is easy. Python is smart. python\"\n",
    "    #   0123456789012345687901234567890123\n",
    "print(\"대문자로 :\", temp.upper())\n",
    "print(\"소문자로 :\", temp.lower())\n",
    "print(\"title() :\", temp.title())\n",
    "print(\"capitalize() :\", temp.capitalize())\n",
    "print(\"C이 몇번 나오는지 :\", temp.count(\"C\"))\n",
    "print(\"python이 몇번 나오는지 :\", temp.count(\"python\"))\n",
    "print(\"대소문자 구분없이 python이 몇번 :\", temp.lower().count(\"python\"))\n",
    "print(\"대소문자 구분없이 python이 몇번 :\", temp.upper().count(\"PYTHON\"))\n",
    "print(\"대소문자 구분없이 python이 몇번 :\", temp.title().count(\"Python\"))\n",
    "print(\"python이 나오는 첫index 위치 :\", temp.find(\"python\"))\n",
    "print(\"python이 나오는 마지막 index 위치 :\", temp.rfind(\"python\"))\n",
    "print(\"C가 나오는 index위치 :\", temp.find(\"C\")) # 찾을문자가 없을 경우 -1\n",
    "print(\"python이 나오는 첫 index 위치 :\", temp.index(\"python\"))\n",
    "# print(\"java이 나오는 첫 index 위치 :\", temp.index(\"java\")) 찾을문자가 없을 경우 에러\n",
    "print(\"python으로 시작하는 여부:\",temp.startswith(\"python\"))\n",
    "print(\"python으로 끝나는 여부:\",temp.endswith(\"python\"))\n",
    "print(\"n으로 끝나는 여부:\",temp.endswith(\"n\"))\n",
    "print(\"python으로 r로 변경:\",temp.replace(\"python\", \"R\"))\n",
    "print(temp)"
   ]
  },
  {
   "cell_type": "code",
   "execution_count": 78,
   "id": "3dc8b2d9",
   "metadata": {},
   "outputs": [
    {
     "name": "stdout",
     "output_type": "stream",
     "text": [
      "좌우 공백 제거 : [python is easy]\n",
      "왼쪽 공백 제거 : [python is easy    ]\n",
      "오른쪽 공백 제거 : [    python is easy]\n",
      "isdigit(숫자문자)인지 여부 : False\n",
      "replace후 isdigit : True\n",
      "대문자인지 여부 : False\n",
      "소문자인지 여부 : True\n"
     ]
    }
   ],
   "source": [
    "temp = \"    python is easy    \"\n",
    "notdigit = \"1,000\"\n",
    "print(\"좌우 공백 제거 : [{}]\".format(temp.strip()) )\n",
    "print(\"왼쪽 공백 제거 : [{}]\".format(temp.lstrip()) )\n",
    "print(\"오른쪽 공백 제거 : [{}]\".format(temp.rstrip()) )\n",
    "print(\"isdigit(숫자문자)인지 여부 :\", notdigit.isdigit())\n",
    "print(\"replace후 isdigit :\", notdigit.replace(\",\", \"\").isdigit())\n",
    "print(\"대문자인지 여부 :\", temp.isupper())\n",
    "print(\"소문자인지 여부 :\", temp.islower())"
   ]
  },
  {
   "cell_type": "code",
   "execution_count": 83,
   "id": "3ffd8ad6",
   "metadata": {},
   "outputs": [
    {
     "name": "stdout",
     "output_type": "stream",
     "text": [
      "space단위로 names 분리(list로 반환) :  ['홍길동', '김길동', '박길동', '주길동', '고길동']\n",
      "홍길동 김길동\n"
     ]
    }
   ],
   "source": [
    "names = \"홍길동 김길동     박길동 주길동 고길동\"\n",
    "name_list = names.split()\n",
    "print(\"space단위로 names 분리(list로 반환) : \",name_list)\n",
    "print(name_list[0],name_list[1])"
   ]
  },
  {
   "cell_type": "code",
   "execution_count": 93,
   "id": "c16e1f7b",
   "metadata": {},
   "outputs": [
    {
     "name": "stdout",
     "output_type": "stream",
     "text": [
      "['2025', '09', '17']\n",
      "년도 :  2025\n",
      "월 :  09\n",
      "일 :  17\n"
     ]
    }
   ],
   "source": [
    "date_str = \"2025-09-17\"\n",
    "date_str = date_str.split(\"-\")\n",
    "print(date_str) \n",
    "print(\"년도 : \",date_str[0])\n",
    "print(\"월 : \",date_str[1])\n",
    "print(\"일 : \",date_str[2])"
   ]
  },
  {
   "cell_type": "code",
   "execution_count": 94,
   "id": "72dbbed9",
   "metadata": {},
   "outputs": [
    {
     "ename": "SyntaxError",
     "evalue": "unterminated string literal (detected at line 1) (1963024122.py, line 1)",
     "output_type": "error",
     "traceback": [
      "\u001b[1;36m  Cell \u001b[1;32mIn[94], line 1\u001b[1;36m\u001b[0m\n\u001b[1;33m    str_ = [\"a\",\"b, \"c\"]\u001b[0m\n\u001b[1;37m                      ^\u001b[0m\n\u001b[1;31mSyntaxError\u001b[0m\u001b[1;31m:\u001b[0m unterminated string literal (detected at line 1)\n"
     ]
    }
   ],
   "source": [
    "str_ = [\"a\",\"b, \"c\"]\n",
    "str_[0] str_[1] str_[2] "
   ]
  },
  {
   "cell_type": "code",
   "execution_count": 97,
   "id": "943a2034",
   "metadata": {},
   "outputs": [
    {
     "data": {
      "text/plain": [
       "'Python / 웹(html/css/js) / Oracle/MSSQL(DBms) / DL/ML / LLM(RAG)'"
      ]
     },
     "execution_count": 97,
     "metadata": {},
     "output_type": "execute_result"
    }
   ],
   "source": [
    "# '  -  ' 을 \"/\"로 바꾸기\n",
    "temp = \"Python - 웹(html/css/js) - Oracle/MSSQL(DBms) - DL/ML - LLM(RAG)\"\n",
    "temp.replace(\"-\", \"/\")\n",
    "#spit() join()이용하여 repaced역할"
   ]
  },
  {
   "cell_type": "code",
   "execution_count": null,
   "id": "6bf49cf1",
   "metadata": {},
   "outputs": [],
   "source": []
  }
 ],
 "metadata": {
  "kernelspec": {
   "display_name": "Python 3 (ipykernel)",
   "language": "python",
   "name": "python3"
  },
  "language_info": {
   "codemirror_mode": {
    "name": "ipython",
    "version": 3
   },
   "file_extension": ".py",
   "mimetype": "text/x-python",
   "name": "python",
   "nbconvert_exporter": "python",
   "pygments_lexer": "ipython3",
   "version": "3.10.9"
  },
  "toc": {
   "base_numbering": 1,
   "nav_menu": {},
   "number_sections": false,
   "sideBar": true,
   "skip_h1_title": false,
   "title_cell": "Table of Contents",
   "title_sidebar": "Contents",
   "toc_cell": false,
   "toc_position": {
    "height": "calc(100% - 180px)",
    "left": "10px",
    "top": "150px",
    "width": "165px"
   },
   "toc_section_display": true,
   "toc_window_display": true
  }
 },
 "nbformat": 4,
 "nbformat_minor": 5
}
