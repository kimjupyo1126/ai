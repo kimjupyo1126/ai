{
 "cells": [
  {
   "cell_type": "code",
   "execution_count": 77,
   "id": "90b594cd",
   "metadata": {},
   "outputs": [
    {
     "data": {
      "text/html": [
       "\n",
       "<style>\n",
       "div.container{width:90% !important;}\n",
       "div.cell.code_cell.rendered{width:100%;}\n",
       "div.input_prompt{padding:0px;}\n",
       "div.CodeMirror {font-family:Consolas; font-size:22pt;}\n",
       "div.text_cell_render.rendered_html{font-size:22pt;}\n",
       "div.output {font-size:22pt; font-weight:bold;}\n",
       "div.input {font-family:Consolas; font-size:22pt;}\n",
       "div.prompt {min-width:70px;}\n",
       "div#toc-wrapper{padding-top:120px;}\n",
       "div.text_cell_render ul li{font-size:22pt;padding:5px;}\n",
       "table.dataframe{font-size:22px;}\n",
       "</style>\n"
      ],
      "text/plain": [
       "<IPython.core.display.HTML object>"
      ]
     },
     "metadata": {},
     "output_type": "display_data"
    }
   ],
   "source": [
    "from IPython.display import display, HTML\n",
    "display(HTML(\"\"\"\n",
    "<style>\n",
    "div.container{width:90% !important;}\n",
    "div.cell.code_cell.rendered{width:100%;}\n",
    "div.input_prompt{padding:0px;}\n",
    "div.CodeMirror {font-family:Consolas; font-size:22pt;}\n",
    "div.text_cell_render.rendered_html{font-size:22pt;}\n",
    "div.output {font-size:22pt; font-weight:bold;}\n",
    "div.input {font-family:Consolas; font-size:22pt;}\n",
    "div.prompt {min-width:70px;}\n",
    "div#toc-wrapper{padding-top:120px;}\n",
    "div.text_cell_render ul li{font-size:22pt;padding:5px;}\n",
    "table.dataframe{font-size:22px;}\n",
    "</style>\n",
    "\"\"\"))"
   ]
  },
  {
   "cell_type": "raw",
   "id": "fd3b308b",
   "metadata": {},
   "source": [
    "https://github.com/yisy0/ai "
   ]
  },
  {
   "cell_type": "markdown",
   "id": "a7c01f52",
   "metadata": {},
   "source": [
    "# 5절. 연산자\n",
    "## 5.1 산술연산자 : +, -, *, /(결과 float), //(몫), %(나머지), **(제곱)"
   ]
  },
  {
   "cell_type": "code",
   "execution_count": 10,
   "id": "82e2bf40",
   "metadata": {},
   "outputs": [
    {
     "name": "stdout",
     "output_type": "stream",
     "text": [
      "4**2 = 16.0\n"
     ]
    }
   ],
   "source": [
    "print(\"10*5승 =\", 10**5)\n",
    "print(\"5/2(결과 실수) =\", 5/2)\n",
    "print(\"5//2(몫) =\", 5//2)\n",
    "print(\"5%2(나머지) =\", 5%2)"
   ]
  },
  {
   "cell_type": "code",
   "execution_count": 23,
   "id": "8592da46",
   "metadata": {},
   "outputs": [
    {
     "name": "stdout",
     "output_type": "stream",
     "text": [
      "정수를 입력하세요:11\n",
      "temp = 홀수\n"
     ]
    }
   ],
   "source": [
    "# 정수끼리 연산은 결과가 정수(단 / 제외)\n",
    "# 정수와 실수, 실수끼리 연산 결과는 실수\n",
    "print(\"4**2 =\", 4**2.0)"
   ]
  },
  {
   "cell_type": "code",
   "execution_count": 31,
   "id": "4e5188cf",
   "metadata": {},
   "outputs": [
    {
     "name": "stdout",
     "output_type": "stream",
     "text": [
      "국어점수11\n",
      "국어점수 5의 배수가 아님 265\n",
      "영어점수22\n",
      "영어점수 5의 배수가 아님 265\n",
      "수학점수15\n",
      "수학점수 5의 배수 265\n"
     ]
    }
   ],
   "source": [
    "# quiz1. 정수를 입력받아 짝수인지 홀수인지 여부를 출력\n",
    "num = int(input(\"정수를 입력하세요:\"))\n",
    "result = num % 2 # -1, 0, 1\n",
    "if result:\n",
    "    temp = \"홀수\"\n",
    "else:\n",
    "    temp = \"짝수\"\n",
    "print(f\"입력하신 수는 {num}, 2로 나눈 나머지는 {result}라서 {temp}를 입력하셨습니다\")"
   ]
  },
  {
   "cell_type": "code",
   "execution_count": 39,
   "id": "a3263330",
   "metadata": {},
   "outputs": [
    {
     "name": "stdout",
     "output_type": "stream",
     "text": [
      "국어 : {3d\t 총점 } 99 298\n",
      "평균 99.33333333333333\n"
     ]
    }
   ],
   "source": [
    "# quiz2. 정수를 입력받아 5의 배수인지 여부를 출력\n",
    "num = int(input(\"정수를 입력하세요:\"))\n",
    "if num%5:\n",
    "    print(\"5의 배수가 아닙니다\")\n",
    "else:\n",
    "    print(\"5의 배수입니다\")"
   ]
  },
  {
   "cell_type": "markdown",
   "id": "e569e5cf",
   "metadata": {},
   "source": [
    "## 5.2 할당연산자 : =, +=, -= , /=. *=, //=, %=\n"
   ]
  },
  {
   "cell_type": "code",
   "execution_count": 45,
   "id": "b80b941b",
   "metadata": {},
   "outputs": [
    {
     "name": "stdout",
     "output_type": "stream",
     "text": [
      "a = 15\n"
     ]
    }
   ],
   "source": [
    "# quiz3. 국, 영, 수 점수를 입력받아 다음셀에서 다음과 같이 출력하도록 구현하시오\n",
    "# 국어 :  99      영어 : 100       수학 : 100\n",
    "# 합계 : 299      평균 :  99.7\n",
    "kor = int(input(\"국어?\"))\n",
    "eng = int(input(\"영어?\"))\n",
    "mat = int(input(\"수학?\"))\n",
    "sum = kor + eng + mat\n",
    "avg = sum / 3"
   ]
  },
  {
   "cell_type": "code",
   "execution_count": 48,
   "id": "06f9ddd3",
   "metadata": {},
   "outputs": [
    {
     "name": "stdout",
     "output_type": "stream",
     "text": [
      "5빼기 : 45\n",
      "10배 : 450\n",
      "5나눈 몫 : 90\n"
     ]
    }
   ],
   "source": [
    "print(\"국어 : {:3d}\\t영어 : {:3d}\\t수학 : {:3d}\".format(kor, eng, mat))\n",
    "print(\"총점 : {:3d}\\t평균 : {:5.1f}\".format(sum, avg))"
   ]
  },
  {
   "cell_type": "markdown",
   "id": "f8ede11c",
   "metadata": {},
   "source": [
    "## 5.3 논리연산자 : &,and, |, or, not"
   ]
  },
  {
   "cell_type": "code",
   "execution_count": 50,
   "id": "c3231d17",
   "metadata": {},
   "outputs": [
    {
     "name": "stdout",
     "output_type": "stream",
     "text": [
      "True\n",
      "0\n"
     ]
    }
   ],
   "source": [
    "a = 10\n",
    "a += 5 # a = a + 5와 동일\n",
    "print(f\"a = {a}\")"
   ]
  },
  {
   "cell_type": "code",
   "execution_count": 52,
   "id": "e0685767",
   "metadata": {},
   "outputs": [
    {
     "name": "stdout",
     "output_type": "stream",
     "text": [
      "False\n",
      "0\n"
     ]
    }
   ],
   "source": [
    "a -= 5 # a = a-5\n",
    "print(\"5빼기 :\", a) # 10\n",
    "a *= 10 # a = a*10\n",
    "print(\"10배 :\", a) #100\n",
    "a //= 5 # a = a//5\n",
    "print(\"5나눈 몫 :\", a)"
   ]
  },
  {
   "cell_type": "code",
   "execution_count": 53,
   "id": "8c194d4b",
   "metadata": {},
   "outputs": [],
   "source": [
    "# & : 논리연산자, 비트연산자\n",
    "print( (10>3) & (10>5) ) # 논리연산 True & True\n",
    "print( 12 & 1 ) # 비트 연산  1 1 0 0 (12)\n",
    "                       #    0 0 0 1  (1)\n",
    "                       # &: 0 0 0 0"
   ]
  },
  {
   "cell_type": "code",
   "execution_count": 54,
   "id": "03ca7354",
   "metadata": {},
   "outputs": [],
   "source": [
    "# and : 논리연산자.  False로 판별되는 첫번째 항의 결과 반환\n",
    "         # 모든 항이 True면, 마지막항의 결과 반환\n",
    "print( (10>3) and (10>5) )\n",
    "print( 0 and 1 ) "
   ]
  },
  {
   "cell_type": "code",
   "execution_count": 55,
   "id": "389058ac",
   "metadata": {},
   "outputs": [
    {
     "data": {
      "text/plain": [
       "False"
      ]
     },
     "execution_count": 55,
     "metadata": {},
     "output_type": "execute_result"
    }
   ],
   "source": [
    "# | : 논리연산, 비트연산\n",
    "result = True | False\n",
    "print('논리연산(연산자 앞뒤에 논리형일 때) :', result)\n",
    "result = False | 3 # 0000 (0)\n",
    "                   # 0011 (3)\n",
    "print('비트연산(연산자 앞이나 뒤에 숫자일 때) :', result)"
   ]
  },
  {
   "cell_type": "markdown",
   "id": "a05c84cc",
   "metadata": {},
   "source": [
    "## 5.4 비교연산자 : >=,> <= <,==,!="
   ]
  },
  {
   "cell_type": "code",
   "execution_count": 65,
   "id": "5ed7979c",
   "metadata": {},
   "outputs": [
    {
     "name": "stdout",
     "output_type": "stream",
     "text": [
      "True\n",
      "True\n"
     ]
    }
   ],
   "source": [
    "# or : 논리연산. 참으로 판별되는 첫번째 항의 결과 반환\n",
    "          # 모든 항이 거짓이면 마지막항의 결과 반환\n",
    "print(False or 0 or '' or None or [])\n",
    "print(False or 0 or 'Hong' or None or [])"
   ]
  },
  {
   "cell_type": "code",
   "execution_count": 67,
   "id": "6a711781",
   "metadata": {},
   "outputs": [
    {
     "name": "stdout",
     "output_type": "stream",
     "text": [
      "True\n",
      "False\n"
     ]
    }
   ],
   "source": [
    "not 10>5"
   ]
  },
  {
   "cell_type": "code",
   "execution_count": 70,
   "id": "09da432c",
   "metadata": {},
   "outputs": [
    {
     "name": "stdout",
     "output_type": "stream",
     "text": [
      "True\n",
      "True\n"
     ]
    }
   ],
   "source": [
    "# 비교연산자는 이항, 삼항, 사항, ... 다항연산자\n",
    "x = 95\n",
    "print( (90<=x) & (x<=100) )\n",
    "print( 90 <= x <= 100)\n",
    "print( 90 <= x <= 100 > 10)"
   ]
  },
  {
   "cell_type": "code",
   "execution_count": 71,
   "id": "f6f20a86",
   "metadata": {},
   "outputs": [
    {
     "data": {
      "text/plain": [
       "True"
      ]
     },
     "execution_count": 71,
     "metadata": {},
     "output_type": "execute_result"
    }
   ],
   "source": [
    "# 비교연산자의 우선순위가 비트연산자(|,&)의 우선순위보다 낮다\n",
    "print( (10>5) & (10>7) )\n",
    "print( 10>5 & 10>7 ) # 괄호가 없으면 우선순위가 높은 5&10부터 실행\n",
    "print( 10 > 0 > 7)\n",
    "# 0101(5) & 1010(10)"
   ]
  },
  {
   "cell_type": "code",
   "execution_count": null,
   "id": "f0d3fc7b",
   "metadata": {},
   "outputs": [],
   "source": [
    "address = \"목동\"\n",
    "age = 29\n",
    "# print( address==\"목동\" & age<=30 )\n",
    "print( (address==\"목동\") & (age<=30) )\n",
    "print( address==\"목동\" and age<=30 )"
   ]
  },
  {
   "cell_type": "code",
   "execution_count": 1,
   "id": "e4417b52",
   "metadata": {},
   "outputs": [
    {
     "data": {
      "text/plain": [
       "True"
      ]
     },
     "execution_count": 1,
     "metadata": {},
     "output_type": "execute_result"
    }
   ],
   "source": [
    "# 문자는 ASCII 코드 순으로 비교 : 특수문자 < 숫자문자 < 대문자 < 소문자(abc순)\n",
    "\"scott\" < \"tiger\""
   ]
  },
  {
   "cell_type": "code",
   "execution_count": null,
   "id": "71079b07",
   "metadata": {},
   "outputs": [],
   "source": [
    "\"김길동\" < \"홍길동\""
   ]
  },
  {
   "cell_type": "markdown",
   "id": "535c0749",
   "metadata": {},
   "source": [
    "5.5 비트연산 : &, |, ^(XOR), ~(반대)\n"
   ]
  },
  {
   "cell_type": "markdown",
   "id": "fa915c48",
   "metadata": {},
   "source": []
  },
  {
   "cell_type": "code",
   "execution_count": 5,
   "id": "49f9e2e6",
   "metadata": {},
   "outputs": [
    {
     "name": "stdout",
     "output_type": "stream",
     "text": [
      "a  = 10\n"
     ]
    }
   ],
   "source": [
    "a= 10\n",
    "print(\"a  =\", a)"
   ]
  },
  {
   "cell_type": "markdown",
   "id": "8a8631e1",
   "metadata": {},
   "source": [
    "## 5.5 비트연산 : &, |, ^(XOR), ~(반대)\n",
    "```\n",
    "x    y    x&y    x|y    x^y    ~x\n",
    "---------------------------------\n",
    "0    0     0      0      0     1\n",
    "0    1     0      1      1     1\n",
    "1    0     0      1      1     0\n",
    "1    1     1      1      0     0\n",
    "```"
   ]
  },
  {
   "cell_type": "code",
   "execution_count": 29,
   "id": "4a6a0e87",
   "metadata": {},
   "outputs": [
    {
     "name": "stdout",
     "output_type": "stream",
     "text": [
      "  a = 15 : 1111\n",
      "  b =  2 : 0010\n",
      "a&b =  2 : 0010\n",
      "a|b = 15 : 1111\n",
      "a^b = 13 : 1101\n",
      "-16\n"
     ]
    }
   ],
   "source": [
    "a = 15 # 1111(8+4+2+1)\n",
    "b =  2 # 0010\n",
    "print(\"  a = {0:2} : {0:04b}\".format(a))\n",
    "print(\"  b = {0:2} : {0:04b}\".format(b))\n",
    "print(\"a&b = {0:2} : {0:04b}\".format(a&b))\n",
    "print(\"a|b = {0:2} : {0:04b}\".format(a|b))\n",
    "print(\"a^b = {0:2} : {0:04b}\".format(a^b))\n",
    "print(~a)"
   ]
  },
  {
   "cell_type": "markdown",
   "id": "82d66e0a",
   "metadata": {},
   "source": [
    "# 6절 문자열 다루기\n",
    "문자열변수[from:to:step] : 일부 문자 추출\n",
    "\n",
    "len(문자열변수) : 문자수\n",
    "\n",
    "upper() : 대문자로\n",
    "\n",
    "lower() : 소문자로\n",
    "\n",
    "title() : 각 어절의 앞글자만 대문자로\n",
    "\n",
    "capitalize() : 첫문자만 대문자로\n",
    "\n",
    "count(\"찾을문자\") : \"찾을문자\"가 몇개 들어있는지 갯수 반환\n",
    "\n",
    "find(\"찾을문자\") : \"찾을문자\"가 왼쪽부터 몇번째에 있는지 index를 반환 (없으면 -1)\n",
    "\n",
    "rfind(\"찾을문자\") : \"찾을문자\"가 오른쪽부터 몇번째에 있는지 index를 반환(없으면 -1) cf. index(\"찾을문자\") : 찾을문자가 왼쪽부터 몇번째에 있는 index를 반환(없으면 에러)\n",
    "\n",
    "startswith(\"특정문자\") : \"특정문자\"로 시작하는지 여부 반환\n",
    "\n",
    "endswith(\"특정문자\") : \"특정문자\"로 끝나는지 여부 반환\n",
    "\n",
    "strip() : 좌우공백제거(trim)\n",
    "\n",
    "lstrip() : 왼쪽 공백 제거\n",
    "\n",
    "rstrip() : 오른쪽 공백 제거\n",
    "\n",
    "split() : 문자열을 공백이나 다른 문자 기준으로 나누어 리스트로 반환\n",
    "\n",
    "isdigit() : 문자열이 숫자문자열인지 여부 반환\n",
    "\n",
    "islower() : 문자열이 소문자인지 여부 반환\n",
    "\n",
    "isupper() : 문자열이 대문자인지 여부 반환\n",
    "\n",
    "replace(oldStr, newStr) : oldStr을 newStr로 변경"
   ]
  },
  {
   "cell_type": "code",
   "execution_count": 61,
   "id": "abd6f5fb",
   "metadata": {},
   "outputs": [
    {
     "name": "stdout",
     "output_type": "stream",
     "text": [
      "대문자로 : PYTHON IS EASY. PYTHON IS SMART. PYTHON\n",
      "소문자로 : python is easy. python is smart. python\n",
      "title() : Python Is Easy. Python Is Smart. Python\n",
      "capitalize() : Python is easy. python is smart. python\n",
      "C이 몇번 나오는지 : 0\n",
      "python이 몇번 나오는지 : 2\n",
      "대소문자 구분없이 python이 몇번 : 3\n",
      "대소문자 구분없이 python이 몇번 : 3\n",
      "대소문자 구분없이 python이 몇번 : 3\n",
      "python이 나오는 첫index 위치 : 0\n",
      "python이 나오는 마지막 index 위치 : 33\n",
      "C가 나오는 index위치 : -1\n",
      "python이 나오는 첫 index 위치 : 0\n",
      "python으로 시작하는 여부: True\n",
      "python으로 끝나는 여부: True\n",
      "n으로 끝나는 여부: True\n",
      "python으로 r로 변경: R is easy. Python is smart. R\n",
      "python is easy. Python is smart. python\n"
     ]
    }
   ],
   "source": [
    "temp = \"python is easy. Python is smart. python\"\n",
    "    #   0123456789012345687901234567890123\n",
    "print(\"대문자로 :\", temp.upper())\n",
    "print(\"소문자로 :\", temp.lower())\n",
    "print(\"title() :\", temp.title())\n",
    "print(\"capitalize() :\", temp.capitalize())\n",
    "print(\"C이 몇번 나오는지 :\", temp.count(\"C\"))\n",
    "print(\"python이 몇번 나오는지 :\", temp.count(\"python\"))\n",
    "print(\"대소문자 구분없이 python이 몇번 :\", temp.lower().count(\"python\"))\n",
    "print(\"대소문자 구분없이 python이 몇번 :\", temp.upper().count(\"PYTHON\"))\n",
    "print(\"대소문자 구분없이 python이 몇번 :\", temp.title().count(\"Python\"))\n",
    "print(\"python이 나오는 첫index 위치 :\", temp.find(\"python\"))\n",
    "print(\"python이 나오는 마지막 index 위치 :\", temp.rfind(\"python\"))\n",
    "print(\"C가 나오는 index위치 :\", temp.find(\"C\")) # 찾을문자가 없을 경우 -1\n",
    "print(\"python이 나오는 첫 index 위치 :\", temp.index(\"python\"))\n",
    "# print(\"java이 나오는 첫 index 위치 :\", temp.index(\"java\")) 찾을문자가 없을 경우 에러\n",
    "print(\"python으로 시작하는 여부 :\",  temp.startswith(\"python\"))\n",
    "print(\"대소문자 구분없이 python으로 시작하는 여부 :\",  temp.lower().startswith(\"python\"))\n",
    "print(\"python으로 끝나는지 여부 :\", temp.endswith(\"python\"))\n",
    "print(\"n으로 끝나는지 여부 :\", temp.endswith(\"n\"))\n",
    "print(\"python을 R로 변경 :\", temp.replace(\"python\", \"R\"))\n",
    "print(temp)"
   ]
  },
  {
   "cell_type": "code",
   "execution_count": 33,
   "id": "e222da7e",
   "metadata": {},
   "outputs": [
    {
     "name": "stdout",
     "output_type": "stream",
     "text": [
      "좌우 공백 제거 : [python is easy]\n",
      "왼쪽 공백 제거 : [python is easy    ]\n",
      "오른쪽 공백 제거 : [    python is easy]\n",
      "isdigit(숫자문자)인지 여부 : False\n",
      "replace후 isdigit : True\n",
      "대문자인지 여부 : False\n",
      "소문자인지 여부 : True\n"
     ]
    }
   ],
   "source": [
    "temp = \"    python is easy    \"\n",
    "notdigit = \"1,000\"\n",
    "print(\"좌우 공백 제거 : [{}]\".format(temp.strip()) )\n",
    "print(\"왼쪽 공백 제거 : [{}]\".format(temp.lstrip()) )\n",
    "print(\"오른쪽 공백 제거 : [{}]\".format(temp.rstrip()) )\n",
    "print(\"isdigit(숫자문자)인지 여부 :\", notdigit.isdigit())\n",
    "print(\"replace후 isdigit :\", notdigit.replace(\",\", \"\").isdigit())\n",
    "print(\"대문자인지 여부 :\", temp.isupper())\n",
    "print(\"소문자인지 여부 :\", temp.islower())"
   ]
  },
  {
   "cell_type": "code",
   "execution_count": 83,
   "id": "63582169",
   "metadata": {},
   "outputs": [
    {
     "name": "stdout",
     "output_type": "stream",
     "text": [
      "space단위로 names 분리(list로 반환) :  ['홍길동', '김길동', '박길동', '주길동', '고길동']\n",
      "홍길동 김길동\n"
     ]
    }
   ],
   "source": [
    "names = \"홍길동 김길동     박길동 주길동 고길동\"\n",
    "name_list = names.split()\n",
    "print(\"space단위로 names 분리(list로 반환) : \",name_list)\n",
    "print(name_list[0],name_list[1])"
   ]
  },
  {
   "cell_type": "code",
   "execution_count": 93,
   "id": "b67fba6c",
   "metadata": {},
   "outputs": [
    {
     "name": "stdout",
     "output_type": "stream",
     "text": [
      "['2025', '09', '17']\n",
      "년도 :  2025\n",
      "월 :  09\n",
      "일 :  17\n"
     ]
    }
   ],
   "source": [
    "date_str = \"2025-09-17\"\n",
    "date_str = date_str.split(\"-\")\n",
    "print(date_str) \n",
    "print(\"년도 : \",date_str[0])\n",
    "print(\"월 : \",date_str[1])\n",
    "print(\"일 : \",date_str[2])"
   ]
  },
  {
   "cell_type": "code",
   "execution_count": 34,
   "id": "bd911f0a",
   "metadata": {},
   "outputs": [
    {
     "data": {
      "text/plain": [
       "('A', 'B', 'C')"
      ]
     },
     "execution_count": 34,
     "metadata": {},
     "output_type": "execute_result"
    }
   ],
   "source": [
    "# str_ = \"ABC\"\n",
    "str_ = [\"A\", \"B\", \"C\"]\n",
    "str_[0], str_[1], str_[2]"
   ]
  },
  {
   "cell_type": "code",
   "execution_count": 35,
   "id": "c44083fb",
   "metadata": {},
   "outputs": [
    {
     "name": "stdout",
     "output_type": "stream",
     "text": [
      "분리된 temp : ['Python', '웹(HTML/CSS/JS)', 'Oracle/MySQL(DBMS)', 'DL/ML', 'LLM(RAG)']\n",
      "join temp : Python/웹(HTML/CSS/JS)/Oracle/MySQL(DBMS)/DL/ML/LLM(RAG)\n"
     ]
    }
   ],
   "source": [
    "# ' - '을 \"/\"로 바꾸기\n",
    "temp = \"Python - 웹(HTML/CSS/JS) - Oracle/MySQL(DBMS) - DL/ML - LLM(RAG)\"\n",
    "# temp.replace(\" - \", \"/\")\n",
    "# split()와 join() 이용하여 replace역할\n",
    "splited_temp = temp.split(\" - \")\n",
    "print('분리된 temp :', splited_temp)\n",
    "joined_temp = \"/\".join(splited_temp) # \"/\"로 매개변수 list를 연결\n",
    "print(\"join temp :\", joined_temp)"
   ]
  },
  {
   "cell_type": "code",
   "execution_count": 37,
   "id": "e7aa8c49",
   "metadata": {},
   "outputs": [],
   "source": [
    "# 문자열을 다룰 수 있는 함수들 목록\n",
    "#dir(str)"
   ]
  },
  {
   "cell_type": "code",
   "execution_count": 38,
   "id": "e1088144",
   "metadata": {
    "scrolled": true
   },
   "outputs": [
    {
     "data": {
      "text/plain": [
       "'C:\\\\Users\\\\Admin\\\\anaconda3\\\\lib\\\\datetime.py'"
      ]
     },
     "execution_count": 38,
     "metadata": {},
     "output_type": "execute_result"
    }
   ],
   "source": [
    "import datetime\n",
    "datetime.__file__"
   ]
  },
  {
   "cell_type": "markdown",
   "id": "bf750280",
   "metadata": {},
   "source": [
    "# 7절. 시간, 날짜 다루기"
   ]
  },
  {
   "cell_type": "code",
   "execution_count": 109,
   "id": "60472d38",
   "metadata": {},
   "outputs": [
    {
     "data": {
      "text/plain": [
       "'C:\\\\Users\\\\Admin\\\\anaconda3\\\\lib\\\\datetime.py'"
      ]
     },
     "execution_count": 109,
     "metadata": {},
     "output_type": "execute_result"
    }
   ],
   "source": [
    "import datetime\n",
    "datetime.__file__"
   ]
  },
  {
   "cell_type": "code",
   "execution_count": 79,
   "id": "6676770c",
   "metadata": {},
   "outputs": [],
   "source": [
    "from datetime import datetime, date, time"
   ]
  },
  {
   "cell_type": "code",
   "execution_count": 80,
   "id": "1be0798d",
   "metadata": {},
   "outputs": [
    {
     "data": {
      "text/plain": [
       "datetime.datetime(2025, 9, 11, 9, 30)"
      ]
     },
     "execution_count": 80,
     "metadata": {},
     "output_type": "execute_result"
    }
   ],
   "source": [
    "# 특정 시점을 갖는 datetime 객체 생성\n",
    "thatday = datetime(2025, 9, 11, 9, 30)\n",
    "thatday"
   ]
  },
  {
   "cell_type": "markdown",
   "id": "c346e73c",
   "metadata": {},
   "source": [
    "## 7.1 시간과 날짜"
   ]
  },
  {
   "cell_type": "code",
   "execution_count": 41,
   "id": "9c468c95",
   "metadata": {},
   "outputs": [
    {
     "name": "stdout",
     "output_type": "stream",
     "text": [
      "25년09월11일(Thursday) 09:30:00\n",
      "25년09월11일(Thursday) 09:30:00\n",
      "Thu Sep 11 09:30:00 2025\n"
     ]
    }
   ],
   "source": [
    "# 날짜를 문자열로 전환\n",
    "print(\"{:%y년%m월%d일(%A) %H:%M:%S}\".format(thatday))\n",
    "print(thatday.strftime(\"%y년%m월%d일(%A) %H:%M:%S\"))\n",
    "print(thatday.ctime()) # ctime() : 사람이 읽기 쉬는 형태로 convert"
   ]
  },
  {
   "cell_type": "code",
   "execution_count": 81,
   "id": "ec8ac381",
   "metadata": {},
   "outputs": [
    {
     "name": "stdout",
     "output_type": "stream",
     "text": [
      "2025-09-17 16:24:55.768954\n",
      "Wed Sep 17 16:24:55 2025\n",
      "2025년09월 PM 04:24:55\n"
     ]
    }
   ],
   "source": [
    "# 지금을 저장하는 datetime 객체 생성\n",
    "now = datetime.now()\n",
    "print(now)\n",
    "print(now.ctime())\n",
    "print(now.strftime(\"%Y년%m월 %p %I:%M:%S\"))"
   ]
  },
  {
   "cell_type": "code",
   "execution_count": 44,
   "id": "e2af7d2c",
   "metadata": {},
   "outputs": [
    {
     "name": "stdout",
     "output_type": "stream",
     "text": [
      "6 days, 5:08:57.740910\n",
      "6\n"
     ]
    }
   ],
   "source": [
    "diff = now-thatday\n",
    "print(diff)\n",
    "print(diff.days)"
   ]
  },
  {
   "cell_type": "code",
   "execution_count": 86,
   "id": "8acd12ea",
   "metadata": {},
   "outputs": [
    {
     "data": {
      "text/plain": [
       "datetime.date(2025, 9, 11)"
      ]
     },
     "execution_count": 86,
     "metadata": {},
     "output_type": "execute_result"
    }
   ],
   "source": [
    "# 특정한 날짜를 갖는 date 객체 생성\n",
    "someday = date(2025, 9, 11)\n",
    "someday"
   ]
  },
  {
   "cell_type": "markdown",
   "id": "84875b44",
   "metadata": {},
   "source": [
    "print(someday)\n",
    "print(someday.strftime(\"%Y년 %m월 %d일 %H:%M\"))"
   ]
  },
  {
   "cell_type": "code",
   "execution_count": 82,
   "id": "72c1d8eb",
   "metadata": {},
   "outputs": [
    {
     "name": "stdout",
     "output_type": "stream",
     "text": [
      "True\n"
     ]
    }
   ],
   "source": [
    "# 오늘을 갖는 date 객체 생성\n",
    "today1 = date.today()\n",
    "today2 = datetime.now().date()\n",
    "print(today1 == today2)"
   ]
  },
  {
   "cell_type": "code",
   "execution_count": 85,
   "id": "0d82c058",
   "metadata": {},
   "outputs": [
    {
     "name": "stdout",
     "output_type": "stream",
     "text": [
      "2025년09월17일 00:00\n",
      "2025년09월17일 00:00\n"
     ]
    }
   ],
   "source": [
    "print(today1.strftime(\"%Y년%m월%d일 %H:%M\"))\n",
    "print(today2.strftime(\"%Y년%m월%d일 %H:%M\"))"
   ]
  },
  {
   "cell_type": "code",
   "execution_count": 21,
   "id": "45044aab",
   "metadata": {},
   "outputs": [],
   "source": [
    "# 오늘을 갖는 date 객체 생성\n",
    "today1 = date.today()"
   ]
  },
  {
   "cell_type": "markdown",
   "id": "2e0c5a7c",
   "metadata": {},
   "source": [
    "##7.3 날짜"
   ]
  },
  {
   "cell_type": "code",
   "execution_count": 46,
   "id": "5acea7e2",
   "metadata": {},
   "outputs": [
    {
     "name": "stdout",
     "output_type": "stream",
     "text": [
      "-6 days, 0:00:00\n",
      "-6\n"
     ]
    }
   ],
   "source": [
    "diff = someday - today1\n",
    "print(diff)\n",
    "print(diff.days)"
   ]
  },
  {
   "cell_type": "markdown",
   "id": "97f066cf",
   "metadata": {},
   "source": [
    "# 8절.연습문제\n"
   ]
  },
  {
   "attachments": {},
   "cell_type": "markdown",
   "id": "a85254d4",
   "metadata": {},
   "source": [
    "1 [출력형식 : 홍길동님의 나이는 23살입니다]"
   ]
  },
  {
   "attachments": {},
   "cell_type": "markdown",
   "id": "4eede73b",
   "metadata": {},
   "source": [
    "2 두 정수를 입력받아 두 수의 덧셈, 뺄셈, 곱셈, 나눗셈, 몫, 나머지를 출력하세요"
   ]
  },
  {
   "cell_type": "markdown",
   "id": "0e7a0945",
   "metadata": {},
   "source": [
    "3 문자열의 분리하기와 합치기 기능을 이용하여 ‘Hello World’가 할당된 변수를 이용하여 ‘World Hello’로 출력하세요"
   ]
  },
  {
   "attachments": {},
   "cell_type": "markdown",
   "id": "7dc1c46f",
   "metadata": {},
   "source": [
    "4 x = 'abcdef＇를 이용하여 ‘bcdefa’로 출력하세요(문자 슬라이싱이용)."
   ]
  },
  {
   "attachments": {},
   "cell_type": "markdown",
   "id": "190c8666",
   "metadata": {},
   "source": [
    "5 x = ‘abcdef’를 이용하여 ‘fedcba’로 출력하세요"
   ]
  },
  {
   "attachments": {},
   "cell_type": "markdown",
   "id": "b57bc7c1",
   "metadata": {},
   "source": [
    "6 오늘의 온도를 섭씨온도로 입력받아 화씨 온도로 변환하는 프로그램을 작성하세요. 화씨 온도는 소수점이 있을 경우만  두번째 자리까지 출력되고, 소수점이하 값이 없는 경우 소수점을 출력하지 않도록 합니다.(다음은 섭씨와 화씨의 변환 공식입니다. C는 섭씨, F는 화씨)\n",
    "C = (F-32) / 1.8\n",
    "F = (C*1.8) + 32"
   ]
  },
  {
   "attachments": {},
   "cell_type": "markdown",
   "id": "252a7c53",
   "metadata": {},
   "source": [
    "7. 다음 중 변수 선언으로 잘못된 것을 모두 고르시오?"
   ]
  },
  {
   "cell_type": "code",
   "execution_count": 87,
   "id": "60bbac12",
   "metadata": {},
   "outputs": [
    {
     "name": "stdout",
     "output_type": "stream",
     "text": [
      "홍길동님의 나이는 23살입니다\n",
      "홍길동님의 나이는 23살입니다\n",
      "홍길동님의 나이는 23살입니다\n",
      "홍길동님의 나이는 23살입니다\n"
     ]
    }
   ],
   "source": [
    "# 1.이름과 나이 변수를 다음 형식으로 출력하도록 format() 함수를 이용해 형식화하세요\n",
    "# [출력형식 : 홍길동님의 나이는 23살입니다]\n",
    "name = '홍길동'\n",
    "age = 23\n",
    "print('{}님의 나이는 {}살입니다'.format(name, age))\n",
    "print('{0}님의 나이는 {1}살입니다'.format(name, age))\n",
    "print('%s님의 나이는 %d살입니다'% (name, age))\n",
    "print(f'{name}님의 나이는 {age}살입니다')"
   ]
  },
  {
   "cell_type": "code",
   "execution_count": 65,
   "id": "dcfefa9c",
   "metadata": {},
   "outputs": [
    {
     "name": "stdout",
     "output_type": "stream",
     "text": [
      "정수11\n",
      "정수22\n",
      "덧셈 {0} 3\n",
      "뺄셈 {0} -1\n",
      "곱셈 {0} 2\n",
      "나눗셈 {0} 0.5\n",
      "몫 {0} 0\n",
      "나머지 {0} 1\n"
     ]
    }
   ],
   "source": [
    "#두 정수를 입력받아 두 수의 덧셈, 뺄셈, 곱셈, 나눗셈, 몫, 나머지를 출력하세요\n",
    "cal1 = int(input(\"첫째 정수\"))\n",
    "cal2 = int(input(\"둘째 정수\"))\n",
    "print(\"덧셈 {0}\" ,(cal1+cal2))\n",
    "print(\"뺄셈 {0}\" ,(cal1-cal2))\n",
    "print(\"곱셈 {0}\" ,(cal1*cal2))\n",
    "print(\"나눗셈 {0}\" ,float(cal1/cal2))\n",
    "print(\"몫 {0}\" , cal1//cal2)\n",
    "print(\"나머지 {0}\" , cal1%cal2)"
   ]
  },
  {
   "cell_type": "code",
   "execution_count": 90,
   "id": "cf5f56e7",
   "metadata": {},
   "outputs": [
    {
     "name": "stdout",
     "output_type": "stream",
     "text": [
      "첫번째 수1\n",
      "두번째 수1\n",
      "num1 + num2 =  2\n",
      "num1 - num2 =  0\n",
      "num1 * num2 =  1\n",
      "num1 / num2 =  1.0\n",
      "num1 // num2 =  1\n",
      "num1 % num2 =  0\n"
     ]
    }
   ],
   "source": [
    "# 2 두 정수입력받아 산술연산결과 출력\n",
    "num1 = int(input('첫번째 수'))\n",
    "num2 = int(input('두번째 수'))\n",
    "print('num1 + num2 = ', (num1+num2))\n",
    "print('num1 - num2 = ', (num1-num2))\n",
    "print('num1 * num2 = ', (num1*num2))\n",
    "print('num1 / num2 = ', (num1/num2))\n",
    "print('num1 // num2 = ', (num1//num2))\n",
    "print('num1 % num2 = ', (num1%num2))"
   ]
  },
  {
   "cell_type": "code",
   "execution_count": 91,
   "id": "75b04ed5",
   "metadata": {},
   "outputs": [
    {
     "name": "stdout",
     "output_type": "stream",
     "text": [
      "World Hello\n"
     ]
    }
   ],
   "source": [
    "\n",
    "# 3.문자열의 분리하기와 합치기 기능을 이용하여 ‘Hello World’가 \n",
    "    #할당된 변수를 이용하여 ‘World Hello’로 출력하세요\n",
    "message = \"Hello World\"\n",
    "splited_message = message.split()\n",
    "print(splited_message[1], splited_message[0])\n",
    "\n"
   ]
  },
  {
   "cell_type": "code",
   "execution_count": 101,
   "id": "15752435",
   "metadata": {},
   "outputs": [
    {
     "name": "stdout",
     "output_type": "stream",
     "text": [
      "['World', 'Hello']\n",
      "World Hello\n"
     ]
    }
   ],
   "source": [
    "print(splited_message[::-1])\n",
    "print(' '.join(splited_message[::-1]))"
   ]
  },
  {
   "cell_type": "code",
   "execution_count": 93,
   "id": "bb350698",
   "metadata": {},
   "outputs": [
    {
     "name": "stdout",
     "output_type": "stream",
     "text": [
      "bcdefa\n",
      "bcdefa\n"
     ]
    }
   ],
   "source": [
    "# 4. x = 'abcdef＇를 이용하여 ‘bcdefa’로 출력하세요\n",
    "x = 'abcdef'\n",
    "print(x[1:]+x[0])\n",
    "print(x[1:],x[0], sep='')"
   ]
  },
  {
   "cell_type": "code",
   "execution_count": 94,
   "id": "7993dd62",
   "metadata": {},
   "outputs": [
    {
     "name": "stdout",
     "output_type": "stream",
     "text": [
      "fdecba\n"
     ]
    }
   ],
   "source": [
    "# 5.x = ‘abcdef’를 이용하여 ‘fedcba’로 출력하세요\n",
    "x = 'abcedf'\n",
    "print(x[::-1])"
   ]
  },
  {
   "cell_type": "code",
   "execution_count": 95,
   "id": "7fa9806e",
   "metadata": {},
   "outputs": [
    {
     "name": "stdout",
     "output_type": "stream",
     "text": [
      "섭씨 온도를 입력하세요11\n",
      "입력하신 섭씨 11도는 화씨온도 51.80도입니다\n"
     ]
    }
   ],
   "source": [
    "# 6.섭씨온도로 입력받아 화씨 온도로 변환\n",
    "c = int(input(\"섭씨 온도를 입력하세요\"))\n",
    "f = (c*1.8)+32\n",
    "# print(\"입력하신 섭씨 {}도는 화씨온도 {:.2f}도입니다\".format(c, f))\n",
    "if f%1==0:\n",
    "    print(\"입력하신 섭씨 {}도는 화씨온도 {:.0f}도입니다\".format(c, f))\n",
    "else:\n",
    "    print(\"입력하신 섭씨 {}도는 화씨온도 {:.2f}도입니다\".format(c, f))"
   ]
  },
  {
   "cell_type": "code",
   "execution_count": 96,
   "id": "99bf9003",
   "metadata": {},
   "outputs": [],
   "source": [
    "# 7. 변수 선언으로 잘못 된 거\n",
    "# (1)for (2)10th (3)Student.name"
   ]
  },
  {
   "cell_type": "code",
   "execution_count": 97,
   "id": "ad46b911",
   "metadata": {},
   "outputs": [
    {
     "name": "stdout",
     "output_type": "stream",
     "text": [
      "SeounSeoul\n",
      "Seou n Seoul\n"
     ]
    }
   ],
   "source": [
    "# 8. 코드 실행결과는?\n",
    "text = \"Seoul A001 - programming with python\"\n",
    "print(text[:4]+text[-1]+text.split()[0])\n",
    "print(text[:4], text[-1], text.split()[0])"
   ]
  },
  {
   "cell_type": "code",
   "execution_count": 98,
   "id": "952a3643",
   "metadata": {},
   "outputs": [],
   "source": [
    "# 9. 연산식과 결과가 다른 것 (2)수식 8/2 결과 4가 아니고 4.0"
   ]
  },
  {
   "cell_type": "code",
   "execution_count": 103,
   "id": "7cda0428",
   "metadata": {},
   "outputs": [],
   "source": [
    "# 10 아래 프로그램의 결과는 ? 에러남\n",
    "x =5\n",
    "y = \"John\"\n",
    "#print(x + y) => print(str(x) + y)"
   ]
  },
  {
   "cell_type": "code",
   "execution_count": 100,
   "id": "c6bddbd9",
   "metadata": {},
   "outputs": [
    {
     "data": {
      "text/plain": [
       "'나라'"
      ]
     },
     "execution_count": 100,
     "metadata": {},
     "output_type": "execute_result"
    }
   ],
   "source": [
    "# 11.split()함수를 이용하여 str_의 값 \n",
    "    # 중 ＂나라＂를 출력하는 프로그램을 완성하시오\n",
    "str_ = \"우리 나라 대한 민국\"\n",
    "str_.split()[1]\n"
   ]
  },
  {
   "cell_type": "code",
   "execution_count": null,
   "id": "ea791c33",
   "metadata": {},
   "outputs": [],
   "source": []
  },
  {
   "cell_type": "code",
   "execution_count": null,
   "id": "8adfee3c",
   "metadata": {},
   "outputs": [],
   "source": []
  },
  {
   "cell_type": "code",
   "execution_count": null,
   "id": "b24d0ac3",
   "metadata": {},
   "outputs": [],
   "source": []
  },
  {
   "cell_type": "code",
   "execution_count": null,
   "id": "c83b4486",
   "metadata": {},
   "outputs": [],
   "source": []
  }
 ],
 "metadata": {
  "kernelspec": {
   "display_name": "Python 3 (ipykernel)",
   "language": "python",
   "name": "python3"
  },
  "language_info": {
   "codemirror_mode": {
    "name": "ipython",
    "version": 3
   },
   "file_extension": ".py",
   "mimetype": "text/x-python",
   "name": "python",
   "nbconvert_exporter": "python",
   "pygments_lexer": "ipython3",
   "version": "3.10.9"
  },
  "toc": {
   "base_numbering": 1,
   "nav_menu": {},
   "number_sections": false,
   "sideBar": true,
   "skip_h1_title": false,
   "title_cell": "Table of Contents",
   "title_sidebar": "Contents",
   "toc_cell": false,
   "toc_position": {
    "height": "calc(100% - 180px)",
    "left": "10px",
    "top": "150px",
    "width": "165px"
   },
   "toc_section_display": true,
   "toc_window_display": true
  }
 },
 "nbformat": 4,
 "nbformat_minor": 5
}
