{
 "cells": [
  {
   "cell_type": "code",
   "execution_count": null,
   "id": "59109b7a",
   "metadata": {},
   "outputs": [],
   "source": [
    "from IPython.display import display, HTML\n",
    "display(HTML(\"\"\"\n",
    "<style>\n",
    "div.container{width:90% !important;}\n",
    "div.cell.code_cell.rendered{width:100%;}\n",
    "div.input_prompt{padding:0px;}\n",
    "div.CodeMirror {font-family:Consolas; font-size:22pt;}\n",
    "div.text_cell_render.rendered_html{font-size:22pt;}\n",
    "div.output {font-size:22pt; font-weight:bold;}\n",
    "div.input {font-family:Consolas; font-size:22pt;}\n",
    "div.prompt {min-width:70px;}\n",
    "div#toc-wrapper{padding-top:120px;}\n",
    "div.text_cell_render ul li{font-size:22pt;padding:5px;}\n",
    "table.dataframe{font-size:22px;}\n",
    "</style>\n",
    "\"\"\"))"
   ]
  },
  {
   "cell_type": "markdown",
   "id": "1e3d54a6",
   "metadata": {},
   "source": [
    "<b><font size=\"7\" color=\"red\">ch10. N차원배열 다루기</font></b>\n",
    "-[numpy](http://www.numpy.org)\n",
    "-[numpy doc](https://numpy.org/doc/stable)\n",
    "- 2차원 배열은 행렬개념으로 이해\n",
    "- numpy패키지를 이용(C언어로 구현된 )"
   ]
  },
  {
   "cell_type": "markdown",
   "id": "36cdba83",
   "metadata": {},
   "source": [
    "## 1절 넘파이 패키지"
   ]
  },
  {
   "cell_type": "code",
   "execution_count": 5,
   "id": "e16bb21a",
   "metadata": {},
   "outputs": [
    {
     "data": {
      "text/plain": [
       "'1.23.5'"
      ]
     },
     "execution_count": 5,
     "metadata": {},
     "output_type": "execute_result"
    }
   ],
   "source": [
    "import numpy as np\n",
    "np.__version__"
   ]
  },
  {
   "cell_type": "code",
   "execution_count": 7,
   "id": "717b6ec8",
   "metadata": {},
   "outputs": [
    {
     "data": {
      "text/plain": [
       "array([ 0,  1,  2,  3,  4,  5,  6,  7,  8,  9, 10, 11, 12, 13, 14])"
      ]
     },
     "execution_count": 7,
     "metadata": {},
     "output_type": "execute_result"
    }
   ],
   "source": [
    "#np.arange(from, stop, by) : from부터 stop앞까지 by씩 증가하는 1차원 배열\n",
    "a = np.arange(15) #0부터 15앞까지 증가하는 1차원 배열\n",
    "a"
   ]
  },
  {
   "cell_type": "code",
   "execution_count": null,
   "id": "d00dcd32",
   "metadata": {},
   "outputs": [],
   "source": [
    "## 1.1 배열속성\n"
   ]
  },
  {
   "cell_type": "markdown",
   "id": "df637b55",
   "metadata": {},
   "source": [
    "★★ int는 기본적으로 4bite ★★"
   ]
  },
  {
   "cell_type": "code",
   "execution_count": 37,
   "id": "731a7591",
   "metadata": {},
   "outputs": [
    {
     "ename": "SyntaxError",
     "evalue": "invalid syntax (623674379.py, line 2)",
     "output_type": "error",
     "traceback": [
      "\u001b[1;36m  Cell \u001b[1;32mIn[37], line 2\u001b[1;36m\u001b[0m\n\u001b[1;33m    a arange(15,\u001b[0m\n\u001b[1;37m      ^\u001b[0m\n\u001b[1;31mSyntaxError\u001b[0m\u001b[1;31m:\u001b[0m invalid syntax\n"
     ]
    }
   ],
   "source": [
    "from numpy import arange\n",
    "a arange(15,\n",
    "         #dtype=np.int16\n",
    "        ).reshape(3, 5) #3행 5열짜리 2차원 배열로 연산\n",
    "a"
   ]
  },
  {
   "cell_type": "code",
   "execution_count": 13,
   "id": "f805aa7a",
   "metadata": {},
   "outputs": [
    {
     "data": {
      "text/plain": [
       "numpy.ndarray"
      ]
     },
     "execution_count": 13,
     "metadata": {},
     "output_type": "execute_result"
    }
   ],
   "source": [
    "type(a)"
   ]
  },
  {
   "cell_type": "code",
   "execution_count": 16,
   "id": "193e87c7",
   "metadata": {},
   "outputs": [
    {
     "data": {
      "text/plain": [
       "dtype('int32')"
      ]
     },
     "execution_count": 16,
     "metadata": {},
     "output_type": "execute_result"
    }
   ],
   "source": [
    "a.dtype # a 배열의 요소들의 type"
   ]
  },
  {
   "cell_type": "code",
   "execution_count": 17,
   "id": "80137520",
   "metadata": {},
   "outputs": [
    {
     "data": {
      "text/plain": [
       "4"
      ]
     },
     "execution_count": 17,
     "metadata": {},
     "output_type": "execute_result"
    }
   ],
   "source": [
    "a.itemsize # a배열안의 한 요소의 bytesize"
   ]
  },
  {
   "cell_type": "code",
   "execution_count": 23,
   "id": "bd546d97",
   "metadata": {},
   "outputs": [
    {
     "data": {
      "text/plain": [
       "1"
      ]
     },
     "execution_count": 23,
     "metadata": {},
     "output_type": "execute_result"
    }
   ],
   "source": [
    "a.ndim #축수"
   ]
  },
  {
   "cell_type": "code",
   "execution_count": 24,
   "id": "2c5ad44c",
   "metadata": {},
   "outputs": [
    {
     "data": {
      "text/plain": [
       "15"
      ]
     },
     "execution_count": 24,
     "metadata": {},
     "output_type": "execute_result"
    }
   ],
   "source": [
    "a.size #배열요소의 갯수"
   ]
  },
  {
   "cell_type": "code",
   "execution_count": 25,
   "id": "66525d87",
   "metadata": {},
   "outputs": [
    {
     "data": {
      "text/plain": [
       "(15,)"
      ]
     },
     "execution_count": 25,
     "metadata": {},
     "output_type": "execute_result"
    }
   ],
   "source": [
    "a.shape#배열구조"
   ]
  },
  {
   "cell_type": "code",
   "execution_count": 27,
   "id": "d3cb09f1",
   "metadata": {},
   "outputs": [
    {
     "name": "stdout",
     "output_type": "stream",
     "text": [
      "shape 조정전 a\n",
      " [ 0  1  2  3  4  5  6  7  8  9 10 11 12 13 14]\n",
      "shape 조정후 a\n",
      " [[ 0  1  2]\n",
      " [ 3  4  5]\n",
      " [ 6  7  8]\n",
      " [ 9 10 11]\n",
      " [12 13 14]]\n"
     ]
    }
   ],
   "source": [
    "print('shape 조정전 a\\n',a)\n",
    "a.shape = (5,3)\n",
    "print('shape 조정후 a\\n',a)"
   ]
  },
  {
   "cell_type": "markdown",
   "id": "e54223e4",
   "metadata": {},
   "source": [
    "## 1.2 배열 타입 변경"
   ]
  },
  {
   "cell_type": "code",
   "execution_count": 54,
   "id": "1784fb52",
   "metadata": {},
   "outputs": [
    {
     "data": {
      "text/plain": [
       "array([[ 0,  1,  2,  3],\n",
       "       [ 4,  5,  6,  7],\n",
       "       [ 8,  9, 10, 11]])"
      ]
     },
     "execution_count": 54,
     "metadata": {},
     "output_type": "execute_result"
    }
   ],
   "source": [
    "a = arange(12).reshape(3,4)\n",
    "a"
   ]
  },
  {
   "cell_type": "code",
   "execution_count": 30,
   "id": "ad9ebf6e",
   "metadata": {},
   "outputs": [
    {
     "data": {
      "text/plain": [
       "12"
      ]
     },
     "execution_count": 30,
     "metadata": {},
     "output_type": "execute_result"
    }
   ],
   "source": [
    "a.size"
   ]
  },
  {
   "cell_type": "code",
   "execution_count": 31,
   "id": "c61596c6",
   "metadata": {},
   "outputs": [
    {
     "data": {
      "text/plain": [
       "dtype('int32')"
      ]
     },
     "execution_count": 31,
     "metadata": {},
     "output_type": "execute_result"
    }
   ],
   "source": [
    "a.dtype "
   ]
  },
  {
   "cell_type": "code",
   "execution_count": 32,
   "id": "d8f94ada",
   "metadata": {},
   "outputs": [
    {
     "data": {
      "text/plain": [
       "4"
      ]
     },
     "execution_count": 32,
     "metadata": {},
     "output_type": "execute_result"
    }
   ],
   "source": [
    "a.itemsize "
   ]
  },
  {
   "cell_type": "code",
   "execution_count": 33,
   "id": "64dad454",
   "metadata": {},
   "outputs": [
    {
     "data": {
      "text/plain": [
       "2"
      ]
     },
     "execution_count": 33,
     "metadata": {},
     "output_type": "execute_result"
    }
   ],
   "source": [
    "a.ndim"
   ]
  },
  {
   "cell_type": "code",
   "execution_count": 34,
   "id": "5b8ebd9d",
   "metadata": {},
   "outputs": [
    {
     "data": {
      "text/plain": [
       "12"
      ]
     },
     "execution_count": 34,
     "metadata": {},
     "output_type": "execute_result"
    }
   ],
   "source": [
    "a.size"
   ]
  },
  {
   "cell_type": "code",
   "execution_count": 35,
   "id": "468de992",
   "metadata": {},
   "outputs": [
    {
     "data": {
      "text/plain": [
       "(3, 4)"
      ]
     },
     "execution_count": 35,
     "metadata": {},
     "output_type": "execute_result"
    }
   ],
   "source": [
    "a.shape"
   ]
  },
  {
   "cell_type": "code",
   "execution_count": 53,
   "id": "1e16ea97",
   "metadata": {},
   "outputs": [
    {
     "data": {
      "text/plain": [
       "dtype('int64')"
      ]
     },
     "execution_count": 53,
     "metadata": {},
     "output_type": "execute_result"
    }
   ],
   "source": [
    "a.dtype = np.int64 #읽을 때 int64(64bit씩) 읽는다.\n",
    "a.dtype"
   ]
  },
  {
   "cell_type": "code",
   "execution_count": 40,
   "id": "05b34ffe",
   "metadata": {},
   "outputs": [
    {
     "data": {
      "text/plain": [
       "6"
      ]
     },
     "execution_count": 40,
     "metadata": {},
     "output_type": "execute_result"
    }
   ],
   "source": [
    "a.size"
   ]
  },
  {
   "cell_type": "code",
   "execution_count": 51,
   "id": "f277975d",
   "metadata": {},
   "outputs": [],
   "source": [
    "#배열요소의 타입을 수정\n",
    "a = a.astype('int64')\n",
    "#a=a.astype(np.int64)"
   ]
  },
  {
   "cell_type": "code",
   "execution_count": 50,
   "id": "417ad108",
   "metadata": {},
   "outputs": [
    {
     "data": {
      "text/plain": [
       "8"
      ]
     },
     "execution_count": 50,
     "metadata": {},
     "output_type": "execute_result"
    }
   ],
   "source": [
    "a.itemsize "
   ]
  },
  {
   "cell_type": "code",
   "execution_count": 56,
   "id": "34107f12",
   "metadata": {},
   "outputs": [
    {
     "data": {
      "text/plain": [
       "12"
      ]
     },
     "execution_count": 56,
     "metadata": {},
     "output_type": "execute_result"
    }
   ],
   "source": [
    "a.size"
   ]
  },
  {
   "cell_type": "code",
   "execution_count": 55,
   "id": "206d846c",
   "metadata": {},
   "outputs": [
    {
     "data": {
      "text/plain": [
       "array([[ 0,  1,  2,  3],\n",
       "       [ 4,  5,  6,  7],\n",
       "       [ 8,  9, 10, 11]])"
      ]
     },
     "execution_count": 55,
     "metadata": {},
     "output_type": "execute_result"
    }
   ],
   "source": [
    "a"
   ]
  },
  {
   "cell_type": "code",
   "execution_count": 58,
   "id": "57cc8b1b",
   "metadata": {},
   "outputs": [
    {
     "data": {
      "text/plain": [
       "array([ 0,  1,  2,  3,  4,  5,  6,  7,  8,  9, 10, 11])"
      ]
     },
     "execution_count": 58,
     "metadata": {},
     "output_type": "execute_result"
    }
   ],
   "source": [
    "a.ravel()"
   ]
  },
  {
   "cell_type": "code",
   "execution_count": 59,
   "id": "f3962a58",
   "metadata": {
    "scrolled": true
   },
   "outputs": [
    {
     "data": {
      "text/plain": [
       "array([ 0,  1,  2,  3,  4,  5,  6,  7,  8,  9, 10, 11])"
      ]
     },
     "execution_count": 59,
     "metadata": {},
     "output_type": "execute_result"
    }
   ],
   "source": [
    "a.flatten()"
   ]
  },
  {
   "cell_type": "markdown",
   "id": "f5a935f1",
   "metadata": {},
   "source": [
    "# 1.3 배열저장\n",
    "- pkl(객체저장,배열,머신러닝) vs  npy(넘파이전용 포맷, io속도 개선)"
   ]
  },
  {
   "cell_type": "code",
   "execution_count": 61,
   "id": "f7ca2243",
   "metadata": {},
   "outputs": [
    {
     "data": {
      "text/plain": [
       "array([[ 0,  1,  2,  3],\n",
       "       [ 4,  5,  6,  7],\n",
       "       [ 8,  9, 10, 11]])"
      ]
     },
     "execution_count": 61,
     "metadata": {},
     "output_type": "execute_result"
    }
   ],
   "source": [
    "a"
   ]
  },
  {
   "cell_type": "code",
   "execution_count": 69,
   "id": "66116147",
   "metadata": {},
   "outputs": [],
   "source": [
    "import pickle\n",
    "with open('data/ch10.pkl', 'wb') as f:\n",
    "    pickle.dump(a, f)"
   ]
  },
  {
   "cell_type": "code",
   "execution_count": 67,
   "id": "d97dc056",
   "metadata": {},
   "outputs": [],
   "source": [
    "with open('data/ch10.pkl', 'rb') as f:\n",
    "    loaded_a = pickle.load(f)"
   ]
  },
  {
   "cell_type": "code",
   "execution_count": 68,
   "id": "c7b9176d",
   "metadata": {},
   "outputs": [
    {
     "data": {
      "text/plain": [
       "<function _pickle.load(file, *, fix_imports=True, encoding='ASCII', errors='strict', buffers=())>"
      ]
     },
     "execution_count": 68,
     "metadata": {},
     "output_type": "execute_result"
    }
   ],
   "source": [
    "loaded_a"
   ]
  },
  {
   "cell_type": "code",
   "execution_count": 127,
   "id": "97b7c0c8",
   "metadata": {},
   "outputs": [
    {
     "name": "stdout",
     "output_type": "stream",
     "text": [
      "CPU times: total: 0 ns\n",
      "Wall time: 1.11 ms\n"
     ]
    }
   ],
   "source": [
    "%%time \n",
    "np.save('data/ch10.npy', a)#저장"
   ]
  },
  {
   "cell_type": "code",
   "execution_count": 128,
   "id": "85334bfc",
   "metadata": {},
   "outputs": [
    {
     "name": "stdout",
     "output_type": "stream",
     "text": [
      "CPU times: total: 0 ns\n",
      "Wall time: 11 ms\n"
     ]
    }
   ],
   "source": [
    "%%time \n",
    "load_np  = np.load('data/ch10.npy')"
   ]
  },
  {
   "cell_type": "code",
   "execution_count": 129,
   "id": "035a5552",
   "metadata": {},
   "outputs": [
    {
     "data": {
      "text/plain": [
       "array([2, 4, 6], dtype=int16)"
      ]
     },
     "execution_count": 129,
     "metadata": {},
     "output_type": "execute_result"
    }
   ],
   "source": [
    "load_np"
   ]
  },
  {
   "cell_type": "code",
   "execution_count": 125,
   "id": "08f8a77e",
   "metadata": {},
   "outputs": [
    {
     "name": "stdout",
     "output_type": "stream",
     "text": [
      "CPU times: total: 328 ms\n",
      "Wall time: 337 ms\n"
     ]
    }
   ],
   "source": [
    "%%time\n",
    "for i in range(1000000):\n",
    "    i**2"
   ]
  },
  {
   "cell_type": "markdown",
   "id": "a084ab3b",
   "metadata": {},
   "source": [
    "# 2절 넘파이 배열\n",
    "- array() 함수를 이용하여 다른 파이썬 구조(리스트,튜플)를 배열로 변화\n",
    "- 기타함수들: arange ones, zeros, full, empty....linspace\n",
    "- 랜덤값을 갖는 함수들 : np.random.~\n",
    "## 2.1 array()함수로 넘파이 배열 만들기\n",
    "- array(obj, dtype='int16', copyT/F)"
   ]
  },
  {
   "cell_type": "code",
   "execution_count": 140,
   "id": "3ace571e",
   "metadata": {},
   "outputs": [
    {
     "data": {
      "text/plain": [
       "array([2, 4, 6], dtype=int16)"
      ]
     },
     "execution_count": 140,
     "metadata": {},
     "output_type": "execute_result"
    }
   ],
   "source": [
    "a = np.array([2,4,6],dtype = np.int16)\n",
    "a"
   ]
  },
  {
   "cell_type": "code",
   "execution_count": 142,
   "id": "08be3868",
   "metadata": {},
   "outputs": [
    {
     "data": {
      "text/plain": [
       "(2, 4, 6)"
      ]
     },
     "execution_count": 142,
     "metadata": {},
     "output_type": "execute_result"
    }
   ],
   "source": [
    "a[0], a[1], a[2]"
   ]
  },
  {
   "cell_type": "code",
   "execution_count": 143,
   "id": "2d5dac6d",
   "metadata": {},
   "outputs": [
    {
     "name": "stdout",
     "output_type": "stream",
     "text": [
      "2\t4\t6\t"
     ]
    }
   ],
   "source": [
    "for i in a:\n",
    "    print(i, end='\\t')"
   ]
  },
  {
   "cell_type": "code",
   "execution_count": 78,
   "id": "11d6cbbd",
   "metadata": {},
   "outputs": [
    {
     "data": {
      "text/plain": [
       "(2, 4, 6)"
      ]
     },
     "execution_count": 78,
     "metadata": {},
     "output_type": "execute_result"
    }
   ],
   "source": [
    "a[0], a[1], a[2]"
   ]
  },
  {
   "cell_type": "code",
   "execution_count": 144,
   "id": "7c757f67",
   "metadata": {},
   "outputs": [],
   "source": [
    "b = np.array([ [1.5, 2.3],  # 배열은 동일 자료형의 집합 : 정수->실수->문자\n",
    "               [4,   5]])"
   ]
  },
  {
   "cell_type": "code",
   "execution_count": null,
   "id": "1baabb42",
   "metadata": {},
   "outputs": [],
   "source": [
    "for i in a:\n",
    "    print(i, end='\\t')"
   ]
  },
  {
   "cell_type": "code",
   "execution_count": 145,
   "id": "f56111c0",
   "metadata": {},
   "outputs": [
    {
     "name": "stdout",
     "output_type": "stream",
     "text": [
      "float64\n",
      "8\n"
     ]
    }
   ],
   "source": [
    "print(b.dtype) # 정수 기본타입은 int32, 실수 기본타입은 float64\n",
    "print(b.itemsize)"
   ]
  },
  {
   "cell_type": "code",
   "execution_count": 136,
   "id": "bb714979",
   "metadata": {},
   "outputs": [
    {
     "data": {
      "text/plain": [
       "array([[ 1.,  2.,  3.,  4.,  5.],\n",
       "       [ 6.,  7.,  8.,  9.,  0.],\n",
       "       [11., 12., 13., 14., 15.]], dtype=float32)"
      ]
     },
     "execution_count": 136,
     "metadata": {},
     "output_type": "execute_result"
    }
   ],
   "source": [
    "b = b.astype(np.float32) # 함수의 결과를 return하면 a는 그대로\n",
    "b"
   ]
  },
  {
   "cell_type": "code",
   "execution_count": 97,
   "id": "2a908c8e",
   "metadata": {},
   "outputs": [
    {
     "name": "stdout",
     "output_type": "stream",
     "text": [
      "float64\n",
      "8\n"
     ]
    }
   ],
   "source": [
    "print(b.dtype)\n",
    "print(b.itemsize)"
   ]
  },
  {
   "cell_type": "code",
   "execution_count": 135,
   "id": "7380f515",
   "metadata": {},
   "outputs": [
    {
     "name": "stdout",
     "output_type": "stream",
     "text": [
      "int16\n",
      "2\n"
     ]
    }
   ],
   "source": [
    "print(b.dtype) # 정수 기본타입은 int32, 실수 기본타입은 float64\n",
    "print(b.itemsize)"
   ]
  },
  {
   "cell_type": "code",
   "execution_count": 134,
   "id": "14ec7e5a",
   "metadata": {},
   "outputs": [
    {
     "name": "stdout",
     "output_type": "stream",
     "text": [
      "1\t2\t3\t4\t5\t\n",
      "6\t7\t8\t9\t0\t\n",
      "11\t12\t13\t14\t15\t\n"
     ]
    }
   ],
   "source": [
    "for row in b:\n",
    "    for item in row:\n",
    "        print(item, end='\\t')\n",
    "    print() # 개행"
   ]
  },
  {
   "cell_type": "code",
   "execution_count": 133,
   "id": "e385cd34",
   "metadata": {},
   "outputs": [
    {
     "name": "stdout",
     "output_type": "stream",
     "text": [
      "0행0열 : 1.0(1.0)\t0행1열 : 2.0(2.0)\t0행2열 : 3.0(3.0)\t0행3열 : 4.0(4.0)\t0행4열 : 5.0(5.0)\t\n",
      "1행0열 : 6.0(6.0)\t1행1열 : 7.0(7.0)\t1행2열 : 8.0(8.0)\t1행3열 : 9.0(9.0)\t1행4열 : 0.0(0.0)\t\n",
      "2행0열 : 11.0(11.0)\t2행1열 : 12.0(12.0)\t2행2열 : 13.0(13.0)\t2행3열 : 14.0(14.0)\t2행4열 : 15.0(15.0)\t\n"
     ]
    }
   ],
   "source": [
    "for i, row in enumerate(b):\n",
    "    for j, item in enumerate(row):\n",
    "        print('{}행{}열 : {:.1f}({:.1f})'.format(i, j, item, b[i,j]), end='\\t')\n",
    "    print() # 개행"
   ]
  },
  {
   "cell_type": "code",
   "execution_count": 132,
   "id": "575bd8ac",
   "metadata": {},
   "outputs": [
    {
     "data": {
      "text/plain": [
       "array([[ 1,  2,  3,  4,  5],\n",
       "       [ 6,  7,  8,  9,  0],\n",
       "       [11, 12, 13, 14, 15]], dtype=int16)"
      ]
     },
     "execution_count": 132,
     "metadata": {},
     "output_type": "execute_result"
    }
   ],
   "source": [
    "# 행렬의 인덱싱, 슬라이싱\n",
    "b = np.array([[1,2,3,4,5], [6,7,8,9,0],[11,12,13,14,15]], dtype=np.int16)\n",
    "b\n"
   ]
  },
  {
   "cell_type": "code",
   "execution_count": 131,
   "id": "bc498769",
   "metadata": {},
   "outputs": [
    {
     "data": {
      "text/plain": [
       "2"
      ]
     },
     "execution_count": 131,
     "metadata": {},
     "output_type": "execute_result"
    }
   ],
   "source": [
    "b[0,1] #없는 인덱싱시 에러 ex. b[3,0]"
   ]
  },
  {
   "cell_type": "code",
   "execution_count": 130,
   "id": "e6e46be0",
   "metadata": {},
   "outputs": [
    {
     "name": "stdout",
     "output_type": "stream",
     "text": [
      "0~1행, 1~2열 :\n",
      " [[2 3]\n",
      " [7 8]]\n",
      "2행모두(1차원) : [11 12 13 14 15] [11 12 13 14 15]\n",
      "2행모두(2차원) : [[11 12 13 14 15]] [[11 12 13 14 15]]\n",
      "4열모두(1차원) : [ 5  0 15] [ 5  0 15] [ 5  0 15]\n",
      "2행 0~3열 : [11 12 13 14]\n",
      "마지막열 제외 :\n",
      " [[ 1  2  3  4]\n",
      " [ 6  7  8  9]\n",
      " [11 12 13 14]]\n"
     ]
    }
   ],
   "source": [
    "print('0~1행, 1~2열 :\\n', b[0:2, 1:3]) \n",
    "print('2행모두(1차원) :', b[2, :], b[2])      #특정행, 모든열을 추출할 경우, 열생략 가능\n",
    "print('2행모두(2차원) :', b[2:3, :], b[2:3])\n",
    "print('4열모두(1차원) :', b[:,4], b[...,4], b[:, -1]) # 특정열, 모든행을 추출할 경우\n",
    "print('2행 0~3열 :', b[2, 0:-1])\n",
    "print('마지막열 제외 :\\n', b[:, :-1])"
   ]
  },
  {
   "cell_type": "code",
   "execution_count": 150,
   "id": "07a1f8b6",
   "metadata": {},
   "outputs": [
    {
     "name": "stdout",
     "output_type": "stream",
     "text": [
      "a = [10, 20], 복제본 = [10, 20]\n",
      "a = [10, 20], 복제본 = [-1, 20]\n"
     ]
    }
   ],
   "source": [
    "# 스칼라변수\n",
    "a = [10, 20]\n",
    "#copy_a = a\n",
    "copy_a = a.copy()\n",
    "print(f\"a = {a}, 복제본 = {copy_a}\")\n",
    "\n",
    "copy_a[0] = -1\n",
    "print(f\"a = {a}, 복제본 = {copy_a}\")"
   ]
  },
  {
   "cell_type": "code",
   "execution_count": 155,
   "id": "c8357114",
   "metadata": {},
   "outputs": [
    {
     "name": "stdout",
     "output_type": "stream",
     "text": [
      "c = \n",
      "[[1 2]\n",
      " [3 4]]\n",
      "d = \n",
      "[[1 2]\n",
      " [3 4]]\n",
      "c = \n",
      "[[1 2]\n",
      " [3 4]]\n",
      "d = \n",
      "[[9 2]\n",
      " [3 4]]\n"
     ]
    }
   ],
   "source": [
    "import numpy as np\n",
    "c = np.array([[1,2],[3,4]])\n",
    "#d = c\n",
    "d = np.array(c, copy=True)\n",
    "print(f'c = ', c, sep= '\\n')\n",
    "print(f'd = ', d, sep= '\\n')\n",
    "d[0,0] = 9\n",
    "print(f'c = ', c, sep= '\\n')\n",
    "print(f'd = ', d, sep= '\\n')"
   ]
  },
  {
   "cell_type": "markdown",
   "id": "20ed2d6c",
   "metadata": {},
   "source": [
    "## 2.2 기본값이 있는 배열 만들기\n",
    "- np.zeros(tup) : 요소들이 다0\n",
    "- np.ones(tup) : 요소들이 다1\n",
    "- np.full(tup, 기본값) : 요소들이 다 두번째 매개변수\n",
    "- np.empty(tup) : 초기 내용이등 임의 값인 배열(매모리 상태에 따라 초기값 달라짐)\n",
    "※ 위의 함수를 이용해서 생성된 배열은 기본 dtype이 float64.dtype속성을 따로 지정가능"
   ]
  },
  {
   "cell_type": "code",
   "execution_count": 156,
   "id": "1b29a039",
   "metadata": {},
   "outputs": [
    {
     "data": {
      "text/plain": [
       "array([[0., 0., 0., 0., 0.],\n",
       "       [0., 0., 0., 0., 0.],\n",
       "       [0., 0., 0., 0., 0.]])"
      ]
     },
     "execution_count": 156,
     "metadata": {},
     "output_type": "execute_result"
    }
   ],
   "source": []
  },
  {
   "cell_type": "code",
   "execution_count": 157,
   "id": "d5f221cc",
   "metadata": {},
   "outputs": [
    {
     "data": {
      "text/plain": [
       "array([[1., 1., 1., 1., 1.],\n",
       "       [1., 1., 1., 1., 1.],\n",
       "       [1., 1., 1., 1., 1.]])"
      ]
     },
     "execution_count": 157,
     "metadata": {},
     "output_type": "execute_result"
    }
   ],
   "source": [
    "np.ones((3,5))"
   ]
  },
  {
   "cell_type": "code",
   "execution_count": 160,
   "id": "a61ef22f",
   "metadata": {},
   "outputs": [
    {
     "name": "stdout",
     "output_type": "stream",
     "text": [
      "[[False False False False False]\n",
      " [False False False False False]]\n",
      "bool\n",
      "1\n"
     ]
    }
   ],
   "source": [
    "x = np.zeros((2,5), dtype=np.bool_) \n",
    "print(x)\n",
    "print(x.dtype)\n",
    "print(x.itemsize)"
   ]
  },
  {
   "cell_type": "code",
   "execution_count": 164,
   "id": "ae00b10b",
   "metadata": {},
   "outputs": [
    {
     "data": {
      "text/plain": [
       "array([[1, 1, 1, 1, 1],\n",
       "       [1, 1, 1, 1, 1]], dtype=int8)"
      ]
     },
     "execution_count": 164,
     "metadata": {},
     "output_type": "execute_result"
    }
   ],
   "source": [
    "x = np.ones((2, 5), dtype=np.int8)\n",
    "x"
   ]
  },
  {
   "cell_type": "code",
   "execution_count": 73,
   "id": "b6328d76",
   "metadata": {},
   "outputs": [
    {
     "data": {
      "text/plain": [
       "array([[-1.2, -1.2, -1.2],\n",
       "       [-1.2, -1.2, -1.2]])"
      ]
     },
     "execution_count": 73,
     "metadata": {},
     "output_type": "execute_result"
    }
   ],
   "source": [
    "np.full( (2,3), -1.2)"
   ]
  },
  {
   "cell_type": "code",
   "execution_count": 60,
   "id": "ee418462",
   "metadata": {},
   "outputs": [
    {
     "data": {
      "image/png": "[encoded data removed]",
      "text/plain": [
       "<Figure size 200x200 with 1 Axes>"
      ]
     },
     "metadata": {},
     "output_type": "display_data"
    }
   ],
   "source": [
    "import matplotlib.pyplot as plt\n",
    "plt.figure(figsize=(2,2)) # 시각화한 그래프 크기 figsize=(가로, 세로)\n",
    "img = np.full( (28,28), 200, dtype=np.uint8)\n",
    "plt.imshow(img, cmap='gray', vmin=0, vmax=255)\n",
    "plt.axis('off') # 축 없애기\n",
    "plt.show()"
   ]
  },
  {
   "cell_type": "code",
   "execution_count": 1,
   "id": "e7ccc02a",
   "metadata": {},
   "outputs": [
    {
     "data": {
      "text/plain": [
       "array([[0., 0.],\n",
       "       [0., 0.],\n",
       "       [0., 0.]])"
      ]
     },
     "execution_count": 1,
     "metadata": {},
     "output_type": "execute_result"
    }
   ],
   "source": [
    "import numpy as np\n",
    "np.empty( (3, 2) ) # 초기값이 메모리 상태에 따라 다름"
   ]
  },
  {
   "cell_type": "markdown",
   "id": "4b4cc2d0",
   "metadata": {},
   "source": [
    "2.3 랜덤값을 갖는 배열 만들기\n",
    "np.random.random(tup) : 0부터 1미만의 균등분포를 갖는 랜덤값\n",
    "\n",
    "np.random.uniform(low=0.0, high=1.0, size=tup) : low부터 high미만의 균등분포를 갖는 랜덤값\n",
    "\n",
    "np.random.normal(loc=0.0, scale=1.0, size=tup) : 평균loc과 표준편차 scale을 갖는 정규분포 랜덤값\n",
    "\n",
    "np.random.rand(n) : 균등분포의 1차원 난수 배열발생 (난수 n개)\n",
    "\n",
    "np.random.randn(n) : 표준정규분포(평균0,표준편차1)\n",
    "\n",
    "cf) np.random.randint([from,] to) : from(0)부터 to미만의 정수 난수 1개발생==random.randint(from, to-1)"
   ]
  },
  {
   "cell_type": "code",
   "execution_count": 61,
   "id": "1c943e9b",
   "metadata": {},
   "outputs": [
    {
     "data": {
      "image/png": "[encoded data removed]",
      "text/plain": [
       "<Figure size 1500x200 with 1 Axes>"
      ]
     },
     "metadata": {},
     "output_type": "display_data"
    }
   ],
   "source": [
    "import matplotlib.pyplot as plt\n",
    "x = np.random.rand(10000)\n",
    "plt.figure(figsize=(15,2)) # 그래프크기\n",
    "plt.hist(x, bins=50)\n",
    "plt.show()"
   ]
  },
  {
   "cell_type": "code",
   "execution_count": 63,
   "id": "62203896",
   "metadata": {},
   "outputs": [
    {
     "name": "stdout",
     "output_type": "stream",
     "text": [
      "[0.13532296 0.39414971 0.22777863]\n",
      "[-0.457113   -0.7935474  -0.17017734]\n"
     ]
    }
   ],
   "source": [
    "# 1차원 난수 배열\n",
    "print(np.random.rand(3)) # 균등분포\n",
    "print(np.random.randn(3)) # 정규분포"
   ]
  },
  {
   "cell_type": "code",
   "execution_count": 64,
   "id": "bbc5ec17",
   "metadata": {},
   "outputs": [
    {
     "data": {
      "text/plain": [
       "array([[0.47724234, 0.8656212 , 0.13644235, 0.40976099, 0.94225441],\n",
       "       [0.19897004, 0.9244228 , 0.0415263 , 0.61568774, 0.51819268]])"
      ]
     },
     "execution_count": 64,
     "metadata": {},
     "output_type": "execute_result"
    }
   ],
   "source": [
    "# 2차원 난수 배열\n",
    "np.random.random( (2,5) ) # 2행5열짜리 균등분포(0~1미만) 난수 배열"
   ]
  },
  {
   "cell_type": "code",
   "execution_count": 65,
   "id": "312a0368",
   "metadata": {},
   "outputs": [
    {
     "data": {
      "text/plain": [
       "array([[-1.15784652, -0.83077419, -1.94126979,  1.19941855, -1.03189778],\n",
       "       [ 0.29779887, -0.471674  ,  1.88827918, -1.22361522, -1.7969194 ]])"
      ]
     },
     "execution_count": 65,
     "metadata": {},
     "output_type": "execute_result"
    }
   ],
   "source": [
    "np.random.uniform(low=-2, high=2, size=(2,5)) #2행5열짜리 균등분포(-2~2미만) 난수 배열"
   ]
  },
  {
   "cell_type": "code",
   "execution_count": 66,
   "id": "cd95c543",
   "metadata": {},
   "outputs": [
    {
     "data": {
      "text/plain": [
       "array([[-2.30899006, -0.14781034,  0.47677257, -2.02637094, -0.36459985],\n",
       "       [ 1.33752158, -0.21161556,  0.74870831, -1.43026854, -0.60539042]])"
      ]
     },
     "execution_count": 66,
     "metadata": {},
     "output_type": "execute_result"
    }
   ],
   "source": [
    "np.random.normal(size=(2,5)) #2행5열짜리 정규분포(평균0, 표준편차1) 난수 배열"
   ]
  },
  {
   "cell_type": "code",
   "execution_count": 24,
   "id": "6128d17d",
   "metadata": {},
   "outputs": [
    {
     "data": {
      "text/plain": [
       "array([0.34329902, 0.94010525])"
      ]
     },
     "execution_count": 24,
     "metadata": {},
     "output_type": "execute_result"
    }
   ],
   "source": [
    "np.random.normal(-1, 1, (2,5)) #2행5열짜리 정규분포(평균-1, 표준편차1) 난수 배열"
   ]
  },
  {
   "cell_type": "markdown",
   "id": "465d1a72",
   "metadata": {},
   "source": [
    "2.4 연속된 값을 갖는 1차원 배열 만들기\n",
    "np.arange(from, to, by, dtype) : from부터 to앞까지 by씩 건너뛴 값을 1차원 배열로 생성\n",
    "np.linspace(from, to, num) : from부터 to(to포함)까지 num개 숫자들을 1차원 배열로 생성"
   ]
  },
  {
   "cell_type": "code",
   "execution_count": 47,
   "id": "2b04b29d",
   "metadata": {},
   "outputs": [
    {
     "data": {
      "image/png": "[encoded data removed]",
      "text/plain": [
       "<Figure size 1500x200 with 1 Axes>"
      ]
     },
     "metadata": {},
     "output_type": "display_data"
    }
   ],
   "source": [
    "import numpy as np\n",
    "import matplotlib.pyplot as plt\n",
    "\n",
    "x = np.random.rand(10000)\n",
    "#print(x)\n",
    "plt.figure(figsize=(15, 2))\n",
    "plt.hist(x, bins=50)\n",
    "plt.show()"
   ]
  },
  {
   "cell_type": "code",
   "execution_count": 46,
   "id": "c6764e4d",
   "metadata": {},
   "outputs": [
    {
     "data": {
      "image/png": "[encoded data removed]",
      "text/plain": [
       "<Figure size 1500x200 with 1 Axes>"
      ]
     },
     "metadata": {},
     "output_type": "display_data"
    }
   ],
   "source": [
    "import numpy as np\n",
    "import matplotlib.pyplot as plt\n",
    "\n",
    "x = np.random.randn(10000)\n",
    "#print(x)\n",
    "plt.figure(figsize=(15, 2))\n",
    "plt.hist(x, bins=50)\n",
    "plt.show()"
   ]
  },
  {
   "cell_type": "code",
   "execution_count": 51,
   "id": "914d8426",
   "metadata": {},
   "outputs": [
    {
     "data": {
      "image/png": "[encoded data removed]",
      "text/plain": [
       "<Figure size 1500x500 with 1 Axes>"
      ]
     },
     "metadata": {},
     "output_type": "display_data"
    }
   ],
   "source": [
    "import numpy as np\n",
    "import matplotlib.pyplot as plt\n",
    "\n",
    "x = np.random.randn(10000) #정규분포(표준정규는 평균0, 표준편차가 )\n",
    "#print(x)\n",
    "plt.figure(figsize=(15, 5))\n",
    "plt.hist(x, bins=50)\n",
    "plt.show()"
   ]
  },
  {
   "cell_type": "code",
   "execution_count": 53,
   "id": "3f482514",
   "metadata": {},
   "outputs": [
    {
     "name": "stdout",
     "output_type": "stream",
     "text": [
      "[0.34854633 0.52960989 0.86170424]\n",
      "[-0.7214744   0.27469641  0.73996618]\n"
     ]
    }
   ],
   "source": [
    "print(np.random.rand(3))\n",
    "print(np.random.randn(3)) #정규분포"
   ]
  },
  {
   "cell_type": "code",
   "execution_count": 54,
   "id": "dc873707",
   "metadata": {},
   "outputs": [
    {
     "data": {
      "text/plain": [
       "array([[0.73115919, 0.51771874, 0.99064705, 0.13162403, 0.76817524],\n",
       "       [0.27395296, 0.47979744, 0.80634847, 0.73434637, 0.64951199]])"
      ]
     },
     "execution_count": 54,
     "metadata": {},
     "output_type": "execute_result"
    }
   ],
   "source": [
    "np.random.random((2,5))"
   ]
  },
  {
   "cell_type": "code",
   "execution_count": 56,
   "id": "b19f96b4",
   "metadata": {},
   "outputs": [
    {
     "data": {
      "text/plain": [
       "array([-0.90872718, -1.33614426])"
      ]
     },
     "execution_count": 56,
     "metadata": {},
     "output_type": "execute_result"
    }
   ],
   "source": [
    "np.random.uniform(low=-2, high=2, size=2)"
   ]
  },
  {
   "cell_type": "code",
   "execution_count": 58,
   "id": "db61beb3",
   "metadata": {},
   "outputs": [
    {
     "data": {
      "text/plain": [
       "array([[0.32855109, 0.54338558, 0.87941275, 0.73730735, 0.63655183],\n",
       "       [0.7498858 , 0.36581451, 0.18673673, 0.53027252, 0.55311437]])"
      ]
     },
     "execution_count": 58,
     "metadata": {},
     "output_type": "execute_result"
    }
   ],
   "source": [
    "np.random.uniform(size=(2, 5))"
   ]
  },
  {
   "cell_type": "code",
   "execution_count": 59,
   "id": "5258ae63",
   "metadata": {},
   "outputs": [
    {
     "data": {
      "text/plain": [
       "array([[-0.94639558,  0.67769761,  0.13350636, -0.03145897, -0.87475785],\n",
       "       [-0.2687641 ,  0.68669718,  0.27027544, -0.28967664, -0.67473029]])"
      ]
     },
     "execution_count": 59,
     "metadata": {},
     "output_type": "execute_result"
    }
   ],
   "source": [
    "np.random.uniform(-1,1, size=(2, 5))"
   ]
  },
  {
   "cell_type": "code",
   "execution_count": 68,
   "id": "1c726bea",
   "metadata": {},
   "outputs": [
    {
     "data": {
      "text/plain": [
       "array([10., 15., 20., 25.])"
      ]
     },
     "execution_count": 68,
     "metadata": {},
     "output_type": "execute_result"
    }
   ],
   "source": [
    "np.arange(10, 30, 5, dtype=np.float64)"
   ]
  },
  {
   "cell_type": "code",
   "execution_count": 69,
   "id": "f040ad1e",
   "metadata": {},
   "outputs": [
    {
     "data": {
      "text/plain": [
       "array([0. , 0.3, 0.6, 0.9, 1.2, 1.5, 1.8, 2.1])"
      ]
     },
     "execution_count": 69,
     "metadata": {},
     "output_type": "execute_result"
    }
   ],
   "source": [
    "np.arange(0, 2.1, 0.3)"
   ]
  },
  {
   "cell_type": "code",
   "execution_count": 70,
   "id": "9b6c6729",
   "metadata": {},
   "outputs": [
    {
     "data": {
      "text/plain": [
       "array([0.  , 1.25, 2.5 , 3.75, 5.  ])"
      ]
     },
     "execution_count": 70,
     "metadata": {},
     "output_type": "execute_result"
    }
   ],
   "source": [
    "np.linspace(0, 5, 5)"
   ]
  },
  {
   "cell_type": "code",
   "execution_count": 71,
   "id": "139b2e7f",
   "metadata": {},
   "outputs": [],
   "source": [
    "# linspace : 특정한 범위의 수들을 많이 생성할 때\n",
    "from numpy import pi, linspace\n",
    "x = linspace(0, 2*pi, 1000)\n",
    "y = np.sin(x)"
   ]
  },
  {
   "cell_type": "code",
   "execution_count": 72,
   "id": "63222235",
   "metadata": {},
   "outputs": [
    {
     "data": {
      "image/png": "[encoded data removed]",
      "text/plain": [
       "<Figure size 800x300 with 1 Axes>"
      ]
     },
     "metadata": {},
     "output_type": "display_data"
    }
   ],
   "source": [
    "plt.figure(figsize=(8, 3))\n",
    "plt.scatter(x, y)\n",
    "plt.show()"
   ]
  },
  {
   "cell_type": "code",
   "execution_count": null,
   "id": "183931c8",
   "metadata": {},
   "outputs": [],
   "source": []
  }
 ],
 "metadata": {
  "kernelspec": {
   "display_name": "Python 3 (ipykernel)",
   "language": "python",
   "name": "python3"
  },
  "language_info": {
   "codemirror_mode": {
    "name": "ipython",
    "version": 3
   },
   "file_extension": ".py",
   "mimetype": "text/x-python",
   "name": "python",
   "nbconvert_exporter": "python",
   "pygments_lexer": "ipython3",
   "version": "3.10.9"
  },
  "toc": {
   "base_numbering": 1,
   "nav_menu": {},
   "number_sections": false,
   "sideBar": true,
   "skip_h1_title": false,
   "title_cell": "Table of Contents",
   "title_sidebar": "Contents",
   "toc_cell": false,
   "toc_position": {
    "height": "calc(100% - 180px)",
    "left": "10px",
    "top": "150px",
    "width": "165px"
   },
   "toc_section_display": true,
   "toc_window_display": true
  }
 },
 "nbformat": 4,
 "nbformat_minor": 5
}
