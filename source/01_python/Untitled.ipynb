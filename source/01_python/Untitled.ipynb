{
 "cells": [
  {
   "cell_type": "code",
   "execution_count": null,
   "id": "35776446",
   "metadata": {},
   "outputs": [],
   "source": [
    "import json\n",
    "\n",
    "# 예시: Member 클래스 정의\n",
    "class Member:\n",
    "    def __init__(self, name, age, email):\n",
    "        self.name = name\n",
    "        self.age = age\n",
    "        self.email = email\n",
    "\n",
    "    def __repr__(self):\n",
    "        return f\"Member(name={self.name}, age={self.age}, email={self.email})\"\n",
    "\n",
    "# dict -> Member 객체 변환 함수\n",
    "def as_member(d):\n",
    "    return Member(d['name'], d['age'], d['email'])\n",
    "\n"
   ]
  },
  {
   "cell_type": "code",
   "execution_count": null,
   "id": "371dd31e",
   "metadata": {},
   "outputs": [],
   "source": []
  },
  {
   "cell_type": "code",
   "execution_count": null,
   "id": "7423de90",
   "metadata": {},
   "outputs": [],
   "source": []
  },
  {
   "cell_type": "code",
   "execution_count": 2,
   "id": "bf35a186",
   "metadata": {},
   "outputs": [
    {
     "name": "stdout",
     "output_type": "stream",
     "text": [
      "<IntegerArray>\n",
      "[10, 20, 30, 40]\n",
      "Length: 4, dtype: Int64\n"
     ]
    }
   ],
   "source": [
    "import pandas as pd\n",
    "\n",
    "arr = pd.array([1,2,3,4])\n",
    "arra10 = arr*10\n",
    "\n",
    "print(arra10)\n",
    "\n"
   ]
  },
  {
   "cell_type": "code",
   "execution_count": 3,
   "id": "62bd4411",
   "metadata": {},
   "outputs": [
    {
     "name": "stdout",
     "output_type": "stream",
     "text": [
      "a    1\n",
      "b    2\n",
      "c    3\n",
      "dtype: int64\n"
     ]
    }
   ],
   "source": [
    "import pandas as pd\n",
    "\n",
    "csv = pd.read_csv(\"data/ch09_customers.txt\")\n",
    "s = pd.Series({\"a\" : 1, \"b\" : 2, \"c\" : 3})\n",
    "print(s)"
   ]
  },
  {
   "cell_type": "code",
   "execution_count": 4,
   "id": "ee595887",
   "metadata": {},
   "outputs": [
    {
     "name": "stdout",
     "output_type": "stream",
     "text": [
      "a    1\n",
      "b    2\n",
      "c    3\n",
      "dtype: int64\n"
     ]
    }
   ],
   "source": [
    "import pandas as pd\n",
    "s = pd.Series({\"a\" : 1, \"b\" : 2, \"c\" : 3})\n",
    "print(s)"
   ]
  },
  {
   "cell_type": "code",
   "execution_count": 5,
   "id": "e6163321",
   "metadata": {},
   "outputs": [
    {
     "name": "stdout",
     "output_type": "stream",
     "text": [
      "    이름  나이  도시\n",
      "0  김철수  25  서울\n",
      "1  이영희  32  부산\n",
      "2  박민수  19  대구\n",
      "데이터프레임의 차원: (3, 3)\n"
     ]
    }
   ],
   "source": [
    "import pandas as pd\n",
    "data = {\n",
    "    \"이름\": [\"김철수\", \"이영희\", \"박민수\"],\n",
    "    \"나이\": [25, 32, 19],\n",
    "    \"도시\": [\"서울\", \"부산\", \"대구\"]\n",
    "}\n",
    "df = pd.DataFrame(data)\n",
    "print(df)\n",
    "print(\"데이터프레임의 차원:\", df.shape)"
   ]
  },
  {
   "cell_type": "code",
   "execution_count": 6,
   "id": "50099203",
   "metadata": {},
   "outputs": [
    {
     "name": "stdout",
     "output_type": "stream",
     "text": [
      "Index(['이름', '나이', '도시'], dtype='object')\n"
     ]
    }
   ],
   "source": [
    "print(df.columns)"
   ]
  },
  {
   "cell_type": "code",
   "execution_count": 7,
   "id": "c31a3fc4",
   "metadata": {},
   "outputs": [
    {
     "name": "stdout",
     "output_type": "stream",
     "text": [
      "<class 'pandas.core.frame.DataFrame'>\n",
      "RangeIndex: 3 entries, 0 to 2\n",
      "Data columns (total 3 columns):\n",
      " #   Column  Non-Null Count  Dtype \n",
      "---  ------  --------------  ----- \n",
      " 0   이름      3 non-null      object\n",
      " 1   나이      3 non-null      int64 \n",
      " 2   도시      3 non-null      object\n",
      "dtypes: int64(1), object(2)\n",
      "memory usage: 200.0+ bytes\n"
     ]
    }
   ],
   "source": [
    "df.info()"
   ]
  },
  {
   "cell_type": "code",
   "execution_count": 8,
   "id": "074e8951",
   "metadata": {},
   "outputs": [
    {
     "data": {
      "text/html": [
       "<div>\n",
       "<style scoped>\n",
       "    .dataframe tbody tr th:only-of-type {\n",
       "        vertical-align: middle;\n",
       "    }\n",
       "\n",
       "    .dataframe tbody tr th {\n",
       "        vertical-align: top;\n",
       "    }\n",
       "\n",
       "    .dataframe thead th {\n",
       "        text-align: right;\n",
       "    }\n",
       "</style>\n",
       "<table border=\"1\" class=\"dataframe\">\n",
       "  <thead>\n",
       "    <tr style=\"text-align: right;\">\n",
       "      <th></th>\n",
       "      <th>나이</th>\n",
       "    </tr>\n",
       "  </thead>\n",
       "  <tbody>\n",
       "    <tr>\n",
       "      <th>count</th>\n",
       "      <td>3.000000</td>\n",
       "    </tr>\n",
       "    <tr>\n",
       "      <th>mean</th>\n",
       "      <td>25.333333</td>\n",
       "    </tr>\n",
       "    <tr>\n",
       "      <th>std</th>\n",
       "      <td>6.506407</td>\n",
       "    </tr>\n",
       "    <tr>\n",
       "      <th>min</th>\n",
       "      <td>19.000000</td>\n",
       "    </tr>\n",
       "    <tr>\n",
       "      <th>25%</th>\n",
       "      <td>22.000000</td>\n",
       "    </tr>\n",
       "    <tr>\n",
       "      <th>50%</th>\n",
       "      <td>25.000000</td>\n",
       "    </tr>\n",
       "    <tr>\n",
       "      <th>75%</th>\n",
       "      <td>28.500000</td>\n",
       "    </tr>\n",
       "    <tr>\n",
       "      <th>max</th>\n",
       "      <td>32.000000</td>\n",
       "    </tr>\n",
       "  </tbody>\n",
       "</table>\n",
       "</div>"
      ],
      "text/plain": [
       "              나이\n",
       "count   3.000000\n",
       "mean   25.333333\n",
       "std     6.506407\n",
       "min    19.000000\n",
       "25%    22.000000\n",
       "50%    25.000000\n",
       "75%    28.500000\n",
       "max    32.000000"
      ]
     },
     "execution_count": 8,
     "metadata": {},
     "output_type": "execute_result"
    }
   ],
   "source": [
    "df.describe()"
   ]
  },
  {
   "cell_type": "code",
   "execution_count": 9,
   "id": "a171737c",
   "metadata": {},
   "outputs": [
    {
     "data": {
      "text/plain": [
       "0    서울\n",
       "1    부산\n",
       "2    대구\n",
       "Name: 도시, dtype: object"
      ]
     },
     "execution_count": 9,
     "metadata": {},
     "output_type": "execute_result"
    }
   ],
   "source": [
    "column_data = df['도시']\n",
    "column_data"
   ]
  },
  {
   "cell_type": "code",
   "execution_count": 10,
   "id": "d6ebbf43",
   "metadata": {},
   "outputs": [
    {
     "data": {
      "text/html": [
       "<div>\n",
       "<style scoped>\n",
       "    .dataframe tbody tr th:only-of-type {\n",
       "        vertical-align: middle;\n",
       "    }\n",
       "\n",
       "    .dataframe tbody tr th {\n",
       "        vertical-align: top;\n",
       "    }\n",
       "\n",
       "    .dataframe thead th {\n",
       "        text-align: right;\n",
       "    }\n",
       "</style>\n",
       "<table border=\"1\" class=\"dataframe\">\n",
       "  <thead>\n",
       "    <tr style=\"text-align: right;\">\n",
       "      <th></th>\n",
       "      <th>도시</th>\n",
       "      <th>이름</th>\n",
       "    </tr>\n",
       "  </thead>\n",
       "  <tbody>\n",
       "    <tr>\n",
       "      <th>0</th>\n",
       "      <td>서울</td>\n",
       "      <td>김철수</td>\n",
       "    </tr>\n",
       "    <tr>\n",
       "      <th>1</th>\n",
       "      <td>부산</td>\n",
       "      <td>이영희</td>\n",
       "    </tr>\n",
       "    <tr>\n",
       "      <th>2</th>\n",
       "      <td>대구</td>\n",
       "      <td>박민수</td>\n",
       "    </tr>\n",
       "  </tbody>\n",
       "</table>\n",
       "</div>"
      ],
      "text/plain": [
       "   도시   이름\n",
       "0  서울  김철수\n",
       "1  부산  이영희\n",
       "2  대구  박민수"
      ]
     },
     "execution_count": 10,
     "metadata": {},
     "output_type": "execute_result"
    }
   ],
   "source": [
    "selected_columns = df[['도시', '이름']]\n",
    "selected_columns"
   ]
  },
  {
   "cell_type": "code",
   "execution_count": 11,
   "id": "07b236ff",
   "metadata": {},
   "outputs": [
    {
     "data": {
      "text/html": [
       "<div>\n",
       "<style scoped>\n",
       "    .dataframe tbody tr th:only-of-type {\n",
       "        vertical-align: middle;\n",
       "    }\n",
       "\n",
       "    .dataframe tbody tr th {\n",
       "        vertical-align: top;\n",
       "    }\n",
       "\n",
       "    .dataframe thead th {\n",
       "        text-align: right;\n",
       "    }\n",
       "</style>\n",
       "<table border=\"1\" class=\"dataframe\">\n",
       "  <thead>\n",
       "    <tr style=\"text-align: right;\">\n",
       "      <th></th>\n",
       "      <th>이름</th>\n",
       "      <th>나이</th>\n",
       "      <th>도시</th>\n",
       "    </tr>\n",
       "  </thead>\n",
       "  <tbody>\n",
       "    <tr>\n",
       "      <th>0</th>\n",
       "      <td>김철수</td>\n",
       "      <td>25</td>\n",
       "      <td>서울</td>\n",
       "    </tr>\n",
       "  </tbody>\n",
       "</table>\n",
       "</div>"
      ],
      "text/plain": [
       "    이름  나이  도시\n",
       "0  김철수  25  서울"
      ]
     },
     "execution_count": 11,
     "metadata": {},
     "output_type": "execute_result"
    }
   ],
   "source": [
    "df.head(1)"
   ]
  },
  {
   "cell_type": "code",
   "execution_count": 12,
   "id": "4b26f91b",
   "metadata": {},
   "outputs": [
    {
     "data": {
      "text/html": [
       "<div>\n",
       "<style scoped>\n",
       "    .dataframe tbody tr th:only-of-type {\n",
       "        vertical-align: middle;\n",
       "    }\n",
       "\n",
       "    .dataframe tbody tr th {\n",
       "        vertical-align: top;\n",
       "    }\n",
       "\n",
       "    .dataframe thead th {\n",
       "        text-align: right;\n",
       "    }\n",
       "</style>\n",
       "<table border=\"1\" class=\"dataframe\">\n",
       "  <thead>\n",
       "    <tr style=\"text-align: right;\">\n",
       "      <th></th>\n",
       "      <th>이름</th>\n",
       "      <th>나이</th>\n",
       "      <th>도시</th>\n",
       "    </tr>\n",
       "  </thead>\n",
       "  <tbody>\n",
       "    <tr>\n",
       "      <th>2</th>\n",
       "      <td>박민수</td>\n",
       "      <td>19</td>\n",
       "      <td>대구</td>\n",
       "    </tr>\n",
       "  </tbody>\n",
       "</table>\n",
       "</div>"
      ],
      "text/plain": [
       "    이름  나이  도시\n",
       "2  박민수  19  대구"
      ]
     },
     "execution_count": 12,
     "metadata": {},
     "output_type": "execute_result"
    }
   ],
   "source": [
    "df.tail(1)"
   ]
  },
  {
   "cell_type": "code",
   "execution_count": 14,
   "id": "09d22349",
   "metadata": {},
   "outputs": [
    {
     "data": {
      "text/html": [
       "<div>\n",
       "<style scoped>\n",
       "    .dataframe tbody tr th:only-of-type {\n",
       "        vertical-align: middle;\n",
       "    }\n",
       "\n",
       "    .dataframe tbody tr th {\n",
       "        vertical-align: top;\n",
       "    }\n",
       "\n",
       "    .dataframe thead th {\n",
       "        text-align: right;\n",
       "    }\n",
       "</style>\n",
       "<table border=\"1\" class=\"dataframe\">\n",
       "  <thead>\n",
       "    <tr style=\"text-align: right;\">\n",
       "      <th></th>\n",
       "      <th>이름</th>\n",
       "      <th>...</th>\n",
       "      <th>도시</th>\n",
       "    </tr>\n",
       "  </thead>\n",
       "  <tbody>\n",
       "    <tr>\n",
       "      <th>0</th>\n",
       "      <td>김철수</td>\n",
       "      <td>...</td>\n",
       "      <td>서울</td>\n",
       "    </tr>\n",
       "    <tr>\n",
       "      <th>...</th>\n",
       "      <td>...</td>\n",
       "      <td>...</td>\n",
       "      <td>...</td>\n",
       "    </tr>\n",
       "    <tr>\n",
       "      <th>2</th>\n",
       "      <td>박민수</td>\n",
       "      <td>...</td>\n",
       "      <td>대구</td>\n",
       "    </tr>\n",
       "  </tbody>\n",
       "</table>\n",
       "</div>"
      ],
      "text/plain": [
       "     이름  ...  도시\n",
       "0   김철수  ...  서울\n",
       "..  ...  ...  ..\n",
       "2   박민수  ...  대구"
      ]
     },
     "metadata": {},
     "output_type": "display_data"
    }
   ],
   "source": [
    "with pd.option_context('display.max_rows', 2, 'display.max_columns', 2):\n",
    "    pd.set_option(\"show_dimensions\", False)\n",
    "    display(df)"
   ]
  },
  {
   "cell_type": "code",
   "execution_count": 15,
   "id": "c1a0fb51",
   "metadata": {},
   "outputs": [
    {
     "name": "stdout",
     "output_type": "stream",
     "text": [
      "이름    김철수\n",
      "나이     25\n",
      "도시     서울\n",
      "Name: 0, dtype: object\n"
     ]
    }
   ],
   "source": [
    "row = df.loc[0]\n",
    "print(row)"
   ]
  },
  {
   "cell_type": "code",
   "execution_count": 16,
   "id": "dc46ebe1",
   "metadata": {},
   "outputs": [
    {
     "data": {
      "text/html": [
       "<div>\n",
       "<style scoped>\n",
       "    .dataframe tbody tr th:only-of-type {\n",
       "        vertical-align: middle;\n",
       "    }\n",
       "\n",
       "    .dataframe tbody tr th {\n",
       "        vertical-align: top;\n",
       "    }\n",
       "\n",
       "    .dataframe thead th {\n",
       "        text-align: right;\n",
       "    }\n",
       "</style>\n",
       "<table border=\"1\" class=\"dataframe\">\n",
       "  <thead>\n",
       "    <tr style=\"text-align: right;\">\n",
       "      <th></th>\n",
       "      <th>이름</th>\n",
       "      <th>나이</th>\n",
       "      <th>도시</th>\n",
       "    </tr>\n",
       "  </thead>\n",
       "  <tbody>\n",
       "    <tr>\n",
       "      <th>0</th>\n",
       "      <td>김철수</td>\n",
       "      <td>25</td>\n",
       "      <td>서울</td>\n",
       "    </tr>\n",
       "    <tr>\n",
       "      <th>2</th>\n",
       "      <td>박민수</td>\n",
       "      <td>19</td>\n",
       "      <td>대구</td>\n",
       "    </tr>\n",
       "  </tbody>\n",
       "</table>\n",
       "</div>"
      ],
      "text/plain": [
       "    이름  나이  도시\n",
       "0  김철수  25  서울\n",
       "2  박민수  19  대구"
      ]
     },
     "execution_count": 16,
     "metadata": {},
     "output_type": "execute_result"
    }
   ],
   "source": [
    "# 리스트로 여러 행(첫번째 행 '0'과 세번째 행 '2') 선택\n",
    "selected_rows1 = df.loc[[0, 2]]\n",
    "selected_rows1"
   ]
  },
  {
   "cell_type": "code",
   "execution_count": 17,
   "id": "ae1af10a",
   "metadata": {},
   "outputs": [
    {
     "data": {
      "text/plain": [
       "0    서울\n",
       "1    부산\n",
       "2    대구\n",
       "Name: 도시, dtype: object"
      ]
     },
     "execution_count": 17,
     "metadata": {},
     "output_type": "execute_result"
    }
   ],
   "source": [
    "# df의 모든 행에 대한 \"도시\" 열 데이터 선택\n",
    "selected_column = df.loc[:, '도시']\n",
    "selected_column"
   ]
  },
  {
   "cell_type": "code",
   "execution_count": 18,
   "id": "99c7e916",
   "metadata": {},
   "outputs": [
    {
     "name": "stdout",
     "output_type": "stream",
     "text": [
      "   도시   이름\n",
      "0  서울  김철수\n",
      "1  부산  이영희\n",
      "2  대구  박민수\n"
     ]
    }
   ],
   "source": [
    "# df에서 '도시'과 '이름' 열을 선택\n",
    "selected_columns1 = df.loc[:, ['도시', '이름']]\n",
    "print(selected_columns1)"
   ]
  },
  {
   "cell_type": "code",
   "execution_count": 19,
   "id": "436c9d52",
   "metadata": {},
   "outputs": [
    {
     "name": "stdout",
     "output_type": "stream",
     "text": [
      "   나이  도시\n",
      "0  25  서울\n",
      "1  32  부산\n",
      "2  19  대구\n"
     ]
    }
   ],
   "source": [
    "# df에서 '나이'부터 '도시' 열까지 선택\n",
    "selected_columns2 = df.loc[:, '나이':'도시']\n",
    "print(selected_columns2)"
   ]
  },
  {
   "cell_type": "code",
   "execution_count": 20,
   "id": "2622b02b",
   "metadata": {},
   "outputs": [
    {
     "data": {
      "text/plain": [
       "'김철수'"
      ]
     },
     "execution_count": 20,
     "metadata": {},
     "output_type": "execute_result"
    }
   ],
   "source": [
    "# '이름' 열의 첫번째 행 '0'\n",
    "selected_value = df.loc[0, '이름']\n",
    "selected_value"
   ]
  },
  {
   "cell_type": "code",
   "execution_count": 21,
   "id": "b5efc8d3",
   "metadata": {},
   "outputs": [
    {
     "data": {
      "text/html": [
       "<div>\n",
       "<style scoped>\n",
       "    .dataframe tbody tr th:only-of-type {\n",
       "        vertical-align: middle;\n",
       "    }\n",
       "\n",
       "    .dataframe tbody tr th {\n",
       "        vertical-align: top;\n",
       "    }\n",
       "\n",
       "    .dataframe thead th {\n",
       "        text-align: right;\n",
       "    }\n",
       "</style>\n",
       "<table border=\"1\" class=\"dataframe\">\n",
       "  <thead>\n",
       "    <tr style=\"text-align: right;\">\n",
       "      <th></th>\n",
       "      <th>이름</th>\n",
       "      <th>나이</th>\n",
       "    </tr>\n",
       "  </thead>\n",
       "  <tbody>\n",
       "    <tr>\n",
       "      <th>1</th>\n",
       "      <td>이영희</td>\n",
       "      <td>32</td>\n",
       "    </tr>\n",
       "    <tr>\n",
       "      <th>2</th>\n",
       "      <td>박민수</td>\n",
       "      <td>19</td>\n",
       "    </tr>\n",
       "  </tbody>\n",
       "</table>\n",
       "</div>"
      ],
      "text/plain": [
       "    이름  나이\n",
       "1  이영희  32\n",
       "2  박민수  19"
      ]
     },
     "execution_count": 21,
     "metadata": {},
     "output_type": "execute_result"
    }
   ],
   "source": [
    "# '이름'과 '나이' 열의 두번째 행부터 세번째 행까지 데이터 선택\n",
    "selected_values = df.loc[1:2, ['이름', '나이']]\n",
    "selected_values"
   ]
  },
  {
   "cell_type": "code",
   "execution_count": 22,
   "id": "46bb4747",
   "metadata": {},
   "outputs": [
    {
     "name": "stdout",
     "output_type": "stream",
     "text": [
      "이름    김철수\n",
      "나이     25\n",
      "도시     서울\n",
      "Name: 0, dtype: object\n",
      "------------------------\n",
      "0    25\n",
      "1    32\n",
      "2    19\n",
      "Name: 나이, dtype: int64\n"
     ]
    }
   ],
   "source": [
    "# 첫번째 행 선택\n",
    "row = df.iloc[0]\n",
    "\n",
    "# 두번째 열 선택\n",
    "column = df.iloc[:, 1]\n",
    "\n",
    "print(row)\n",
    "print('------------------------')\n",
    "print(column)"
   ]
  },
  {
   "cell_type": "code",
   "execution_count": 23,
   "id": "ab2790d7",
   "metadata": {},
   "outputs": [
    {
     "name": "stdout",
     "output_type": "stream",
     "text": [
      "    이름  나이  도시\n",
      "0  김철수  25  서울\n",
      "1  이영희  32  부산\n",
      "------------------------\n",
      "   나이\n",
      "0  25\n",
      "1  32\n",
      "2  19\n"
     ]
    }
   ],
   "source": [
    "# 첫번째부터 두번째(세번째 행은 포함되지 않음) 행 선택\n",
    "rows_iloc = df.iloc[0:2]\n",
    "\n",
    "# 두번째(세번째 열은 포함되지 않음) 열 선택\n",
    "columns_iloc = df.iloc[:, 1:2]\n",
    "\n",
    "print(rows_iloc)\n",
    "print('------------------------')\n",
    "print(columns_iloc)"
   ]
  },
  {
   "cell_type": "code",
   "execution_count": 25,
   "id": "7166f5ba",
   "metadata": {},
   "outputs": [
    {
     "name": "stdout",
     "output_type": "stream",
     "text": [
      "    이름  나이  도시\n",
      "0  김철수  25  서울\n",
      "1  이영희  32  부산\n",
      "2  박민수  19  대구\n",
      "------------------------\n",
      "   나이  도시\n",
      "0  25  서울\n",
      "1  32  부산\n",
      "2  19  대구\n"
     ]
    }
   ],
   "source": [
    "# 첫번째부터 두번째(세번째는 포함되지 않음) 행 선택\n",
    "rows_loc = df.loc[0:2]\n",
    "\n",
    "# 두번째부터 세번째 열 선택\n",
    "columns_loc = df.loc[:, '나이':'도시']\n",
    "\n",
    "print(rows_loc)\n",
    "print('------------------------')\n",
    "print(columns_loc)"
   ]
  },
  {
   "cell_type": "code",
   "execution_count": 26,
   "id": "bf64859a",
   "metadata": {},
   "outputs": [
    {
     "name": "stdout",
     "output_type": "stream",
     "text": [
      "    이름  나이  도시\n",
      "0  김철수  25  서울\n",
      "2  박민수  19  대구\n",
      "------------------------\n",
      "    이름  도시\n",
      "0  김철수  서울\n",
      "1  이영희  부산\n",
      "2  박민수  대구\n"
     ]
    }
   ],
   "source": [
    "# 첫번째, 세번째 행 선택\n",
    "rows_list = df.iloc[[0, 2]]\n",
    "\n",
    "# 첫번째, 세번째 열 선택\n",
    "columns_list = df.iloc[:, [0, 2]]\n",
    "\n",
    "print(rows_list)\n",
    "print('------------------------')\n",
    "print(columns_list)"
   ]
  },
  {
   "cell_type": "code",
   "execution_count": null,
   "id": "6faea02d",
   "metadata": {},
   "outputs": [],
   "source": []
  }
 ],
 "metadata": {
  "kernelspec": {
   "display_name": "Python 3 (ipykernel)",
   "language": "python",
   "name": "python3"
  },
  "language_info": {
   "codemirror_mode": {
    "name": "ipython",
    "version": 3
   },
   "file_extension": ".py",
   "mimetype": "text/x-python",
   "name": "python",
   "nbconvert_exporter": "python",
   "pygments_lexer": "ipython3",
   "version": "3.10.9"
  },
  "toc": {
   "base_numbering": 1,
   "nav_menu": {},
   "number_sections": false,
   "sideBar": true,
   "skip_h1_title": false,
   "title_cell": "Table of Contents",
   "title_sidebar": "Contents",
   "toc_cell": false,
   "toc_position": {},
   "toc_section_display": true,
   "toc_window_display": false
  }
 },
 "nbformat": 4,
 "nbformat_minor": 5
}
